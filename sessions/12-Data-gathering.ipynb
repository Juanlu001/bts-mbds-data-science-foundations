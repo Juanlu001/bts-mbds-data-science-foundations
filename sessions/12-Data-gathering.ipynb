{
 "cells": [
  {
   "cell_type": "markdown",
   "metadata": {},
   "source": [
    "![BTS](img/Logo-BTS.jpg)\n",
    "\n",
    "# Session 12: Data gathering\n",
    "\n",
    "### Juan Luis Cano Rodríguez <juan.cano@bts.tech> - Data Science Foundations (2018-11-16)\n",
    "\n",
    "Open this notebook in Google Colaboratory: [![Open in Colab](https://colab.research.google.com/assets/colab-badge.svg)](https://colab.research.google.com/github/Juanlu001/bts-mbds-data-science-foundations/blob/master/sessions/12-Data-gathering.ipynb)"
   ]
  },
  {
   "cell_type": "markdown",
   "metadata": {},
   "source": [
    "## Exercise 1: Extract gender from names\n",
    "\n",
    "<div class=\"alert alert-danger\">The <code>genderize.io</code> API is rate limited, and if you make too many requests you might not be able to continue with the exercise. Avoid making too many queries in a short period of time.</div>\n",
    "\n",
    "1. Create a function that returns the list of **first names** from the data below\n",
    "2. Use https://genderize.io/ with your name. Does it give the correct gender?\n",
    "3. Include your home country as part of the query as explained in https://genderize.io/. Does it change the result or the probability?\n",
    "4. Write a function that receives a string and returns the same string in lowercase **without** special characters\n",
    "5. Write a funtion that receives a name and, if the status code is correct, returns the result, and otherwise prints some error message and returns an empty dictionary\n",
    "6. Modify this function so it **does not** repeat a request to `genderize.io` if the name was already requested before (keyword: cache)\n",
    "7. Plot a bar chart with the probability of each name. Do the same with the counts.\n",
    "8. Create another function with cache that downloads the data for all the names **in one request** and returns a pandas `DataFrame`"
   ]
  },
  {
   "cell_type": "code",
   "execution_count": 1,
   "metadata": {},
   "outputs": [],
   "source": [
    "names = [\n",
    "    \"Benjamin Wein\",\n",
    "    \"Francisco Coreas\",\n",
    "    \"Jordi Hurtado\",\n",
    "    \"Jonas Cristens\",\n",
    "    \"Allison Walker\",\n",
    "    \"Cen Liang\",\n",
    "    \"Mahmouhd Belhaj\",\n",
    "    \"David Ordóñez\",\n",
    "    \"Sebastián Natalevich\",\n",
    "    \"Alan Kwan\",\n",
    "    \"Anastasia Gracheva\",\n",
    "    \"Pelin Gundogdu\",\n",
    "    \"Sibasis Dash\",\n",
    "    \"Bekzod Sharipov\",\n",
    "    \"Annalaura Ianiro\",\n",
    "    \"Christian Siever\",\n",
    "    \"Seung Bin Yoo\",\n",
    "    \"Miah Mohammad Rashedeul Hasan\",\n",
    "]"
   ]
  },
  {
   "cell_type": "code",
   "execution_count": null,
   "metadata": {},
   "outputs": [],
   "source": []
  },
  {
   "cell_type": "markdown",
   "metadata": {},
   "source": [
    "## Exercise 2: `GET` vs `POST`\n",
    "\n",
    "1. Use http://postcodes.io/ to compare how to make a request using `GET` or `POST`."
   ]
  },
  {
   "cell_type": "code",
   "execution_count": null,
   "metadata": {},
   "outputs": [],
   "source": []
  },
  {
   "cell_type": "markdown",
   "metadata": {},
   "source": [
    "## Exercise 3: Postcode data\n",
    "\n",
    "1. Register in https://geoapi.es/ (in Spanish, get aid by Google Translate or the Spaniards in the room) to obtain an API key\n",
    "2. Look for the endpoint that lists all the communities (\"comunidades\") in Spain \n",
    "2. Create a function that receives the name of a community in Spain (\"Andalucía\", \"Cataluña\") and retrieves the code (`CCOM`) of that community\n",
    "3. Create a function that receives the name of a community and lists all its provinces (\"provincias\")\n",
    "4. Create a function that receives the name of a province and lists all its zipcodes (\"códigos postales\")"
   ]
  },
  {
   "cell_type": "code",
   "execution_count": null,
   "metadata": {},
   "outputs": [],
   "source": []
  }
 ],
 "metadata": {
  "kernelspec": {
   "display_name": "Python 3",
   "language": "python",
   "name": "python3"
  },
  "language_info": {
   "codemirror_mode": {
    "name": "ipython",
    "version": 3
   },
   "file_extension": ".py",
   "mimetype": "text/x-python",
   "name": "python",
   "nbconvert_exporter": "python",
   "pygments_lexer": "ipython3",
   "version": "3.6.6"
  }
 },
 "nbformat": 4,
 "nbformat_minor": 2
}
