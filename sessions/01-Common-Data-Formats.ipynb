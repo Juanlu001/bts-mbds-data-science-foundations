{
 "cells": [
  {
   "cell_type": "markdown",
   "metadata": {},
   "source": [
    "![BTS](img/Logo-BTS.jpg)\n",
    "\n",
    "# Session 1: Common data formats\n",
    "\n",
    "### Juan Luis Cano Rodríguez <juan.cano@bts.tech> - Data Science Foundations (2018-10-01)\n",
    "\n",
    "Open this notebook in Google Colaboratory: [![Open in Colab](https://colab.research.google.com/assets/colab-badge.svg)](https://colab.research.google.com/github/Juanlu001/bts-mbds-data-science-foundations/blob/master/sessions/01-Common-Data-Formats.ipynb)"
   ]
  },
  {
   "cell_type": "markdown",
   "metadata": {},
   "source": [
    "## Exercise 1: CSV\n",
    "\n",
    "Analize the data of the JetBrains 2017 Python survey https://www.jetbrains.com/research/python-developers-survey-2017/\n",
    "\n",
    "1. Download raw data from http://jb.gg/pythondevsurvey2017raw\n",
    "2. Read it in pandas\n",
    "3. Reproduce \"What do you use Python for the most? (single answer)\" chart\n",
    "4. Reproduce \"What do you use Python for? (multiple answers)\" chart"
   ]
  },
  {
   "cell_type": "code",
   "execution_count": null,
   "metadata": {},
   "outputs": [],
   "source": []
  },
  {
   "cell_type": "markdown",
   "metadata": {},
   "source": [
    "## Exercise 2: JSON\n",
    "\n",
    "Load a simple JSON dataset in pandas and analyze a nested one that cannot be directly loaded into a table.\n",
    "\n",
    "1. Download Near-Earth Asteroids and Comets dataset https://data.nasa.gov/resource/2vr3-k9wn.json (discovered in https://github.com/jdorfman/awesome-json-datasets#nasa)\n",
    "2. Load it in pandas and print a statistical summary of the data\n",
    "3. Download the Nobel Prizes dataset Nobel prizes http://api.nobelprize.org/v1/prize.json (discovered in https://github.com/jdorfman/awesome-json-datasets#nobel-prize)\n",
    "4. Try to load it in pandas. What happens?\n",
    "5. How many years are covered?\n",
    "6. Which categories are there in 2017?\n",
    "7. Print all the information of the Physics laureates of 2017\n",
    "8. Return the surnames of the Physics laureates of 2017 "
   ]
  },
  {
   "cell_type": "code",
   "execution_count": null,
   "metadata": {},
   "outputs": [],
   "source": []
  },
  {
   "cell_type": "markdown",
   "metadata": {},
   "source": [
    "## Exercise 3: Parquet\n",
    "\n",
    "Analyze the git history of the NumPy project.\n",
    "\n",
    "1. Download the NumPy commit history in parquet format from https://s3.amazonaws.com/gitential-datasets/numpy-numpy/commits.parquet (discovered in https://github.com/gitential/datasets)\n",
    "2. Load it in pandas\n",
    "3. Who is the author with the most commits? \n",
    "4. Who is the author of the most commits during 2006 to 2008 (included)?\n",
    "5. How many active committers have been each year? Should we worry? "
   ]
  },
  {
   "cell_type": "code",
   "execution_count": null,
   "metadata": {},
   "outputs": [],
   "source": []
  }
 ],
 "metadata": {
  "kernelspec": {
   "display_name": "Python 3",
   "language": "python",
   "name": "python3"
  },
  "language_info": {
   "codemirror_mode": {
    "name": "ipython",
    "version": 3
   },
   "file_extension": ".py",
   "mimetype": "text/x-python",
   "name": "python",
   "nbconvert_exporter": "python",
   "pygments_lexer": "ipython3",
   "version": "3.6.6"
  }
 },
 "nbformat": 4,
 "nbformat_minor": 2
}
