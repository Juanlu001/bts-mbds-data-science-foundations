{
 "cells": [
  {
   "cell_type": "markdown",
   "metadata": {},
   "source": [
    "![BTS](img/Logo-BTS.jpg)\n",
    "\n",
    "# Session 14: Feature Engineering\n",
    "\n",
    "### Juan Luis Cano Rodríguez <juan.cano@bts.tech> - Data Science Foundations (2018-11-16)\n",
    "\n",
    "Open this notebook in Google Colaboratory: [![Open in Colab](https://colab.research.google.com/assets/colab-badge.svg)](https://colab.research.google.com/github/Juanlu001/bts-mbds-data-science-foundations/blob/master/sessions/14-Feature-Engineering.ipynb)"
   ]
  },
  {
   "cell_type": "markdown",
   "metadata": {},
   "source": [
    "## Exercise 1: Feature engineering on grocery sales dataset\n",
    "\n",
    "We will perform some feature engineering on the \"Corporación Favorita Grocery Sales Forecasting\" Kaggle competition dataset:\n",
    "\n",
    "https://www.kaggle.com/c/favorita-grocery-sales-forecasting/data\n",
    "\n",
    "You already have a sample to play with.\n",
    "\n",
    "1. Load all the datasets, with attention to: dates, _unique_ indexes, numerical variables that are in fact categorical variables\n",
    "2. Create a new column `is_countable` in `train_sample` that is `True` if the `unit_sales` field is always integer and `False` if it contains floats. _Tip: If you substract `values - values.astype(int)` and the result is always zero, you can consider `values` as integer_.\n",
    "3. Create a new column `is_holiday` in `train_sample` and `transactions` that is `True` if the day is a weekend (**non working Saturday** or Sunday) or a non-transferred holiday and `False` otherwise.\n",
    "4. There are `NaN` values in the `onpromotion` column. Try to fill them using some strategy better than the baseline: `NaN -> False`. Did you discover any products that could have been in promotion this way?\n",
    "5. Look online for population and latitude/longitude data of each city to add new columns to the `stores` dataset. Is each city the capital of its state? "
   ]
  },
  {
   "cell_type": "code",
   "execution_count": null,
   "metadata": {},
   "outputs": [],
   "source": []
  }
 ],
 "metadata": {
  "kernelspec": {
   "display_name": "Python 3",
   "language": "python",
   "name": "python3"
  },
  "language_info": {
   "codemirror_mode": {
    "name": "ipython",
    "version": 3
   },
   "file_extension": ".py",
   "mimetype": "text/x-python",
   "name": "python",
   "nbconvert_exporter": "python",
   "pygments_lexer": "ipython3",
   "version": "3.6.6"
  }
 },
 "nbformat": 4,
 "nbformat_minor": 2
}
