{
 "cells": [
  {
   "cell_type": "markdown",
   "metadata": {},
   "source": [
    "## ![BTS](img/Logo-BTS.jpg)\n",
    "\n",
    "# Session 21: Sentiment Analysis\n",
    "\n",
    "### Juan Luis Cano Rodríguez <juan.cano@bts.tech> - Data Science Foundations (2018-12-11)\n",
    "\n",
    "Open this notebook in Google Colaboratory: [![Open in Colab](https://colab.research.google.com/assets/colab-badge.svg)](https://colab.research.google.com/github/Juanlu001/bts-mbds-data-science-foundations/blob/master/sessions/21-Sentiment-Analysis.ipynb)"
   ]
  },
  {
   "cell_type": "markdown",
   "metadata": {},
   "source": [
    "## Extra: scikit-learn helpers\n",
    "\n",
    "There are several libraries that provide higher level tools to evaluate and visualize scikit-learn models, for example:\n",
    "\n",
    "* https://github.com/reiinakano/scikit-plot\n",
    "* https://github.com/DistrictDataLabs/yellowbrick\n",
    "* https://github.com/rasbt/mlxtend\n",
    "\n",
    "Using the \"astrological method\" to rank popularity (that is, counting stars on GitHub) the top one is mlxtend. But using the \"provides way to plot confusion matrix **with class names** automatically\" metric, the best one is scikit-plot, which is the one we will use."
   ]
  },
  {
   "cell_type": "code",
   "execution_count": 1,
   "metadata": {},
   "outputs": [
    {
     "name": "stdout",
     "output_type": "stream",
     "text": [
      "Requirement already satisfied: scikit-plot in /home/juanlu/.miniconda36/envs/bts36/lib/python3.6/site-packages (0.3.7)\n",
      "Requirement already satisfied: scikit-learn>=0.18 in /home/juanlu/.miniconda36/envs/bts36/lib/python3.6/site-packages (from scikit-plot) (0.20.0)\n",
      "Requirement already satisfied: scipy>=0.9 in /home/juanlu/.miniconda36/envs/bts36/lib/python3.6/site-packages (from scikit-plot) (1.1.0)\n",
      "Requirement already satisfied: matplotlib>=1.4.0 in /home/juanlu/.miniconda36/envs/bts36/lib/python3.6/site-packages (from scikit-plot) (3.0.1)\n",
      "Requirement already satisfied: joblib>=0.10 in /home/juanlu/.miniconda36/envs/bts36/lib/python3.6/site-packages (from scikit-plot) (0.13.0)\n",
      "Requirement already satisfied: numpy>=1.8.2 in /home/juanlu/.miniconda36/envs/bts36/lib/python3.6/site-packages (from scikit-learn>=0.18->scikit-plot) (1.15.2)\n",
      "Requirement already satisfied: cycler>=0.10 in /home/juanlu/.miniconda36/envs/bts36/lib/python3.6/site-packages (from matplotlib>=1.4.0->scikit-plot) (0.10.0)\n",
      "Requirement already satisfied: kiwisolver>=1.0.1 in /home/juanlu/.miniconda36/envs/bts36/lib/python3.6/site-packages (from matplotlib>=1.4.0->scikit-plot) (1.0.1)\n",
      "Requirement already satisfied: pyparsing!=2.0.4,!=2.1.2,!=2.1.6,>=2.0.1 in /home/juanlu/.miniconda36/envs/bts36/lib/python3.6/site-packages (from matplotlib>=1.4.0->scikit-plot) (2.2.1)\n",
      "Requirement already satisfied: python-dateutil>=2.1 in /home/juanlu/.miniconda36/envs/bts36/lib/python3.6/site-packages (from matplotlib>=1.4.0->scikit-plot) (2.7.3)\n",
      "Requirement already satisfied: six in /home/juanlu/.miniconda36/envs/bts36/lib/python3.6/site-packages (from cycler>=0.10->matplotlib>=1.4.0->scikit-plot) (1.11.0)\n",
      "Requirement already satisfied: setuptools in /home/juanlu/.miniconda36/envs/bts36/lib/python3.6/site-packages (from kiwisolver>=1.0.1->matplotlib>=1.4.0->scikit-plot) (40.4.0)\n"
     ]
    }
   ],
   "source": [
    "!pip install scikit-plot"
   ]
  },
  {
   "cell_type": "markdown",
   "metadata": {},
   "source": [
    "## Exercise 1: Preprocessing\n",
    "\n",
    "1. Download the \"Large Movie Review Dataset\" from http://ai.stanford.edu/~amaas/data/sentiment/\n",
    "2. Read all the text files from `aclImdb/train/pos/` and `aclImdb/train/neg/` into a pandas DataFrame called `train` with two columns: `review` (the text itself) and `sentiment` (`positive` or `negative`) (_Hint: Use the `glob` module_)\n",
    "\n",
    "<table class=\"dataframe\" border=\"1\">\n",
    "  <thead>\n",
    "    <tr style=\"text-align: right;\">\n",
    "      <th></th>\n",
    "      <th>review</th>\n",
    "      <th>sentiment</th>\n",
    "    </tr>\n",
    "  </thead>\n",
    "  <tbody>\n",
    "    <tr>\n",
    "      <th>0</th>\n",
    "      <td>Today's sci-fi thrillers are more like Rambo i...</td>\n",
    "      <td>positive</td>\n",
    "    </tr>\n",
    "    <tr>\n",
    "      <th>1</th>\n",
    "      <td>I had the pleasure of seeing this film at the ...</td>\n",
    "      <td>positive</td>\n",
    "    </tr>\n",
    "    <tr>\n",
    "      <th>2</th>\n",
    "      <td>Deliriously romantic comedy with intertwining ...</td>\n",
    "      <td>positive</td>\n",
    "    </tr>\n",
    "    <tr>\n",
    "      <th>3</th>\n",
    "      <td>This movie is a fantastic movie. Everything ab...</td>\n",
    "      <td>positive</td>\n",
    "    </tr>\n",
    "    <tr>\n",
    "      <th>4</th>\n",
    "      <td>The documentary begins with setting the perspe...</td>\n",
    "      <td>positive</td>\n",
    "    </tr>\n",
    "  </tbody>\n",
    "</table>\n",
    "\n",
    "3. Do the same thing with `data_test`\n",
    "4. Create a `TfidfVectorizer` with:\n",
    "  * a _preprocessing_ step that removes the spurious `<br />` tags from the text,\n",
    "  * a _tokenizing_ step that uses Spacy to lemmatize the words, and\n",
    "  * its list of `stop_words` coming from Spacy\n",
    "\n",
    "(_Hint:_ https://scikit-learn.org/stable/modules/feature_extraction.html#customizing-the-vectorizer-classes)"
   ]
  },
  {
   "cell_type": "code",
   "execution_count": 4,
   "metadata": {},
   "outputs": [],
   "source": [
    "import tarfile"
   ]
  },
  {
   "cell_type": "code",
   "execution_count": 20,
   "metadata": {},
   "outputs": [],
   "source": [
    "import pandas as pd"
   ]
  },
  {
   "cell_type": "code",
   "execution_count": 9,
   "metadata": {},
   "outputs": [],
   "source": [
    "tarfile.open(\"data/aclImdb_v1.tar.gz\").extractall(\"data/imdb_tgz/\")"
   ]
  },
  {
   "cell_type": "code",
   "execution_count": 12,
   "metadata": {},
   "outputs": [],
   "source": [
    "import glob"
   ]
  },
  {
   "cell_type": "code",
   "execution_count": 23,
   "metadata": {},
   "outputs": [],
   "source": [
    "texts = []\n",
    "for file_path in glob.glob(\"data/aclImdb/train/pos/*.txt\"):\n",
    "    with open(file_path, encoding='utf8') as fp:\n",
    "        texts.append(fp.read())\n",
    "\n",
    "train_positive = pd.DataFrame({\n",
    "    'reviews': texts,\n",
    "    'sentiment': 'positive',\n",
    "})"
   ]
  },
  {
   "cell_type": "code",
   "execution_count": 24,
   "metadata": {},
   "outputs": [],
   "source": [
    "texts = []\n",
    "for file_path in glob.glob(\"data/aclImdb/train/neg/*.txt\"):\n",
    "    with open(file_path, encoding='utf8') as fp:\n",
    "        texts.append(fp.read())\n",
    "\n",
    "train_negative = pd.DataFrame({\n",
    "    'reviews': texts,\n",
    "    'sentiment': 'negative',\n",
    "})"
   ]
  },
  {
   "cell_type": "code",
   "execution_count": 190,
   "metadata": {},
   "outputs": [],
   "source": [
    "train = pd.concat([train_positive, train_negative]).reset_index(drop=True)\n",
    "train[\"reviews\"] = train[\"reviews\"].str.replace(\"<br />\", ' ')"
   ]
  },
  {
   "cell_type": "code",
   "execution_count": 34,
   "metadata": {},
   "outputs": [],
   "source": [
    "texts = []\n",
    "for file_path in glob.glob(\"data/aclImdb/test/pos/*.txt\"):\n",
    "    with open(file_path, encoding='utf8') as fp:\n",
    "        texts.append(fp.read())\n",
    "\n",
    "test_positive = pd.DataFrame({\n",
    "    'reviews': texts,\n",
    "    'sentiment': 'positive',\n",
    "})"
   ]
  },
  {
   "cell_type": "code",
   "execution_count": 35,
   "metadata": {},
   "outputs": [],
   "source": [
    "texts = []\n",
    "for file_path in glob.glob(\"data/aclImdb/test/neg/*.txt\"):\n",
    "    with open(file_path, encoding='utf8') as fp:\n",
    "        texts.append(fp.read())\n",
    "\n",
    "test_negative = pd.DataFrame({\n",
    "    'reviews': texts,\n",
    "    'sentiment': 'negative',\n",
    "})"
   ]
  },
  {
   "cell_type": "code",
   "execution_count": 191,
   "metadata": {},
   "outputs": [],
   "source": [
    "test = pd.concat([test_positive, test_negative]).reset_index(drop=True)\n",
    "test[\"reviews\"] = test[\"reviews\"].str.replace(\"<br />\", ' ')"
   ]
  },
  {
   "cell_type": "code",
   "execution_count": 37,
   "metadata": {},
   "outputs": [],
   "source": [
    "import spacy"
   ]
  },
  {
   "cell_type": "code",
   "execution_count": 38,
   "metadata": {},
   "outputs": [],
   "source": [
    "nlp = spacy.load(\"en_core_web_sm\")"
   ]
  },
  {
   "cell_type": "code",
   "execution_count": 192,
   "metadata": {},
   "outputs": [
    {
     "data": {
      "text/plain": [
       "\"OK where do i begin?... This movie changed my life! The plot was seamless. James Cahill has out done himself. Initially after a first viewing i was disappointed that i hadn't seen it on the silver screen. However this was before exploring the DVD's many features!!!! Oh my god Jakes Cahill's commentary of the film was almost as flawless as his acting. he told of industry secrets used in the film that you only get with experience.  I was so impressed by the other actors. The scene where the security guard is talking to the girl in the hallway, reminded me of some of my favorite blue (pornographic) movies. I am certainly with Gangsta when he expresses his disappointment with no sequel.  I am still blown away with each viewing of the martial arts skills involved, matched only by the sign indicating the location of the library at the school... and possibly the guy playing a retard! All in all a timeless classic and the best film to come out of Europe in years! where my Oscars at dawn!!!!!!!!!!!\""
      ]
     },
     "execution_count": 192,
     "metadata": {},
     "output_type": "execute_result"
    }
   ],
   "source": [
    "train.loc[10, 'reviews']"
   ]
  },
  {
   "cell_type": "code",
   "execution_count": 118,
   "metadata": {},
   "outputs": [],
   "source": [
    "from spacy.lang.en import STOP_WORDS"
   ]
  },
  {
   "cell_type": "code",
   "execution_count": 120,
   "metadata": {},
   "outputs": [],
   "source": [
    "def tokenize(text):\n",
    "    doc = nlp(text)\n",
    "    return [\n",
    "        token.lemma_ for token in doc\n",
    "        if not token.is_punct\n",
    "        and not token.is_space\n",
    "        and not token.tag_ == \"POS\"\n",
    "        and not token.lower_ in STOP_WORDS\n",
    "    ]"
   ]
  },
  {
   "cell_type": "code",
   "execution_count": 121,
   "metadata": {},
   "outputs": [],
   "source": [
    "def preprocess(text):\n",
    "    return text.replace('<br />', ' ')"
   ]
  },
  {
   "cell_type": "code",
   "execution_count": 123,
   "metadata": {},
   "outputs": [
    {
     "name": "stdout",
     "output_type": "stream",
     "text": [
      "['ok', 'begin', 'movie', 'change', 'life', 'plot', 'seamless', 'james', 'cahill', 'initially', 'view', 'disappointed', 'not', 'see', 'silver', 'screen', 'explore', 'dvd', 'feature', 'oh', 'god', 'jakes', 'cahill', 'commentary', 'film', 'flawless', 'acting', 'tell', 'industry', 'secret', 'film', 'experience', 'impressed', 'actor', 'scene', 'security', 'guard', 'talk', 'girl', 'hallway', 'remind', 'favorite', 'blue', 'pornographic', 'movie', 'certainly', 'gangsta', 'express', 'disappointment', 'sequel', 'blow', 'away', 'viewing', 'martial', 'art', 'skill', 'involve', 'match', 'sign', 'indicate', 'location', 'library', 'school', 'possibly', 'guy', 'play', 'retard', 'timeless', 'classic', 'good', 'film', 'come', 'europe', 'year', 'oscars', 'dawn']\n"
     ]
    }
   ],
   "source": [
    "print(tokenize(preprocess(train_positive.loc[10, 'reviews'])))"
   ]
  },
  {
   "cell_type": "code",
   "execution_count": 139,
   "metadata": {},
   "outputs": [],
   "source": [
    "from sklearn.feature_extraction.text import TfidfVectorizer, CountVectorizer"
   ]
  },
  {
   "cell_type": "code",
   "execution_count": 187,
   "metadata": {},
   "outputs": [],
   "source": [
    "slow_vect = TfidfVectorizer(\n",
    "    tokenizer=tokenize,\n",
    ")\n",
    "#vect = CountVectorizer()"
   ]
  },
  {
   "cell_type": "code",
   "execution_count": 197,
   "metadata": {},
   "outputs": [],
   "source": [
    "fast_vect = TfidfVectorizer(\n",
    "    stop_words=STOP_WORDS,\n",
    ")"
   ]
  },
  {
   "cell_type": "code",
   "execution_count": 188,
   "metadata": {},
   "outputs": [
    {
     "name": "stdout",
     "output_type": "stream",
     "text": [
      "726 ms ± 80.4 ms per loop (mean ± std. dev. of 7 runs, 1 loop each)\n"
     ]
    }
   ],
   "source": [
    "%timeit slow_vect.fit_transform(train_positive.loc[:10, 'reviews'])"
   ]
  },
  {
   "cell_type": "code",
   "execution_count": 189,
   "metadata": {
    "scrolled": true
   },
   "outputs": [
    {
     "name": "stdout",
     "output_type": "stream",
     "text": [
      "4.45 ms ± 121 µs per loop (mean ± std. dev. of 7 runs, 100 loops each)\n"
     ]
    }
   ],
   "source": [
    "%timeit fast_vect.fit_transform(train_positive.loc[:10, 'reviews'])"
   ]
  },
  {
   "cell_type": "code",
   "execution_count": null,
   "metadata": {},
   "outputs": [],
   "source": []
  },
  {
   "cell_type": "code",
   "execution_count": null,
   "metadata": {},
   "outputs": [],
   "source": []
  },
  {
   "cell_type": "code",
   "execution_count": 198,
   "metadata": {},
   "outputs": [
    {
     "data": {
      "text/plain": [
       "<6x335 sparse matrix of type '<class 'numpy.float64'>'\n",
       "\twith 376 stored elements in Compressed Sparse Row format>"
      ]
     },
     "execution_count": 198,
     "metadata": {},
     "output_type": "execute_result"
    }
   ],
   "source": [
    "X = fast_vect.fit_transform(train_positive.loc[:5, 'reviews'])\n",
    "X"
   ]
  },
  {
   "cell_type": "code",
   "execution_count": 199,
   "metadata": {},
   "outputs": [
    {
     "data": {
      "text/plain": [
       "array([[0.        , 0.        , 0.        , ..., 0.        , 0.        ,\n",
       "        0.        ],\n",
       "       [0.        , 0.        , 0.        , ..., 0.        , 0.        ,\n",
       "        0.        ],\n",
       "       [0.12084247, 0.        , 0.        , ..., 0.        , 0.        ,\n",
       "        0.12084247],\n",
       "       [0.        , 0.09044619, 0.09044619, ..., 0.        , 0.        ,\n",
       "        0.        ],\n",
       "       [0.        , 0.        , 0.        , ..., 0.        , 0.07624698,\n",
       "        0.        ],\n",
       "       [0.        , 0.        , 0.        , ..., 0.10936726, 0.        ,\n",
       "        0.        ]])"
      ]
     },
     "execution_count": 199,
     "metadata": {},
     "output_type": "execute_result"
    }
   ],
   "source": [
    "X.toarray()"
   ]
  },
  {
   "cell_type": "code",
   "execution_count": 201,
   "metadata": {},
   "outputs": [
    {
     "name": "stdout",
     "output_type": "stream",
     "text": [
      "['\"moonstruck', '1/2', '10', '14', '15', '17', '1945,film', '1950', '1975', '1990']\n"
     ]
    }
   ],
   "source": [
    "print(vect.get_feature_names()[:10])"
   ]
  },
  {
   "cell_type": "markdown",
   "metadata": {},
   "source": [
    "## Exercise 2: Single model\n",
    "\n",
    "1. Apply the `TfidfVectorizer` to the train data and fit a `LogisticRegression` model\n",
    "2. What is the accuracy?\n",
    "3. Use scikit-plot to plot the confusion matrix"
   ]
  },
  {
   "cell_type": "markdown",
   "metadata": {},
   "source": [
    "### Option a)"
   ]
  },
  {
   "cell_type": "code",
   "execution_count": 248,
   "metadata": {},
   "outputs": [],
   "source": [
    "fast_vect = TfidfVectorizer(\n",
    "    stop_words=STOP_WORDS,\n",
    ")"
   ]
  },
  {
   "cell_type": "code",
   "execution_count": 249,
   "metadata": {},
   "outputs": [],
   "source": [
    "X_train = fast_vect.fit_transform(train['reviews'])"
   ]
  },
  {
   "cell_type": "code",
   "execution_count": 250,
   "metadata": {},
   "outputs": [],
   "source": [
    "train_vocab = fast_vect.vocabulary_.keys()"
   ]
  },
  {
   "cell_type": "code",
   "execution_count": 251,
   "metadata": {},
   "outputs": [],
   "source": [
    "X_test = fast_vect.fit_transform(test['reviews'])"
   ]
  },
  {
   "cell_type": "code",
   "execution_count": 252,
   "metadata": {},
   "outputs": [],
   "source": [
    "test_vocab = fast_vect.vocabulary_.keys()"
   ]
  },
  {
   "cell_type": "code",
   "execution_count": 253,
   "metadata": {},
   "outputs": [],
   "source": [
    "vocab = set(train_vocab) | set(test_vocab)"
   ]
  },
  {
   "cell_type": "code",
   "execution_count": 254,
   "metadata": {},
   "outputs": [],
   "source": [
    "fast_vect_vocab = TfidfVectorizer(\n",
    "    stop_words=STOP_WORDS,\n",
    "    vocabulary=vocab,\n",
    ")"
   ]
  },
  {
   "cell_type": "code",
   "execution_count": 255,
   "metadata": {},
   "outputs": [
    {
     "data": {
      "text/plain": [
       "<25000x101595 sparse matrix of type '<class 'numpy.float64'>'\n",
       "\twith 2193196 stored elements in Compressed Sparse Row format>"
      ]
     },
     "execution_count": 255,
     "metadata": {},
     "output_type": "execute_result"
    }
   ],
   "source": [
    "X_train = fast_vect_vocab.fit_transform(train['reviews'])\n",
    "X_train"
   ]
  },
  {
   "cell_type": "code",
   "execution_count": 256,
   "metadata": {},
   "outputs": [
    {
     "data": {
      "text/plain": [
       "<25000x101595 sparse matrix of type '<class 'numpy.float64'>'\n",
       "\twith 2144717 stored elements in Compressed Sparse Row format>"
      ]
     },
     "execution_count": 256,
     "metadata": {},
     "output_type": "execute_result"
    }
   ],
   "source": [
    "X_test = fast_vect_vocab.fit_transform(test['reviews'])\n",
    "X_test"
   ]
  },
  {
   "cell_type": "code",
   "execution_count": 229,
   "metadata": {},
   "outputs": [],
   "source": [
    "y_train = train['sentiment']"
   ]
  },
  {
   "cell_type": "code",
   "execution_count": 231,
   "metadata": {},
   "outputs": [],
   "source": [
    "y_test = test['sentiment']"
   ]
  },
  {
   "cell_type": "markdown",
   "metadata": {},
   "source": [
    "### Option b)"
   ]
  },
  {
   "cell_type": "code",
   "execution_count": 259,
   "metadata": {},
   "outputs": [],
   "source": [
    "data = pd.concat([train, test])"
   ]
  },
  {
   "cell_type": "code",
   "execution_count": 260,
   "metadata": {},
   "outputs": [
    {
     "data": {
      "text/plain": [
       "<50000x101595 sparse matrix of type '<class 'numpy.float64'>'\n",
       "\twith 4337913 stored elements in Compressed Sparse Row format>"
      ]
     },
     "execution_count": 260,
     "metadata": {},
     "output_type": "execute_result"
    }
   ],
   "source": [
    "X = fast_vect.fit_transform(data['reviews'])\n",
    "X"
   ]
  },
  {
   "cell_type": "code",
   "execution_count": 261,
   "metadata": {},
   "outputs": [],
   "source": [
    "from sklearn.model_selection import train_test_split"
   ]
  },
  {
   "cell_type": "code",
   "execution_count": 264,
   "metadata": {},
   "outputs": [],
   "source": [
    "X_train, X_test, y_train, y_test = train_test_split(\n",
    "    X, data['sentiment'], train_size=0.5, test_size=0.5,\n",
    ")"
   ]
  },
  {
   "cell_type": "code",
   "execution_count": 265,
   "metadata": {},
   "outputs": [
    {
     "data": {
      "text/plain": [
       "<25000x101595 sparse matrix of type '<class 'numpy.float64'>'\n",
       "\twith 2171479 stored elements in Compressed Sparse Row format>"
      ]
     },
     "execution_count": 265,
     "metadata": {},
     "output_type": "execute_result"
    }
   ],
   "source": [
    "X_train"
   ]
  },
  {
   "cell_type": "code",
   "execution_count": 267,
   "metadata": {},
   "outputs": [],
   "source": [
    "from sklearn.linear_model import LogisticRegression"
   ]
  },
  {
   "cell_type": "code",
   "execution_count": 268,
   "metadata": {},
   "outputs": [],
   "source": [
    "model = LogisticRegression()"
   ]
  },
  {
   "cell_type": "code",
   "execution_count": 269,
   "metadata": {},
   "outputs": [
    {
     "name": "stderr",
     "output_type": "stream",
     "text": [
      "/home/juanlu/.miniconda36/envs/bts36/lib/python3.6/site-packages/sklearn/linear_model/logistic.py:432: FutureWarning: Default solver will be changed to 'lbfgs' in 0.22. Specify a solver to silence this warning.\n",
      "  FutureWarning)\n"
     ]
    },
    {
     "data": {
      "text/plain": [
       "LogisticRegression(C=1.0, class_weight=None, dual=False, fit_intercept=True,\n",
       "          intercept_scaling=1, max_iter=100, multi_class='warn',\n",
       "          n_jobs=None, penalty='l2', random_state=None, solver='warn',\n",
       "          tol=0.0001, verbose=0, warm_start=False)"
      ]
     },
     "execution_count": 269,
     "metadata": {},
     "output_type": "execute_result"
    }
   ],
   "source": [
    "model.fit(X_train, y_train)"
   ]
  },
  {
   "cell_type": "code",
   "execution_count": 270,
   "metadata": {},
   "outputs": [],
   "source": [
    "y_pred = model.predict(X_test)"
   ]
  },
  {
   "cell_type": "code",
   "execution_count": 271,
   "metadata": {},
   "outputs": [],
   "source": [
    "from sklearn.metrics import accuracy_score"
   ]
  },
  {
   "cell_type": "code",
   "execution_count": 272,
   "metadata": {},
   "outputs": [
    {
     "data": {
      "text/plain": [
       "0.88688"
      ]
     },
     "execution_count": 272,
     "metadata": {},
     "output_type": "execute_result"
    }
   ],
   "source": [
    "accuracy_score(y_test, y_pred)"
   ]
  },
  {
   "cell_type": "code",
   "execution_count": 307,
   "metadata": {},
   "outputs": [],
   "source": [
    "import scikitplot as skplt"
   ]
  },
  {
   "cell_type": "code",
   "execution_count": 311,
   "metadata": {},
   "outputs": [
    {
     "data": {
      "image/png": "[encoded data removed]",
      "text/plain": [
       "<Figure size 432x288 with 2 Axes>"
      ]
     },
     "metadata": {
      "needs_background": "light"
     },
     "output_type": "display_data"
    }
   ],
   "source": [
    "skplt.metrics.plot_confusion_matrix(\n",
    "    y_test, y_pred, normalize=True,\n",
    ");"
   ]
  },
  {
   "cell_type": "code",
   "execution_count": 274,
   "metadata": {},
   "outputs": [
    {
     "data": {
      "text/plain": [
       "array(['positive'], dtype=object)"
      ]
     },
     "execution_count": 274,
     "metadata": {},
     "output_type": "execute_result"
    }
   ],
   "source": [
    "model.predict(fast_vect_vocab.fit_transform([\n",
    "    \"This is the most awesome movie that I ever saw!\"\n",
    "]))"
   ]
  },
  {
   "cell_type": "code",
   "execution_count": 283,
   "metadata": {},
   "outputs": [
    {
     "data": {
      "text/plain": [
       "array(['negative'], dtype=object)"
      ]
     },
     "execution_count": 283,
     "metadata": {},
     "output_type": "execute_result"
    }
   ],
   "source": [
    "model.predict(fast_vect_vocab.fit_transform([\n",
    "    \"This is the worst movie that I ever saw!\"\n",
    "]))"
   ]
  },
  {
   "cell_type": "code",
   "execution_count": 293,
   "metadata": {},
   "outputs": [
    {
     "data": {
      "text/plain": [
       "array(['negative', 'positive'], dtype=object)"
      ]
     },
     "execution_count": 293,
     "metadata": {},
     "output_type": "execute_result"
    }
   ],
   "source": [
    "model.classes_"
   ]
  },
  {
   "cell_type": "code",
   "execution_count": 306,
   "metadata": {},
   "outputs": [
    {
     "data": {
      "text/plain": [
       "array([[0.509191, 0.490809]])"
      ]
     },
     "execution_count": 306,
     "metadata": {},
     "output_type": "execute_result"
    }
   ],
   "source": [
    "model.predict_proba(fast_vect_vocab.fit_transform([\n",
    "    \"\"\n",
    "]))"
   ]
  },
  {
   "cell_type": "code",
   "execution_count": null,
   "metadata": {},
   "outputs": [],
   "source": []
  },
  {
   "cell_type": "markdown",
   "metadata": {},
   "source": [
    "## Exercise 3: Cross validation\n",
    "\n",
    "1. Concatenate `train` and `test` to produce `data`\n",
    "2. Use the `sklearn.cross_validation.cross_val_score` with 5 splits to produce a list of accuracy scores. Are they uniform?\n",
    "3. Use `scikitplot.estimators.plot_learning_curve` to plot the learning curves of our `LogisticRegression` model"
   ]
  },
  {
   "cell_type": "code",
   "execution_count": null,
   "metadata": {},
   "outputs": [],
   "source": []
  },
  {
   "cell_type": "markdown",
   "metadata": {},
   "source": [
    "## Exercise 4: Model selection\n",
    "\n",
    "1. Use `GridSearchCV` to optimize the `C` hyperparameter of the `LogisticRegression`\n",
    "2. Try different classifiers (like a `RandomForestClassifier`), compute their accuracy, try optimizing their hyperparameters"
   ]
  },
  {
   "cell_type": "code",
   "execution_count": 317,
   "metadata": {},
   "outputs": [
    {
     "data": {
      "text/plain": [
       "0.8602"
      ]
     },
     "execution_count": 317,
     "metadata": {},
     "output_type": "execute_result"
    }
   ],
   "source": [
    "model = LogisticRegression(C=0.1)\n",
    "model.fit(X_train, y_train)\n",
    "y_pred = model.predict(X_test)\n",
    "accuracy_score(y_test, y_pred)"
   ]
  },
  {
   "cell_type": "code",
   "execution_count": 312,
   "metadata": {},
   "outputs": [],
   "source": [
    "from sklearn.model_selection import GridSearchCV"
   ]
  },
  {
   "cell_type": "code",
   "execution_count": 319,
   "metadata": {},
   "outputs": [
    {
     "data": {
      "text/plain": [
       "GridSearchCV(cv=5, error_score='raise-deprecating',\n",
       "       estimator=LogisticRegression(C=0.1, class_weight=None, dual=False, fit_intercept=True,\n",
       "          intercept_scaling=1, max_iter=100, multi_class='warn',\n",
       "          n_jobs=None, penalty='l2', random_state=None, solver='warn',\n",
       "          tol=0.0001, verbose=0, warm_start=False),\n",
       "       fit_params=None, iid='warn', n_jobs=-1,\n",
       "       param_grid={'C': [0.01, 0.05, 0.25, 0.5, 1]},\n",
       "       pre_dispatch='2*n_jobs', refit=True, return_train_score='warn',\n",
       "       scoring=None, verbose=0)"
      ]
     },
     "execution_count": 319,
     "metadata": {},
     "output_type": "execute_result"
    }
   ],
   "source": [
    "gs = GridSearchCV(\n",
    "    model, {'C': [0.01, 0.05, 0.25, 0.5, 1]}, cv=5, n_jobs=-1,\n",
    ")\n",
    "gs"
   ]
  },
  {
   "cell_type": "code",
   "execution_count": 322,
   "metadata": {},
   "outputs": [],
   "source": [
    "y = data['sentiment']"
   ]
  },
  {
   "cell_type": "code",
   "execution_count": 323,
   "metadata": {},
   "outputs": [
    {
     "name": "stderr",
     "output_type": "stream",
     "text": [
      "/home/juanlu/.miniconda36/envs/bts36/lib/python3.6/site-packages/sklearn/linear_model/logistic.py:432: FutureWarning: Default solver will be changed to 'lbfgs' in 0.22. Specify a solver to silence this warning.\n",
      "  FutureWarning)\n"
     ]
    },
    {
     "data": {
      "text/plain": [
       "GridSearchCV(cv=5, error_score='raise-deprecating',\n",
       "       estimator=LogisticRegression(C=0.1, class_weight=None, dual=False, fit_intercept=True,\n",
       "          intercept_scaling=1, max_iter=100, multi_class='warn',\n",
       "          n_jobs=None, penalty='l2', random_state=None, solver='warn',\n",
       "          tol=0.0001, verbose=0, warm_start=False),\n",
       "       fit_params=None, iid='warn', n_jobs=-1,\n",
       "       param_grid={'C': [0.01, 0.05, 0.25, 0.5, 1]},\n",
       "       pre_dispatch='2*n_jobs', refit=True, return_train_score='warn',\n",
       "       scoring=None, verbose=0)"
      ]
     },
     "execution_count": 323,
     "metadata": {},
     "output_type": "execute_result"
    }
   ],
   "source": [
    "gs.fit(X, y)"
   ]
  },
  {
   "cell_type": "code",
   "execution_count": 324,
   "metadata": {},
   "outputs": [
    {
     "data": {
      "text/plain": [
       "LogisticRegression(C=1, class_weight=None, dual=False, fit_intercept=True,\n",
       "          intercept_scaling=1, max_iter=100, multi_class='warn',\n",
       "          n_jobs=None, penalty='l2', random_state=None, solver='warn',\n",
       "          tol=0.0001, verbose=0, warm_start=False)"
      ]
     },
     "execution_count": 324,
     "metadata": {},
     "output_type": "execute_result"
    }
   ],
   "source": [
    "gs.best_estimator_"
   ]
  },
  {
   "cell_type": "code",
   "execution_count": null,
   "metadata": {},
   "outputs": [],
   "source": []
  }
 ],
 "metadata": {
  "kernelspec": {
   "display_name": "Python 3",
   "language": "python",
   "name": "python3"
  },
  "language_info": {
   "codemirror_mode": {
    "name": "ipython",
    "version": 3
   },
   "file_extension": ".py",
   "mimetype": "text/x-python",
   "name": "python",
   "nbconvert_exporter": "python",
   "pygments_lexer": "ipython3",
   "version": "3.6.6"
  }
 },
 "nbformat": 4,
 "nbformat_minor": 2
}
