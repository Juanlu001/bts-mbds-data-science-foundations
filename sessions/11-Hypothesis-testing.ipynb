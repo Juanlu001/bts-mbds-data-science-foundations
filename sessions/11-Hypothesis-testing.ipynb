{
 "cells": [
  {
   "cell_type": "markdown",
   "metadata": {},
   "source": [
    "![BTS](img/Logo-BTS.jpg)\n",
    "\n",
    "# Session 11: Hypothesis testing\n",
    "\n",
    "### Juan Luis Cano Rodríguez <juan.cano@bts.tech> - Data Science Foundations (2018-11-13)\n",
    "\n",
    "Open this notebook in Google Colaboratory: [![Open in Colab](https://colab.research.google.com/assets/colab-badge.svg)](https://colab.research.google.com/github/Juanlu001/bts-mbds-data-science-foundations/blob/master/sessions/11-Hypothesis-testing.ipynb)"
   ]
  },
  {
   "cell_type": "markdown",
   "metadata": {},
   "source": [
    "## Exercise 1: Brain size and intelligence\n",
    "\n",
    "* Gender: Male or Female\n",
    "* FSIQ: Full Scale IQ scores based on the four Wechsler (1981) subtests\n",
    "* VIQ: Verbal IQ scores based on the four Wechsler (1981) subtests\n",
    "* PIQ: Performance IQ scores based on the four Wechsler (1981) subtests\n",
    "* Weight: body weight in pounds\n",
    "* Height: height in inches\n",
    "* MRI_Count: total pixel Count from the 18 MRI scans\n",
    "\n",
    "Brain size data from https://www3.nd.edu/~busiforc/handouts/Data%20and%20Stories/correlation/Brain%20Size/brainsize.html\n",
    "\n",
    "1. Read the brain size data in pandas, properly setting the missing values and dropping any meaningless columns\n",
    "2. Plot box plots for FSIQ, VIQ and PIQ separating by gentder\n",
    "3. Plot a scatter matrix of FSIQ, VIQ and PIQ like the figure below\n",
    "4. Plot the box plots of FSIQ, VIQ and PIQ separated by gender\n",
    "\n",
    "![Brain size](img/brain.png)"
   ]
  },
  {
   "cell_type": "code",
   "execution_count": null,
   "metadata": {},
   "outputs": [],
   "source": []
  },
  {
   "cell_type": "markdown",
   "metadata": {},
   "source": [
    "## Statistical tests\n",
    "\n",
    "### One-sample t-test: testing the value of a population mean\n",
    "\n",
    "> \"If we take a sample of $n$ observations from a normal distribution, then the t-distribution with $\\nu = n-1$ degrees of freedom can be defined as the distribution of the location of the sample mean relative to the true mean\"\n",
    "> https://en.wikipedia.org/wiki/Student%27s_t-distribution?oldformat=true\n",
    "\n",
    "> \"Although the parent population does not need to be normally distributed, the distribution of the population of sample means $\\bar {x}$ is assumed to be normal\"\n",
    "> https://en.wikipedia.org/wiki/Student%27s_t-test#One-sample_t-test"
   ]
  },
  {
   "cell_type": "code",
   "execution_count": null,
   "metadata": {},
   "outputs": [],
   "source": []
  },
  {
   "cell_type": "markdown",
   "metadata": {},
   "source": [
    "### Two-sample t-test: testing for difference across populations\n",
    "\n",
    "We have seen above that the mean VIQ in the male and female populations were different. Can we show it?"
   ]
  },
  {
   "cell_type": "code",
   "execution_count": null,
   "metadata": {},
   "outputs": [],
   "source": []
  },
  {
   "cell_type": "markdown",
   "metadata": {},
   "source": [
    "### Paired tests: repeated measurements on the same indivuals\n",
    "\n",
    "PIQ, VIQ, and FSIQ give 3 measures of IQ. Let us test if FISQ and PIQ are significantly different. We can use a 2 sample test:"
   ]
  },
  {
   "cell_type": "code",
   "execution_count": null,
   "metadata": {},
   "outputs": [],
   "source": []
  },
  {
   "cell_type": "markdown",
   "metadata": {},
   "source": [
    "The problem with this approach is that it forgets that there are links between observations: FSIQ and PIQ are measured on the same individuals. Thus the variance due to inter-subject variability is confounding, and can be removed, using a “paired test”, or “repeated measures test”:"
   ]
  },
  {
   "cell_type": "code",
   "execution_count": null,
   "metadata": {},
   "outputs": [],
   "source": []
  },
  {
   "cell_type": "markdown",
   "metadata": {},
   "source": [
    "## Exercise 2: Central limit theorem and normality test\n",
    "\n",
    "1. Create a uniform distribution of 100 values and plot its histogram\n",
    "2. Create another uniform distribution of 10_000 values and plot its histogram again. What do you notice?\n",
    "3. Create a function that receives two parameters: the size of the distribution `size` and the number of repetitions `num_reps`, and returns `uniform(size) + uniform(size) + ...`, `n_reps` times\n",
    "4. Plot the histogram with increasing number of repetitions"
   ]
  },
  {
   "cell_type": "code",
   "execution_count": null,
   "metadata": {},
   "outputs": [],
   "source": []
  },
  {
   "cell_type": "markdown",
   "metadata": {},
   "source": [
    "## Normality test"
   ]
  },
  {
   "cell_type": "code",
   "execution_count": null,
   "metadata": {},
   "outputs": [],
   "source": []
  }
 ],
 "metadata": {
  "kernelspec": {
   "display_name": "Python 3",
   "language": "python",
   "name": "python3"
  },
  "language_info": {
   "codemirror_mode": {
    "name": "ipython",
    "version": 3
   },
   "file_extension": ".py",
   "mimetype": "text/x-python",
   "name": "python",
   "nbconvert_exporter": "python",
   "pygments_lexer": "ipython3",
   "version": "3.6.6"
  }
 },
 "nbformat": 4,
 "nbformat_minor": 2
}
