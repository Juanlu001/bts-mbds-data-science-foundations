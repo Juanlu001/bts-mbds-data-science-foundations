{
  "nbformat": 4,
  "nbformat_minor": 0,
  "metadata": {
    "colab": {
      "name": "01-Common-Data-Formats.ipynb",
      "version": "0.3.2",
      "provenance": [],
      "toc_visible": true
    },
    "kernelspec": {
      "display_name": "Python 3",
      "language": "python",
      "name": "python3"
    }
  },
  "cells": [
    {
      "metadata": {
        "id": "7CeJR9G6tmK8",
        "colab_type": "text"
      },
      "cell_type": "markdown",
      "source": [
        "![BTS](https://github.com/Juanlu001/bts-mbds-data-science-foundations/blob/master/sessions/img/Logo-BTS.jpg?raw=1)\n",
        "\n",
        "# Session 1: Common data formats\n",
        "\n",
        "### Juan Luis Cano Rodríguez <juan.cano@bts.tech> - Data Science Foundations (2018-10-01)\n",
        "\n",
        "Open this notebook in Google Colaboratory: [![Open in Colab](https://colab.research.google.com/assets/colab-badge.svg)](https://colab.research.google.com/github/Juanlu001/bts-mbds-data-science-foundations/blob/master/sessions/01-Common-Data-Formats.ipynb)"
      ]
    },
    {
      "metadata": {
        "id": "QrONLcSAtmLM",
        "colab_type": "text"
      },
      "cell_type": "markdown",
      "source": [
        "## Exercise 1: CSV\n",
        "\n",
        "Analize the data of the JetBrains 2017 Python survey https://www.jetbrains.com/research/python-developers-survey-2017/\n",
        "\n",
        "1. Download raw data from http://jb.gg/pythondevsurvey2017raw\n",
        "2. Read it in pandas\n",
        "3. Reproduce \"What do you use Python for the most? (single answer)\" chart\n",
        "4. Reproduce \"What do you use Python for? (multiple answers)\" chart"
      ]
    },
    {
      "metadata": {
        "id": "ClFaFlH6tmLQ",
        "colab_type": "code",
        "colab": {}
      },
      "cell_type": "code",
      "source": [
        "import pandas as pd"
      ],
      "execution_count": 0,
      "outputs": []
    },
    {
      "metadata": {
        "id": "WL4-BfDQxiXX",
        "colab_type": "code",
        "colab": {
          "base_uri": "https://localhost:8080/",
          "height": 498
        },
        "outputId": "5df284cf-1fe9-468b-fce1-83a574b501be"
      },
      "cell_type": "code",
      "source": [
        "data = pd.read_csv(\"https://github.com/Juanlu001/bts-mbds-data-science-foundations/raw/master/sessions/pythondevsurvey2017_raw_data.csv\")\n",
        "data.head()"
      ],
      "execution_count": 4,
      "outputs": [
        {
          "output_type": "execute_result",
          "data": {
            "text/html": [
              "<div>\n",
              "<style scoped>\n",
              "    .dataframe tbody tr th:only-of-type {\n",
              "        vertical-align: middle;\n",
              "    }\n",
              "\n",
              "    .dataframe tbody tr th {\n",
              "        vertical-align: top;\n",
              "    }\n",
              "\n",
              "    .dataframe thead th {\n",
              "        text-align: right;\n",
              "    }\n",
              "</style>\n",
              "<table border=\"1\" class=\"dataframe\">\n",
              "  <thead>\n",
              "    <tr style=\"text-align: right;\">\n",
              "      <th></th>\n",
              "      <th>Is Python the main language you use for your current projects?</th>\n",
              "      <th>None:What other language(s) do you use?</th>\n",
              "      <th>Java:What other language(s) do you use?</th>\n",
              "      <th>JavaScript:What other language(s) do you use?</th>\n",
              "      <th>C/C++:What other language(s) do you use?</th>\n",
              "      <th>PHP:What other language(s) do you use?</th>\n",
              "      <th>C#:What other language(s) do you use?</th>\n",
              "      <th>Ruby:What other language(s) do you use?</th>\n",
              "      <th>Bash / Shell:What other language(s) do you use?</th>\n",
              "      <th>Objective-C:What other language(s) do you use?</th>\n",
              "      <th>...</th>\n",
              "      <th>Technical support:Which of the following best describes your job role(s)?</th>\n",
              "      <th>Data analyst:Which of the following best describes your job role(s)?</th>\n",
              "      <th>Business analyst:Which of the following best describes your job role(s)?</th>\n",
              "      <th>Team lead:Which of the following best describes your job role(s)?</th>\n",
              "      <th>Product manager:Which of the following best describes your job role(s)?</th>\n",
              "      <th>CIO / CEO / CTO:Which of the following best describes your job role(s)?</th>\n",
              "      <th>Systems analyst:Which of the following best describes your job role(s)?</th>\n",
              "      <th>Other - Write In::Which of the following best describes your job role(s)?</th>\n",
              "      <th>Could you tell us your age range?</th>\n",
              "      <th>What country do you live in?</th>\n",
              "    </tr>\n",
              "  </thead>\n",
              "  <tbody>\n",
              "    <tr>\n",
              "      <th>0</th>\n",
              "      <td>Yes</td>\n",
              "      <td>NaN</td>\n",
              "      <td>NaN</td>\n",
              "      <td>JavaScript</td>\n",
              "      <td>NaN</td>\n",
              "      <td>PHP</td>\n",
              "      <td>NaN</td>\n",
              "      <td>NaN</td>\n",
              "      <td>Bash / Shell</td>\n",
              "      <td>NaN</td>\n",
              "      <td>...</td>\n",
              "      <td>NaN</td>\n",
              "      <td>NaN</td>\n",
              "      <td>NaN</td>\n",
              "      <td>NaN</td>\n",
              "      <td>NaN</td>\n",
              "      <td>NaN</td>\n",
              "      <td>NaN</td>\n",
              "      <td>NaN</td>\n",
              "      <td>60 or older</td>\n",
              "      <td>Italy</td>\n",
              "    </tr>\n",
              "    <tr>\n",
              "      <th>1</th>\n",
              "      <td>Yes</td>\n",
              "      <td>NaN</td>\n",
              "      <td>NaN</td>\n",
              "      <td>JavaScript</td>\n",
              "      <td>NaN</td>\n",
              "      <td>NaN</td>\n",
              "      <td>NaN</td>\n",
              "      <td>NaN</td>\n",
              "      <td>NaN</td>\n",
              "      <td>NaN</td>\n",
              "      <td>...</td>\n",
              "      <td>NaN</td>\n",
              "      <td>NaN</td>\n",
              "      <td>NaN</td>\n",
              "      <td>Team lead</td>\n",
              "      <td>NaN</td>\n",
              "      <td>NaN</td>\n",
              "      <td>NaN</td>\n",
              "      <td>NaN</td>\n",
              "      <td>40-49</td>\n",
              "      <td>United Kingdom</td>\n",
              "    </tr>\n",
              "    <tr>\n",
              "      <th>2</th>\n",
              "      <td>Yes</td>\n",
              "      <td>NaN</td>\n",
              "      <td>NaN</td>\n",
              "      <td>JavaScript</td>\n",
              "      <td>NaN</td>\n",
              "      <td>NaN</td>\n",
              "      <td>NaN</td>\n",
              "      <td>NaN</td>\n",
              "      <td>NaN</td>\n",
              "      <td>NaN</td>\n",
              "      <td>...</td>\n",
              "      <td>NaN</td>\n",
              "      <td>NaN</td>\n",
              "      <td>NaN</td>\n",
              "      <td>NaN</td>\n",
              "      <td>NaN</td>\n",
              "      <td>NaN</td>\n",
              "      <td>NaN</td>\n",
              "      <td>NaN</td>\n",
              "      <td>40-49</td>\n",
              "      <td>France</td>\n",
              "    </tr>\n",
              "    <tr>\n",
              "      <th>3</th>\n",
              "      <td>No, I don’t use Python for my current projects</td>\n",
              "      <td>NaN</td>\n",
              "      <td>NaN</td>\n",
              "      <td>NaN</td>\n",
              "      <td>NaN</td>\n",
              "      <td>NaN</td>\n",
              "      <td>C#</td>\n",
              "      <td>NaN</td>\n",
              "      <td>NaN</td>\n",
              "      <td>NaN</td>\n",
              "      <td>...</td>\n",
              "      <td>NaN</td>\n",
              "      <td>NaN</td>\n",
              "      <td>NaN</td>\n",
              "      <td>NaN</td>\n",
              "      <td>NaN</td>\n",
              "      <td>NaN</td>\n",
              "      <td>NaN</td>\n",
              "      <td>NaN</td>\n",
              "      <td>17 or younger</td>\n",
              "      <td>Spain</td>\n",
              "    </tr>\n",
              "    <tr>\n",
              "      <th>4</th>\n",
              "      <td>Yes</td>\n",
              "      <td>NaN</td>\n",
              "      <td>Java</td>\n",
              "      <td>NaN</td>\n",
              "      <td>NaN</td>\n",
              "      <td>NaN</td>\n",
              "      <td>NaN</td>\n",
              "      <td>NaN</td>\n",
              "      <td>NaN</td>\n",
              "      <td>NaN</td>\n",
              "      <td>...</td>\n",
              "      <td>NaN</td>\n",
              "      <td>NaN</td>\n",
              "      <td>NaN</td>\n",
              "      <td>NaN</td>\n",
              "      <td>NaN</td>\n",
              "      <td>NaN</td>\n",
              "      <td>NaN</td>\n",
              "      <td>NaN</td>\n",
              "      <td>18-20</td>\n",
              "      <td>Israel</td>\n",
              "    </tr>\n",
              "  </tbody>\n",
              "</table>\n",
              "<p>5 rows × 162 columns</p>\n",
              "</div>"
            ],
            "text/plain": [
              "  Is Python the main language you use for your current projects?  \\\n",
              "0                                                Yes               \n",
              "1                                                Yes               \n",
              "2                                                Yes               \n",
              "3     No, I don’t use Python for my current projects               \n",
              "4                                                Yes               \n",
              "\n",
              "  None:What other language(s) do you use?  \\\n",
              "0                                     NaN   \n",
              "1                                     NaN   \n",
              "2                                     NaN   \n",
              "3                                     NaN   \n",
              "4                                     NaN   \n",
              "\n",
              "  Java:What other language(s) do you use?  \\\n",
              "0                                     NaN   \n",
              "1                                     NaN   \n",
              "2                                     NaN   \n",
              "3                                     NaN   \n",
              "4                                    Java   \n",
              "\n",
              "  JavaScript:What other language(s) do you use?  \\\n",
              "0                                    JavaScript   \n",
              "1                                    JavaScript   \n",
              "2                                    JavaScript   \n",
              "3                                           NaN   \n",
              "4                                           NaN   \n",
              "\n",
              "  C/C++:What other language(s) do you use?  \\\n",
              "0                                      NaN   \n",
              "1                                      NaN   \n",
              "2                                      NaN   \n",
              "3                                      NaN   \n",
              "4                                      NaN   \n",
              "\n",
              "  PHP:What other language(s) do you use?  \\\n",
              "0                                    PHP   \n",
              "1                                    NaN   \n",
              "2                                    NaN   \n",
              "3                                    NaN   \n",
              "4                                    NaN   \n",
              "\n",
              "  C#:What other language(s) do you use?  \\\n",
              "0                                   NaN   \n",
              "1                                   NaN   \n",
              "2                                   NaN   \n",
              "3                                    C#   \n",
              "4                                   NaN   \n",
              "\n",
              "  Ruby:What other language(s) do you use?  \\\n",
              "0                                     NaN   \n",
              "1                                     NaN   \n",
              "2                                     NaN   \n",
              "3                                     NaN   \n",
              "4                                     NaN   \n",
              "\n",
              "  Bash / Shell:What other language(s) do you use?  \\\n",
              "0                                    Bash / Shell   \n",
              "1                                             NaN   \n",
              "2                                             NaN   \n",
              "3                                             NaN   \n",
              "4                                             NaN   \n",
              "\n",
              "  Objective-C:What other language(s) do you use?             ...               \\\n",
              "0                                            NaN             ...                \n",
              "1                                            NaN             ...                \n",
              "2                                            NaN             ...                \n",
              "3                                            NaN             ...                \n",
              "4                                            NaN             ...                \n",
              "\n",
              "  Technical support:Which of the following best describes your job role(s)?  \\\n",
              "0                                                NaN                          \n",
              "1                                                NaN                          \n",
              "2                                                NaN                          \n",
              "3                                                NaN                          \n",
              "4                                                NaN                          \n",
              "\n",
              "  Data analyst:Which of the following best describes your job role(s)?  \\\n",
              "0                                                NaN                     \n",
              "1                                                NaN                     \n",
              "2                                                NaN                     \n",
              "3                                                NaN                     \n",
              "4                                                NaN                     \n",
              "\n",
              "  Business analyst:Which of the following best describes your job role(s)?  \\\n",
              "0                                                NaN                         \n",
              "1                                                NaN                         \n",
              "2                                                NaN                         \n",
              "3                                                NaN                         \n",
              "4                                                NaN                         \n",
              "\n",
              "  Team lead:Which of the following best describes your job role(s)?  \\\n",
              "0                                                NaN                  \n",
              "1                                          Team lead                  \n",
              "2                                                NaN                  \n",
              "3                                                NaN                  \n",
              "4                                                NaN                  \n",
              "\n",
              "  Product manager:Which of the following best describes your job role(s)?  \\\n",
              "0                                                NaN                        \n",
              "1                                                NaN                        \n",
              "2                                                NaN                        \n",
              "3                                                NaN                        \n",
              "4                                                NaN                        \n",
              "\n",
              "  CIO / CEO / CTO:Which of the following best describes your job role(s)?  \\\n",
              "0                                                NaN                        \n",
              "1                                                NaN                        \n",
              "2                                                NaN                        \n",
              "3                                                NaN                        \n",
              "4                                                NaN                        \n",
              "\n",
              "  Systems analyst:Which of the following best describes your job role(s)?  \\\n",
              "0                                                NaN                        \n",
              "1                                                NaN                        \n",
              "2                                                NaN                        \n",
              "3                                                NaN                        \n",
              "4                                                NaN                        \n",
              "\n",
              "  Other - Write In::Which of the following best describes your job role(s)?  \\\n",
              "0                                                NaN                          \n",
              "1                                                NaN                          \n",
              "2                                                NaN                          \n",
              "3                                                NaN                          \n",
              "4                                                NaN                          \n",
              "\n",
              "  Could you tell us your age range? What country do you live in?  \n",
              "0                       60 or older                        Italy  \n",
              "1                             40-49               United Kingdom  \n",
              "2                             40-49                       France  \n",
              "3                     17 or younger                        Spain  \n",
              "4                             18-20                       Israel  \n",
              "\n",
              "[5 rows x 162 columns]"
            ]
          },
          "metadata": {
            "tags": []
          },
          "execution_count": 4
        }
      ]
    },
    {
      "metadata": {
        "id": "y74Nz9X-1atm",
        "colab_type": "code",
        "colab": {}
      },
      "cell_type": "code",
      "source": [
        "indexes = data[\"What do you use Python for the most?\"].isnull()\n",
        "#data[indexes]"
      ],
      "execution_count": 0,
      "outputs": []
    },
    {
      "metadata": {
        "id": "9XGeqTT22bFP",
        "colab_type": "code",
        "colab": {
          "base_uri": "https://localhost:8080/",
          "height": 34
        },
        "outputId": "e27c2257-244d-4edc-dfcc-29c87f5b2c88"
      },
      "cell_type": "code",
      "source": [
        "counts = data[\"What do you use Python for the most?\"].value_counts()\n",
        "counts.sum()"
      ],
      "execution_count": 16,
      "outputs": [
        {
          "output_type": "execute_result",
          "data": {
            "text/plain": [
              "8112"
            ]
          },
          "metadata": {
            "tags": []
          },
          "execution_count": 16
        }
      ]
    },
    {
      "metadata": {
        "id": "0uC0_6L12enf",
        "colab_type": "code",
        "colab": {
          "base_uri": "https://localhost:8080/",
          "height": 34
        },
        "outputId": "9f61e5db-e25e-49ac-ab0a-b19c3bd8e7cd"
      },
      "cell_type": "code",
      "source": [
        "len(data)"
      ],
      "execution_count": 17,
      "outputs": [
        {
          "output_type": "execute_result",
          "data": {
            "text/plain": [
              "9506"
            ]
          },
          "metadata": {
            "tags": []
          },
          "execution_count": 17
        }
      ]
    },
    {
      "metadata": {
        "id": "9bhf1X9oETkD",
        "colab_type": "code",
        "colab": {
          "base_uri": "https://localhost:8080/",
          "height": 34
        },
        "outputId": "894999e1-e216-493b-f96c-805de31f0020"
      },
      "cell_type": "code",
      "source": [
        "counts.sum()"
      ],
      "execution_count": 35,
      "outputs": [
        {
          "output_type": "execute_result",
          "data": {
            "text/plain": [
              "8112"
            ]
          },
          "metadata": {
            "tags": []
          },
          "execution_count": 35
        }
      ]
    },
    {
      "metadata": {
        "id": "l2WZH7M421fi",
        "colab_type": "code",
        "colab": {
          "base_uri": "https://localhost:8080/",
          "height": 121
        },
        "outputId": "10146088-3654-4066-df69-d89c6efa0ae6"
      },
      "cell_type": "code",
      "source": [
        "(counts / counts.sum()).head()"
      ],
      "execution_count": 21,
      "outputs": [
        {
          "output_type": "execute_result",
          "data": {
            "text/plain": [
              "Web development                                                0.260355\n",
              "Data analysis                                                  0.176282\n",
              "Educational purposes                                           0.094058\n",
              "DevOps / System administration / Writing automation scripts    0.092949\n",
              "Machine learning                                               0.085799\n",
              "Name: What do you use Python for the most?, dtype: float64"
            ]
          },
          "metadata": {
            "tags": []
          },
          "execution_count": 21
        }
      ]
    },
    {
      "metadata": {
        "id": "PdCcwngc04uQ",
        "colab_type": "code",
        "colab": {
          "base_uri": "https://localhost:8080/",
          "height": 619
        },
        "outputId": "1e20b50c-f5a5-408b-b15f-3ea986363f28"
      },
      "cell_type": "code",
      "source": [
        "data[\"What do you use Python for the most?\"].value_counts(normalize=True).head().plot.bar()"
      ],
      "execution_count": 25,
      "outputs": [
        {
          "output_type": "execute_result",
          "data": {
            "text/plain": [
              "<matplotlib.axes._subplots.AxesSubplot at 0x7fe235f53a20>"
            ]
          },
          "metadata": {
            "tags": []
          },
          "execution_count": 25
        },
        {
          "output_type": "display_data",
          "data": {
            "image/png": "[encoded data removed]",
            "text/plain": [
              "<matplotlib.figure.Figure at 0x7fe257e21668>"
            ]
          },
          "metadata": {
            "tags": []
          }
        }
      ]
    },
    {
      "metadata": {
        "id": "OS43OLTq0ogY",
        "colab_type": "code",
        "colab": {
          "base_uri": "https://localhost:8080/",
          "height": 89
        },
        "outputId": "6909e6d4-bc29-4521-9c2e-09aadd6c2599"
      },
      "cell_type": "code",
      "source": [
        "[column for column in data if \"most\" in column]"
      ],
      "execution_count": 7,
      "outputs": [
        {
          "output_type": "execute_result",
          "data": {
            "text/plain": [
              "['What do you use Python for the most?',\n",
              " 'Which version of Python do you use the most?',\n",
              " 'What do you think would be the most popular opinion?:Please think about the total number of Python Web Developers in the world and the total number of Data Scientists using Python.']"
            ]
          },
          "metadata": {
            "tags": []
          },
          "execution_count": 7
        }
      ]
    },
    {
      "metadata": {
        "id": "omcnLhQnz-hN",
        "colab_type": "code",
        "colab": {
          "base_uri": "https://localhost:8080/",
          "height": 2850
        },
        "outputId": "52eee0e3-9305-4d79-c9e5-c13c0d38b26c"
      },
      "cell_type": "code",
      "source": [
        "data.columns.tolist()"
      ],
      "execution_count": 6,
      "outputs": [
        {
          "output_type": "execute_result",
          "data": {
            "text/plain": [
              "['Is Python the main language you use for your current projects?',\n",
              " 'None:What other language(s) do you use?',\n",
              " 'Java:What other language(s) do you use?',\n",
              " 'JavaScript:What other language(s) do you use?',\n",
              " 'C/C++:What other language(s) do you use?',\n",
              " 'PHP:What other language(s) do you use?',\n",
              " 'C#:What other language(s) do you use?',\n",
              " 'Ruby:What other language(s) do you use?',\n",
              " 'Bash / Shell:What other language(s) do you use?',\n",
              " 'Objective-C:What other language(s) do you use?',\n",
              " 'Go:What other language(s) do you use?',\n",
              " 'Visual Basic:What other language(s) do you use?',\n",
              " 'Scala:What other language(s) do you use?',\n",
              " 'SQL:What other language(s) do you use?',\n",
              " 'Kotlin:What other language(s) do you use?',\n",
              " 'R:What other language(s) do you use?',\n",
              " 'Swift:What other language(s) do you use?',\n",
              " 'Clojure:What other language(s) do you use?',\n",
              " 'Perl:What other language(s) do you use?',\n",
              " 'Rust:What other language(s) do you use?',\n",
              " 'Groovy:What other language(s) do you use?',\n",
              " 'TypeScript:What other language(s) do you use?',\n",
              " 'CoffeeScript:What other language(s) do you use?',\n",
              " 'HTML/CSS:What other language(s) do you use?',\n",
              " 'Other - Write In::What other language(s) do you use?',\n",
              " 'Educational purposes:\\xa0What do you use Python for?',\n",
              " 'Data analysis:\\xa0What do you use Python for?',\n",
              " 'DevOps / System administration / Writing automation scripts:\\xa0What do you use Python for?',\n",
              " 'Software testing / Writing automated tests:\\xa0What do you use Python for?',\n",
              " 'Software prototyping:\\xa0What do you use Python for?',\n",
              " 'Web development:\\xa0What do you use Python for?',\n",
              " 'Machine learning:\\xa0What do you use Python for?',\n",
              " 'Mobile development:\\xa0What do you use Python for?',\n",
              " 'Desktop development:\\xa0What do you use Python for?',\n",
              " 'Computer graphics:\\xa0What do you use Python for?',\n",
              " 'Network programming:\\xa0What do you use Python for?',\n",
              " 'Game development:\\xa0What do you use Python for?',\n",
              " 'Multimedia applications development:\\xa0What do you use Python for?',\n",
              " 'Embedded development:\\xa0What do you use Python for?',\n",
              " 'Programming of web parsers / scrapers / crawlers:\\xa0What do you use Python for?',\n",
              " 'Other - Write In::\\xa0What do you use Python for?',\n",
              " 'What do you use Python for the most?',\n",
              " 'Which version of Python do you use the most?',\n",
              " 'Installer from python.org:What do you typically use to upgrade your Python version?',\n",
              " 'Build from source:What do you typically use to upgrade your Python version?',\n",
              " 'Automatic upgrade via cloud provider:What do you typically use to upgrade your Python version?',\n",
              " 'Enthought:What do you typically use to upgrade your Python version?',\n",
              " 'Anaconda:What do you typically use to upgrade your Python version?',\n",
              " 'ActivePython:What do you typically use to upgrade your Python version?',\n",
              " 'Intel Distribution for Python:What do you typically use to upgrade your Python version?',\n",
              " 'OS-provided Python (via apt-get, yum, homebrew, etc.):What do you typically use to upgrade your Python version?',\n",
              " 'pyenv:What do you typically use to upgrade your Python version?',\n",
              " 'pythonz:What do you typically use to upgrade your Python version?',\n",
              " 'Other - Write In::What do you typically use to upgrade your Python version?',\n",
              " 'None:What framework(s) do you use in addition to Python?',\n",
              " 'Django:What framework(s) do you use in addition to Python?',\n",
              " 'Flask:What framework(s) do you use in addition to Python?',\n",
              " 'Tornado:What framework(s) do you use in addition to Python?',\n",
              " 'Bottle:What framework(s) do you use in addition to Python?',\n",
              " 'web2py:What framework(s) do you use in addition to Python?',\n",
              " 'NumPy / pandas / Matplotlib / scipy and similar:What framework(s) do you use in addition to Python?',\n",
              " 'Keras / Theano / TensorFlow / scikit-learn and similar:What framework(s) do you use in addition to Python?',\n",
              " 'Pillow:What framework(s) do you use in addition to Python?',\n",
              " 'PyQT / PyGTK / wxPython:What framework(s) do you use in addition to Python?',\n",
              " 'TkInter:What framework(s) do you use in addition to Python?',\n",
              " 'Pygame:What framework(s) do you use in addition to Python?',\n",
              " 'CherryPy:What framework(s) do you use in addition to Python?',\n",
              " 'Twisted:What framework(s) do you use in addition to Python?',\n",
              " 'Pyramid:What framework(s) do you use in addition to Python?',\n",
              " 'Requests:What framework(s) do you use in addition to Python?',\n",
              " 'asyncio:What framework(s) do you use in addition to Python?',\n",
              " 'Kivy:What framework(s) do you use in addition to Python?',\n",
              " 'six:What framework(s) do you use in addition to Python?',\n",
              " 'aiohttp:What framework(s) do you use in addition to Python?',\n",
              " 'Other - Write In::What framework(s) do you use in addition to Python?',\n",
              " 'None:What additional technology(s) do you use in addition to Python?',\n",
              " 'Jupyter Notebook:What additional technology(s) do you use in addition to Python?',\n",
              " 'Anaconda:What additional technology(s) do you use in addition to Python?',\n",
              " 'ORM (SQLAlchemy, PonyORM, etc.):What additional technology(s) do you use in addition to Python?',\n",
              " 'Docker:What additional technology(s) do you use in addition to Python?',\n",
              " 'Vagrant:What additional technology(s) do you use in addition to Python?',\n",
              " 'Cloud platforms (Google App Engine, AWS, RackSpace, Heroku and similar):What additional technology(s) do you use in addition to Python?',\n",
              " 'Hadoop, Spark, etc.:What additional technology(s) do you use in addition to Python?',\n",
              " 'Sphinx:What additional technology(s) do you use in addition to Python?',\n",
              " 'Buildout:What additional technology(s) do you use in addition to Python?',\n",
              " 'DevOps tools (Ansible, Chef, Puppet, etc.):What additional technology(s) do you use in addition to Python?',\n",
              " 'redis:What additional technology(s) do you use in addition to Python?',\n",
              " 'Other - Write In::What additional technology(s) do you use in addition to Python?',\n",
              " 'Google App Engine:What cloud platform(s) do you use?',\n",
              " 'AWS:What cloud platform(s) do you use?',\n",
              " 'Microsoft Azure:What cloud platform(s) do you use?',\n",
              " 'RackSpace:What cloud platform(s) do you use?',\n",
              " 'Heroku:What cloud platform(s) do you use?',\n",
              " 'DigitalOcean:What cloud platform(s) do you use?',\n",
              " 'Other - Write In::What cloud platform(s) do you use?',\n",
              " 'PyCharm Professional Edition:What editor(s)/IDE(s) have you considered for use in your Python development?',\n",
              " 'PyCharm Community Edition:What editor(s)/IDE(s) have you considered for use in your Python development?',\n",
              " 'Sublime Text:What editor(s)/IDE(s) have you considered for use in your Python development?',\n",
              " 'Vim:What editor(s)/IDE(s) have you considered for use in your Python development?',\n",
              " 'Atom:What editor(s)/IDE(s) have you considered for use in your Python development?',\n",
              " 'VS Code:What editor(s)/IDE(s) have you considered for use in your Python development?',\n",
              " 'Eclipse + Pydev:What editor(s)/IDE(s) have you considered for use in your Python development?',\n",
              " 'Aptana:What editor(s)/IDE(s) have you considered for use in your Python development?',\n",
              " 'Jupyter Notebook:What editor(s)/IDE(s) have you considered for use in your Python development?',\n",
              " 'IntelliJ IDEA:What editor(s)/IDE(s) have you considered for use in your Python development?',\n",
              " 'NotePad++:What editor(s)/IDE(s) have you considered for use in your Python development?',\n",
              " 'IDLE:What editor(s)/IDE(s) have you considered for use in your Python development?',\n",
              " 'Emacs:What editor(s)/IDE(s) have you considered for use in your Python development?',\n",
              " 'Python Tools for Visual Studio (PTVS):What editor(s)/IDE(s) have you considered for use in your Python development?',\n",
              " 'NetBeans:What editor(s)/IDE(s) have you considered for use in your Python development?',\n",
              " 'Spyder:What editor(s)/IDE(s) have you considered for use in your Python development?',\n",
              " 'Rodeo:What editor(s)/IDE(s) have you considered for use in your Python development?',\n",
              " 'Gedit:What editor(s)/IDE(s) have you considered for use in your Python development?',\n",
              " 'Ninja-IDE:What editor(s)/IDE(s) have you considered for use in your Python development?',\n",
              " 'Komodo Editor:What editor(s)/IDE(s) have you considered for use in your Python development?',\n",
              " 'Komodo IDE:What editor(s)/IDE(s) have you considered for use in your Python development?',\n",
              " 'Wing IDE:What editor(s)/IDE(s) have you considered for use in your Python development?',\n",
              " 'TextMate:What editor(s)/IDE(s) have you considered for use in your Python development?',\n",
              " 'Other - Write In::What editor(s)/IDE(s) have you considered for use in your Python development?',\n",
              " 'What is the main editor you use for your current Python development?',\n",
              " 'use autocompletion  in your editor:When developing in Python, how often do you…?',\n",
              " 'use the debugger:When developing in Python, how often do you…?',\n",
              " 'refactor your code:When developing in Python, how often do you…?',\n",
              " 'use VCS:When developing in Python, how often do you…?',\n",
              " 'use code linting (programs that analyze code for potential errors):When developing in Python, how often do you…?',\n",
              " 'use Python virtual environments for your projects:When developing in Python, how often do you…?',\n",
              " 'use SQL databases :When developing in Python, how often do you…?',\n",
              " 'use NoSQL databases:When developing in Python, how often do you…?',\n",
              " 'run / debug or edit code on remote machines (remote hosts, VMs, etc.):When developing in Python, how often do you…?',\n",
              " 'use a Python profiler:When developing in Python, how often do you…?',\n",
              " 'write tests for your code:When developing in Python, how often do you…?',\n",
              " 'use code coverage:When developing in Python, how often do you…?',\n",
              " 'use optional type hinting:When developing in Python, how often do you…?',\n",
              " 'use Continuous Integration tools:When developing in Python, how often do you…?',\n",
              " 'use Issue Trackers:When developing in Python, how often do you…?',\n",
              " 'Do you\\xa0regularly work on multiple projects at the same time?',\n",
              " 'How did you first learn about your main editor?',\n",
              " 'How often do you use your main editor?',\n",
              " 'Are you missing any features in your main editor?',\n",
              " 'How likely is it that you would recommend your main editor to a friend or colleague?',\n",
              " 'What do you think is the ratio of these two numbers?:Please think about the total number of Python Web Developers in the world and the total number of Data Scientists using Python.',\n",
              " 'What do you think would be the most popular opinion?:Please think about the total number of Python Web Developers in the world and the total number of Data Scientists using Python.',\n",
              " 'Most of the time, do you...?',\n",
              " 'How many people are in your project team?',\n",
              " 'What is your employment status?',\n",
              " \"Choose one from the list::Which of the following industries best describes your company's business?\",\n",
              " 'Choose one from the list::Which of the following industries do you develop for?',\n",
              " 'How long have you been working in the IT industry?',\n",
              " 'DBA:Which of the following best describes your job role(s)?',\n",
              " 'Architect:Which of the following best describes your job role(s)?',\n",
              " 'QA engineer:Which of the following best describes your job role(s)?',\n",
              " 'Developer / Programmer:Which of the following best describes your job role(s)?',\n",
              " 'Technical support:Which of the following best describes your job role(s)?',\n",
              " 'Data analyst:Which of the following best describes your job role(s)?',\n",
              " 'Business analyst:Which of the following best describes your job role(s)?',\n",
              " 'Team lead:Which of the following best describes your job role(s)?',\n",
              " 'Product manager:Which of the following best describes your job role(s)?',\n",
              " 'CIO / CEO / CTO:Which of the following best describes your job role(s)?',\n",
              " 'Systems analyst:Which of the following best describes your job role(s)?',\n",
              " 'Other - Write In::Which of the following best describes your job role(s)?',\n",
              " 'Could you tell us your age range?',\n",
              " 'What country do you live in?']"
            ]
          },
          "metadata": {
            "tags": []
          },
          "execution_count": 6
        }
      ]
    },
    {
      "metadata": {
        "id": "pPwcreb10L_r",
        "colab_type": "code",
        "colab": {}
      },
      "cell_type": "code",
      "source": [
        ""
      ],
      "execution_count": 0,
      "outputs": []
    },
    {
      "metadata": {
        "id": "f6Gtld9FtmLw",
        "colab_type": "text"
      },
      "cell_type": "markdown",
      "source": [
        "## Exercise 2: JSON\n",
        "\n",
        "Load a simple JSON dataset in pandas and analyze a nested one that cannot be directly loaded into a table.\n",
        "\n",
        "1. Download Near-Earth Asteroids and Comets dataset https://data.nasa.gov/resource/2vr3-k9wn.json (discovered in https://github.com/jdorfman/awesome-json-datasets#nasa)\n",
        "2. Load it in pandas and print a statistical summary of the data\n",
        "3. Download the Nobel Prizes dataset Nobel prizes http://api.nobelprize.org/v1/prize.json (discovered in https://github.com/jdorfman/awesome-json-datasets#nobel-prize)\n",
        "4. Try to load it in pandas. What happens?\n",
        "5. How many years are covered?\n",
        "6. Which categories are there in 2017?\n",
        "7. Print all the information of the Physics laureates of 2017\n",
        "8. Return the surnames of the Physics laureates of 2017 "
      ]
    },
    {
      "metadata": {
        "id": "H437EPAItmL0",
        "colab_type": "code",
        "colab": {
          "base_uri": "https://localhost:8080/",
          "height": 206
        },
        "outputId": "4a5cf2f6-2aa3-409c-cc9a-c89e3ba5ee4e"
      },
      "cell_type": "code",
      "source": [
        "#pd.read_json(\"https://data.nasa.gov/resource/2vr3-k9wn.json\").head()\n",
        "pd.read_json(\"http://api.nobelprize.org/v1/prize.json\").head()"
      ],
      "execution_count": 27,
      "outputs": [
        {
          "output_type": "execute_result",
          "data": {
            "text/html": [
              "<div>\n",
              "<style scoped>\n",
              "    .dataframe tbody tr th:only-of-type {\n",
              "        vertical-align: middle;\n",
              "    }\n",
              "\n",
              "    .dataframe tbody tr th {\n",
              "        vertical-align: top;\n",
              "    }\n",
              "\n",
              "    .dataframe thead th {\n",
              "        text-align: right;\n",
              "    }\n",
              "</style>\n",
              "<table border=\"1\" class=\"dataframe\">\n",
              "  <thead>\n",
              "    <tr style=\"text-align: right;\">\n",
              "      <th></th>\n",
              "      <th>prizes</th>\n",
              "    </tr>\n",
              "  </thead>\n",
              "  <tbody>\n",
              "    <tr>\n",
              "      <th>0</th>\n",
              "      <td>{'year': '2017', 'category': 'physics', 'laure...</td>\n",
              "    </tr>\n",
              "    <tr>\n",
              "      <th>1</th>\n",
              "      <td>{'year': '2017', 'category': 'chemistry', 'lau...</td>\n",
              "    </tr>\n",
              "    <tr>\n",
              "      <th>2</th>\n",
              "      <td>{'year': '2017', 'category': 'medicine', 'laur...</td>\n",
              "    </tr>\n",
              "    <tr>\n",
              "      <th>3</th>\n",
              "      <td>{'year': '2017', 'category': 'literature', 'la...</td>\n",
              "    </tr>\n",
              "    <tr>\n",
              "      <th>4</th>\n",
              "      <td>{'year': '2017', 'category': 'peace', 'laureat...</td>\n",
              "    </tr>\n",
              "  </tbody>\n",
              "</table>\n",
              "</div>"
            ],
            "text/plain": [
              "                                              prizes\n",
              "0  {'year': '2017', 'category': 'physics', 'laure...\n",
              "1  {'year': '2017', 'category': 'chemistry', 'lau...\n",
              "2  {'year': '2017', 'category': 'medicine', 'laur...\n",
              "3  {'year': '2017', 'category': 'literature', 'la...\n",
              "4  {'year': '2017', 'category': 'peace', 'laureat..."
            ]
          },
          "metadata": {
            "tags": []
          },
          "execution_count": 27
        }
      ]
    },
    {
      "metadata": {
        "id": "uJsze7F5BkcB",
        "colab_type": "code",
        "colab": {}
      },
      "cell_type": "code",
      "source": [
        "import json\n",
        "\n",
        "with open(\"sample_data/anscombe.json\") as fp:\n",
        "  data = json.load(fp)"
      ],
      "execution_count": 0,
      "outputs": []
    },
    {
      "metadata": {
        "id": "qkSypwPzAjTf",
        "colab_type": "code",
        "colab": {}
      },
      "cell_type": "code",
      "source": [
        "import requests\n",
        "\n",
        "result = requests.get(\"http://api.nobelprize.org/v1/prize.json\")"
      ],
      "execution_count": 0,
      "outputs": []
    },
    {
      "metadata": {
        "id": "7s-t-xgOBciK",
        "colab_type": "code",
        "colab": {
          "base_uri": "https://localhost:8080/",
          "height": 34
        },
        "outputId": "6a4989e6-7dd3-4f0f-8171-b7d51ad2b296"
      },
      "cell_type": "code",
      "source": [
        "data = json.loads(result.content)\n",
        "type(data)"
      ],
      "execution_count": 37,
      "outputs": [
        {
          "output_type": "execute_result",
          "data": {
            "text/plain": [
              "dict"
            ]
          },
          "metadata": {
            "tags": []
          },
          "execution_count": 37
        }
      ]
    },
    {
      "metadata": {
        "id": "1AUmgITKFGG9",
        "colab_type": "code",
        "colab": {
          "base_uri": "https://localhost:8080/",
          "height": 34
        },
        "outputId": "43b5e85c-f2d6-4e38-dd23-3bee781e8b05"
      },
      "cell_type": "code",
      "source": [
        "data.keys()"
      ],
      "execution_count": 41,
      "outputs": [
        {
          "output_type": "execute_result",
          "data": {
            "text/plain": [
              "dict_keys(['prizes'])"
            ]
          },
          "metadata": {
            "tags": []
          },
          "execution_count": 41
        }
      ]
    },
    {
      "metadata": {
        "id": "9JFEy5IpHs9F",
        "colab_type": "code",
        "colab": {
          "base_uri": "https://localhost:8080/",
          "height": 34
        },
        "outputId": "9cfe962c-56db-4be0-de5e-2d26a6c9ae87"
      },
      "cell_type": "code",
      "source": [
        "len(data[\"prizes\"])"
      ],
      "execution_count": 46,
      "outputs": [
        {
          "output_type": "execute_result",
          "data": {
            "text/plain": [
              "585"
            ]
          },
          "metadata": {
            "tags": []
          },
          "execution_count": 46
        }
      ]
    },
    {
      "metadata": {
        "id": "dSEZ5rQ2H-6s",
        "colab_type": "code",
        "colab": {}
      },
      "cell_type": "code",
      "source": [
        "years = set()"
      ],
      "execution_count": 0,
      "outputs": []
    },
    {
      "metadata": {
        "id": "fQIGojxRIARM",
        "colab_type": "code",
        "colab": {
          "base_uri": "https://localhost:8080/",
          "height": 34
        },
        "outputId": "5730aeb7-06c0-40ed-a163-dbecd442698d"
      },
      "cell_type": "code",
      "source": [
        "years.add(\"2017\")\n",
        "years"
      ],
      "execution_count": 48,
      "outputs": [
        {
          "output_type": "execute_result",
          "data": {
            "text/plain": [
              "{'2017'}"
            ]
          },
          "metadata": {
            "tags": []
          },
          "execution_count": 48
        }
      ]
    },
    {
      "metadata": {
        "id": "9R9d0IGUICcp",
        "colab_type": "code",
        "colab": {
          "base_uri": "https://localhost:8080/",
          "height": 34
        },
        "outputId": "2b33a491-506c-4191-8fd8-d9ac2c4a362b"
      },
      "cell_type": "code",
      "source": [
        "years.add(\"2017\")\n",
        "years"
      ],
      "execution_count": 49,
      "outputs": [
        {
          "output_type": "execute_result",
          "data": {
            "text/plain": [
              "{'2017'}"
            ]
          },
          "metadata": {
            "tags": []
          },
          "execution_count": 49
        }
      ]
    },
    {
      "metadata": {
        "id": "XAZwz947ILDG",
        "colab_type": "code",
        "colab": {
          "base_uri": "https://localhost:8080/",
          "height": 167
        },
        "outputId": "bef36637-7593-4571-fac8-abbee42368f6"
      },
      "cell_type": "code",
      "source": [
        "years.ad(\"2017\")"
      ],
      "execution_count": 50,
      "outputs": [
        {
          "output_type": "error",
          "ename": "AttributeError",
          "evalue": "ignored",
          "traceback": [
            "\u001b[0;31m---------------------------------------------------------------------------\u001b[0m",
            "\u001b[0;31mAttributeError\u001b[0m                            Traceback (most recent call last)",
            "\u001b[0;32m<ipython-input-50-8038506daa74>\u001b[0m in \u001b[0;36m<module>\u001b[0;34m()\u001b[0m\n\u001b[0;32m----> 1\u001b[0;31m \u001b[0myears\u001b[0m\u001b[0;34m.\u001b[0m\u001b[0mad\u001b[0m\u001b[0;34m(\u001b[0m\u001b[0;34m\"2017\"\u001b[0m\u001b[0;34m)\u001b[0m\u001b[0;34m\u001b[0m\u001b[0m\n\u001b[0m",
            "\u001b[0;31mAttributeError\u001b[0m: 'set' object has no attribute 'ad'"
          ]
        }
      ]
    },
    {
      "metadata": {
        "id": "r-h1ygU3FkwP",
        "colab_type": "code",
        "colab": {
          "base_uri": "https://localhost:8080/",
          "height": 34
        },
        "outputId": "b6718e3a-b3b1-4725-e11b-fd4d83250146"
      },
      "cell_type": "code",
      "source": [
        "prizes = set()\n",
        "\n",
        "for prize in data[\"prizes\"]:\n",
        "  prizes.add(prize[\"year\"])\n",
        "\n",
        "len(prizes)"
      ],
      "execution_count": 52,
      "outputs": [
        {
          "output_type": "execute_result",
          "data": {
            "text/plain": [
              "114"
            ]
          },
          "metadata": {
            "tags": []
          },
          "execution_count": 52
        }
      ]
    },
    {
      "metadata": {
        "id": "VCdl_fjbKgHY",
        "colab_type": "code",
        "colab": {
          "base_uri": "https://localhost:8080/",
          "height": 34
        },
        "outputId": "94e7d37b-c37f-41d4-9a9d-2ca9382aff3e"
      },
      "cell_type": "code",
      "source": [
        "categories = set()\n",
        "\n",
        "for prize in data[\"prizes\"]:\n",
        "  if prize[\"year\"] == \"2017\":\n",
        "    categories.add(prize[\"category\"])\n",
        "\n",
        "categories"
      ],
      "execution_count": 54,
      "outputs": [
        {
          "output_type": "execute_result",
          "data": {
            "text/plain": [
              "{'chemistry', 'economics', 'literature', 'medicine', 'peace', 'physics'}"
            ]
          },
          "metadata": {
            "tags": []
          },
          "execution_count": 54
        }
      ]
    },
    {
      "metadata": {
        "id": "QLxH4051NMqV",
        "colab_type": "code",
        "colab": {
          "base_uri": "https://localhost:8080/",
          "height": 34
        },
        "outputId": "27e29144-9432-4875-ad13-c7b6191f62c4"
      },
      "cell_type": "code",
      "source": [
        "surnames = list()  # []\n",
        "\n",
        "for prize in data[\"prizes\"]:\n",
        "  if prize[\"year\"] == \"2017\" and prize[\"category\"] == \"physics\":\n",
        "    for person in prize[\"laureates\"]:\n",
        "      surnames.append(person[\"surname\"])\n",
        "\n",
        "surnames"
      ],
      "execution_count": 57,
      "outputs": [
        {
          "output_type": "execute_result",
          "data": {
            "text/plain": [
              "['Weiss', 'Barish', 'Thorne']"
            ]
          },
          "metadata": {
            "tags": []
          },
          "execution_count": 57
        }
      ]
    },
    {
      "metadata": {
        "id": "7dgLtbluOrI1",
        "colab_type": "code",
        "colab": {
          "base_uri": "https://localhost:8080/",
          "height": 34
        },
        "outputId": "6c9ae318-69f3-45bb-8ced-f650b2eed19f"
      },
      "cell_type": "code",
      "source": [
        "[1] + [3, 4, 5]"
      ],
      "execution_count": 64,
      "outputs": [
        {
          "output_type": "execute_result",
          "data": {
            "text/plain": [
              "[1, 3, 4, 5]"
            ]
          },
          "metadata": {
            "tags": []
          },
          "execution_count": 64
        }
      ]
    },
    {
      "metadata": {
        "id": "f59fEI3hN4tX",
        "colab_type": "code",
        "colab": {}
      },
      "cell_type": "code",
      "source": [
        "laureates = []\n",
        "\n",
        "for prize in data[\"prizes\"]:\n",
        "  if prize[\"year\"] == \"2017\" and prize[\"category\"] == \"physics\":\n",
        "    #laureates.append(prize[\"laureates\"])\n",
        "    #laureates = prize(\"laureates\")\n",
        "    laureates.extend(prize[\"laureates\"])"
      ],
      "execution_count": 0,
      "outputs": []
    },
    {
      "metadata": {
        "id": "IQGqWDBBOb7A",
        "colab_type": "code",
        "colab": {
          "base_uri": "https://localhost:8080/",
          "height": 298
        },
        "outputId": "a5950ab1-8f4c-4e09-c983-634029f51523"
      },
      "cell_type": "code",
      "source": [
        "laureates"
      ],
      "execution_count": 62,
      "outputs": [
        {
          "output_type": "execute_result",
          "data": {
            "text/plain": [
              "[{'firstname': 'Rainer',\n",
              "  'id': '941',\n",
              "  'motivation': '\"for decisive contributions to the LIGO detector and the observation of gravitational waves\"',\n",
              "  'share': '2',\n",
              "  'surname': 'Weiss'},\n",
              " {'firstname': 'Barry C.',\n",
              "  'id': '942',\n",
              "  'motivation': '\"for decisive contributions to the LIGO detector and the observation of gravitational waves\"',\n",
              "  'share': '4',\n",
              "  'surname': 'Barish'},\n",
              " {'firstname': 'Kip S.',\n",
              "  'id': '943',\n",
              "  'motivation': '\"for decisive contributions to the LIGO detector and the observation of gravitational waves\"',\n",
              "  'share': '4',\n",
              "  'surname': 'Thorne'}]"
            ]
          },
          "metadata": {
            "tags": []
          },
          "execution_count": 62
        }
      ]
    },
    {
      "metadata": {
        "id": "LbCwhpj8FLar",
        "colab_type": "code",
        "colab": {
          "base_uri": "https://localhost:8080/",
          "height": 34
        },
        "outputId": "a14372fc-366d-41f4-d867-c54b56751f2e"
      },
      "cell_type": "code",
      "source": [
        "data[\"prizes\"][0]['category']"
      ],
      "execution_count": 43,
      "outputs": [
        {
          "output_type": "execute_result",
          "data": {
            "text/plain": [
              "'physics'"
            ]
          },
          "metadata": {
            "tags": []
          },
          "execution_count": 43
        }
      ]
    },
    {
      "metadata": {
        "id": "zAc-VghvtmL_",
        "colab_type": "text"
      },
      "cell_type": "markdown",
      "source": [
        "## Exercise 3: Parquet\n",
        "\n",
        "Analyze the git history of the NumPy project.\n",
        "\n",
        "1. Download the NumPy commit history in parquet format from https://s3.amazonaws.com/gitential-datasets/numpy-numpy/commits.parquet (discovered in https://github.com/gitential/datasets)\n",
        "2. Load it in pandas\n",
        "3. Who is the author with the most commits? \n",
        "4. Who is the author of the most commits during 2006 to 2008 (included)?\n",
        "5. How many active committers have been each year? Should we worry? "
      ]
    },
    {
      "metadata": {
        "id": "we5dcPIPPeRW",
        "colab_type": "code",
        "colab": {}
      },
      "cell_type": "code",
      "source": [
        "list_of_files = !ls sample_data"
      ],
      "execution_count": 0,
      "outputs": []
    },
    {
      "metadata": {
        "id": "eYF38YkqPq3u",
        "colab_type": "code",
        "colab": {
          "base_uri": "https://localhost:8080/",
          "height": 69
        },
        "outputId": "5dca1128-d213-4dd0-936c-d021a539fd1d"
      },
      "cell_type": "code",
      "source": [
        "list_of_files"
      ],
      "execution_count": 72,
      "outputs": [
        {
          "output_type": "execute_result",
          "data": {
            "text/plain": [
              "['anscombe.json\\t\\t      mnist_test.csv',\n",
              " 'california_housing_test.csv   mnist_train_small.csv',\n",
              " 'california_housing_train.csv  README.md']"
            ]
          },
          "metadata": {
            "tags": []
          },
          "execution_count": 72
        }
      ]
    },
    {
      "metadata": {
        "id": "MUUNmqR0PLQR",
        "colab_type": "code",
        "colab": {
          "base_uri": "https://localhost:8080/",
          "height": 159
        },
        "outputId": "477407b9-e53b-4ed1-8b85-dda99be8b1aa"
      },
      "cell_type": "code",
      "source": [
        "!pip install pyarrow"
      ],
      "execution_count": 66,
      "outputs": [
        {
          "output_type": "stream",
          "text": [
            "Collecting pyarrow\n",
            "\u001b[?25l  Downloading https://files.pythonhosted.org/packages/c9/b8/076ebd968f3c6d4e9b6e5de696f0b19964a3d4b7dc020fd32db4e868ad74/pyarrow-0.10.0-cp36-cp36m-manylinux1_x86_64.whl (11.6MB)\n",
            "\u001b[K    100% |████████████████████████████████| 11.6MB 2.7MB/s \n",
            "\u001b[?25hRequirement already satisfied: numpy>=1.10 in /usr/local/lib/python3.6/dist-packages (from pyarrow) (1.14.6)\n",
            "Requirement already satisfied: six>=1.0.0 in /usr/local/lib/python3.6/dist-packages (from pyarrow) (1.11.0)\n",
            "Installing collected packages: pyarrow\n",
            "Successfully installed pyarrow-0.10.0\n"
          ],
          "name": "stdout"
        }
      ]
    },
    {
      "metadata": {
        "id": "5mdqPb1htmMD",
        "colab_type": "code",
        "colab": {
          "base_uri": "https://localhost:8080/",
          "height": 620
        },
        "outputId": "46635cea-3340-4b5a-85cd-eb2739f8a160"
      },
      "cell_type": "code",
      "source": [
        "data = pd.read_parquet(\"https://s3.amazonaws.com/gitential-datasets/numpy-numpy/commits.parquet\")\n",
        "data.head()"
      ],
      "execution_count": 73,
      "outputs": [
        {
          "output_type": "execute_result",
          "data": {
            "text/html": [
              "<div>\n",
              "<style scoped>\n",
              "    .dataframe tbody tr th:only-of-type {\n",
              "        vertical-align: middle;\n",
              "    }\n",
              "\n",
              "    .dataframe tbody tr th {\n",
              "        vertical-align: top;\n",
              "    }\n",
              "\n",
              "    .dataframe thead th {\n",
              "        text-align: right;\n",
              "    }\n",
              "</style>\n",
              "<table border=\"1\" class=\"dataframe\">\n",
              "  <thead>\n",
              "    <tr style=\"text-align: right;\">\n",
              "      <th></th>\n",
              "      <th>id</th>\n",
              "      <th>delay</th>\n",
              "      <th>age</th>\n",
              "      <th>ismerge</th>\n",
              "      <th>squashof</th>\n",
              "      <th>author_name</th>\n",
              "      <th>author_email</th>\n",
              "      <th>committer_name</th>\n",
              "      <th>committer_email</th>\n",
              "      <th>author_time</th>\n",
              "      <th>...</th>\n",
              "      <th>loc_i</th>\n",
              "      <th>comp_d</th>\n",
              "      <th>comp_i</th>\n",
              "      <th>nfiles</th>\n",
              "      <th>message</th>\n",
              "      <th>ndiffs</th>\n",
              "      <th>author_email_dedup</th>\n",
              "      <th>author_name_dedup</th>\n",
              "      <th>committer_email_dedup</th>\n",
              "      <th>committer_name_dedup</th>\n",
              "    </tr>\n",
              "  </thead>\n",
              "  <tbody>\n",
              "    <tr>\n",
              "      <th>0</th>\n",
              "      <td>f1a2d6376c430f65550efa235209b86c1a0967e3</td>\n",
              "      <td>0</td>\n",
              "      <td>-1</td>\n",
              "      <td>False</td>\n",
              "      <td>-1</td>\n",
              "      <td>Eric Jones</td>\n",
              "      <td>e***@enthought.com</td>\n",
              "      <td>Eric Jones</td>\n",
              "      <td>e***@enthought.com</td>\n",
              "      <td>2001-12-18 15:45:10</td>\n",
              "      <td>...</td>\n",
              "      <td>1337</td>\n",
              "      <td>0</td>\n",
              "      <td>2644</td>\n",
              "      <td>14</td>\n",
              "      <td>factored out the scipy specific distutils code...</td>\n",
              "      <td>1</td>\n",
              "      <td>e***@enthought.com</td>\n",
              "      <td>Eric Jones</td>\n",
              "      <td>e***@enthought.com</td>\n",
              "      <td>Eric Jones</td>\n",
              "    </tr>\n",
              "    <tr>\n",
              "      <th>1</th>\n",
              "      <td>74a4958b94e07b2e3218741fb52d32e87308d62e</td>\n",
              "      <td>0</td>\n",
              "      <td>-1</td>\n",
              "      <td>False</td>\n",
              "      <td>-1</td>\n",
              "      <td>Eric Jones</td>\n",
              "      <td>e***@enthought.com</td>\n",
              "      <td>Eric Jones</td>\n",
              "      <td>e***@enthought.com</td>\n",
              "      <td>2001-12-25 06:03:41</td>\n",
              "      <td>...</td>\n",
              "      <td>303</td>\n",
              "      <td>0</td>\n",
              "      <td>475</td>\n",
              "      <td>3</td>\n",
              "      <td>split scipy_test off into its own module.\\n</td>\n",
              "      <td>1</td>\n",
              "      <td>e***@enthought.com</td>\n",
              "      <td>Eric Jones</td>\n",
              "      <td>e***@enthought.com</td>\n",
              "      <td>Eric Jones</td>\n",
              "    </tr>\n",
              "    <tr>\n",
              "      <th>2</th>\n",
              "      <td>a76efe8206df0ec315f67012236577c1e31ad258</td>\n",
              "      <td>0</td>\n",
              "      <td>-1</td>\n",
              "      <td>False</td>\n",
              "      <td>-1</td>\n",
              "      <td>Eric Jones</td>\n",
              "      <td>e***@enthought.com</td>\n",
              "      <td>Eric Jones</td>\n",
              "      <td>e***@enthought.com</td>\n",
              "      <td>2001-12-25 06:05:32</td>\n",
              "      <td>...</td>\n",
              "      <td>29</td>\n",
              "      <td>2</td>\n",
              "      <td>48</td>\n",
              "      <td>3</td>\n",
              "      <td>added build_py module\\n</td>\n",
              "      <td>1</td>\n",
              "      <td>e***@enthought.com</td>\n",
              "      <td>Eric Jones</td>\n",
              "      <td>e***@enthought.com</td>\n",
              "      <td>Eric Jones</td>\n",
              "    </tr>\n",
              "    <tr>\n",
              "      <th>3</th>\n",
              "      <td>76cfe839f027edd48a86112bc8e1490d848d20d0</td>\n",
              "      <td>0</td>\n",
              "      <td>-1</td>\n",
              "      <td>False</td>\n",
              "      <td>-1</td>\n",
              "      <td>Eric Jones</td>\n",
              "      <td>e***@enthought.com</td>\n",
              "      <td>Eric Jones</td>\n",
              "      <td>e***@enthought.com</td>\n",
              "      <td>2001-12-25 06:06:40</td>\n",
              "      <td>...</td>\n",
              "      <td>102</td>\n",
              "      <td>52</td>\n",
              "      <td>152</td>\n",
              "      <td>5</td>\n",
              "      <td>added misc_util file that has a few routines u...</td>\n",
              "      <td>1</td>\n",
              "      <td>e***@enthought.com</td>\n",
              "      <td>Eric Jones</td>\n",
              "      <td>e***@enthought.com</td>\n",
              "      <td>Eric Jones</td>\n",
              "    </tr>\n",
              "    <tr>\n",
              "      <th>4</th>\n",
              "      <td>b1263a71669aad6b9ac5db8ce961a18c204e925f</td>\n",
              "      <td>0</td>\n",
              "      <td>-1</td>\n",
              "      <td>False</td>\n",
              "      <td>-1</td>\n",
              "      <td>Eric Jones</td>\n",
              "      <td>e***@enthought.com</td>\n",
              "      <td>Eric Jones</td>\n",
              "      <td>e***@enthought.com</td>\n",
              "      <td>2001-12-31 08:40:02</td>\n",
              "      <td>...</td>\n",
              "      <td>128</td>\n",
              "      <td>2</td>\n",
              "      <td>242</td>\n",
              "      <td>2</td>\n",
              "      <td>fixed path issues resulting from using setup_x...</td>\n",
              "      <td>1</td>\n",
              "      <td>e***@enthought.com</td>\n",
              "      <td>Eric Jones</td>\n",
              "      <td>e***@enthought.com</td>\n",
              "      <td>Eric Jones</td>\n",
              "    </tr>\n",
              "  </tbody>\n",
              "</table>\n",
              "<p>5 rows × 22 columns</p>\n",
              "</div>"
            ],
            "text/plain": [
              "                                         id  delay  age  ismerge  squashof  \\\n",
              "0  f1a2d6376c430f65550efa235209b86c1a0967e3      0   -1    False        -1   \n",
              "1  74a4958b94e07b2e3218741fb52d32e87308d62e      0   -1    False        -1   \n",
              "2  a76efe8206df0ec315f67012236577c1e31ad258      0   -1    False        -1   \n",
              "3  76cfe839f027edd48a86112bc8e1490d848d20d0      0   -1    False        -1   \n",
              "4  b1263a71669aad6b9ac5db8ce961a18c204e925f      0   -1    False        -1   \n",
              "\n",
              "  author_name        author_email committer_name     committer_email  \\\n",
              "0  Eric Jones  e***@enthought.com     Eric Jones  e***@enthought.com   \n",
              "1  Eric Jones  e***@enthought.com     Eric Jones  e***@enthought.com   \n",
              "2  Eric Jones  e***@enthought.com     Eric Jones  e***@enthought.com   \n",
              "3  Eric Jones  e***@enthought.com     Eric Jones  e***@enthought.com   \n",
              "4  Eric Jones  e***@enthought.com     Eric Jones  e***@enthought.com   \n",
              "\n",
              "          author_time         ...          loc_i  comp_d  comp_i  nfiles  \\\n",
              "0 2001-12-18 15:45:10         ...           1337       0    2644      14   \n",
              "1 2001-12-25 06:03:41         ...            303       0     475       3   \n",
              "2 2001-12-25 06:05:32         ...             29       2      48       3   \n",
              "3 2001-12-25 06:06:40         ...            102      52     152       5   \n",
              "4 2001-12-31 08:40:02         ...            128       2     242       2   \n",
              "\n",
              "                                             message  ndiffs  \\\n",
              "0  factored out the scipy specific distutils code...       1   \n",
              "1        split scipy_test off into its own module.\\n       1   \n",
              "2                            added build_py module\\n       1   \n",
              "3  added misc_util file that has a few routines u...       1   \n",
              "4  fixed path issues resulting from using setup_x...       1   \n",
              "\n",
              "   author_email_dedup  author_name_dedup committer_email_dedup  \\\n",
              "0  e***@enthought.com         Eric Jones    e***@enthought.com   \n",
              "1  e***@enthought.com         Eric Jones    e***@enthought.com   \n",
              "2  e***@enthought.com         Eric Jones    e***@enthought.com   \n",
              "3  e***@enthought.com         Eric Jones    e***@enthought.com   \n",
              "4  e***@enthought.com         Eric Jones    e***@enthought.com   \n",
              "\n",
              "  committer_name_dedup  \n",
              "0           Eric Jones  \n",
              "1           Eric Jones  \n",
              "2           Eric Jones  \n",
              "3           Eric Jones  \n",
              "4           Eric Jones  \n",
              "\n",
              "[5 rows x 22 columns]"
            ]
          },
          "metadata": {
            "tags": []
          },
          "execution_count": 73
        }
      ]
    },
    {
      "metadata": {
        "id": "BmVkBnzbSErG",
        "colab_type": "code",
        "colab": {
          "base_uri": "https://localhost:8080/",
          "height": 52
        },
        "outputId": "42a454d5-d9cd-4857-8b32-6d268141c94e"
      },
      "cell_type": "code",
      "source": [
        "data[\"committer_name_dedup\"].value_counts().head(1)"
      ],
      "execution_count": 77,
      "outputs": [
        {
          "output_type": "execute_result",
          "data": {
            "text/plain": [
              "Charles R Harris    4753\n",
              "Name: committer_name_dedup, dtype: int64"
            ]
          },
          "metadata": {
            "tags": []
          },
          "execution_count": 77
        }
      ]
    },
    {
      "metadata": {
        "id": "Vy-jvDfFPDPf",
        "colab_type": "code",
        "colab": {
          "base_uri": "https://localhost:8080/",
          "height": 503
        },
        "outputId": "3f443b3e-0df4-4c01-f350-c845ec43106d"
      },
      "cell_type": "code",
      "source": [
        "data.loc[\n",
        "    (data[\"author_time\"] >= \"2006-01-01\") & (data[\"author_time\"] < \"2009-01-01\"),\n",
        "    \"author_name\"\n",
        "].value_counts()"
      ],
      "execution_count": 84,
      "outputs": [
        {
          "output_type": "execute_result",
          "data": {
            "text/plain": [
              "Travis Oliphant        1316\n",
              "David Cournapeau        509\n",
              "Pearu Peterson          349\n",
              "Stefan van der Walt     347\n",
              "Charles Harris          312\n",
              "cookedm                 212\n",
              "Robert Kern             123\n",
              "pierregm                121\n",
              "Jarrod Millman          107\n",
              "Alan McIntyre            81\n",
              "sasha                    74\n",
              "wfspotz@sandia.gov       63\n",
              "Pauli Virtanen           57\n",
              "Tim Leslie               29\n",
              "dhuard                   25\n",
              "edschofield              20\n",
              "Tim Hochberg             16\n",
              "chris.burns              13\n",
              "Matthew Brett            12\n",
              "Fernando Perez            9\n",
              "Robert Cimrman            8\n",
              "chanley                   8\n",
              "aarchiba                  7\n",
              "Eric Jones                4\n",
              "abaecker                  2\n",
              "Chris Barker              2\n",
              "Christoph Weidemann       1\n",
              "Name: author_name, dtype: int64"
            ]
          },
          "metadata": {
            "tags": []
          },
          "execution_count": 84
        }
      ]
    },
    {
      "metadata": {
        "id": "5DNPOQxPSkR1",
        "colab_type": "code",
        "colab": {}
      },
      "cell_type": "code",
      "source": [
        ""
      ],
      "execution_count": 0,
      "outputs": []
    }
  ]
}