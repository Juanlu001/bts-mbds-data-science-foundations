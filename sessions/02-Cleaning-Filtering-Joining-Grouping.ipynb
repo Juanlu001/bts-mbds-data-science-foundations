{
 "cells": [
  {
   "cell_type": "markdown",
   "metadata": {},
   "source": [
    "![BTS](img/Logo-BTS.jpg)\n",
    "\n",
    "# Session 2: Cleaning, filtering, joining and grouping\n",
    "\n",
    "### Juan Luis Cano Rodríguez <juan.cano@bts.tech> - Data Science Foundations (2018-10-03)\n",
    "\n",
    "Open this notebook in Google Colaboratory: [![Open in Colab](https://colab.research.google.com/assets/colab-badge.svg)](https://colab.research.google.com/github/Juanlu001/bts-mbds-data-science-foundations/blob/master/sessions/02-Cleaning-Filtering-Joining-Grouping.ipynb)"
   ]
  },
  {
   "cell_type": "markdown",
   "metadata": {},
   "source": [
    "## Exercise 1: Loading tricky datasets\n",
    "\n",
    "1. Load https://github.com/Juanlu001/bts-mbds-data-science-foundations/raw/master/sessions/data/model.txt in pandas using proper parameters in `read_csv`\n",
    "2. Load https://github.com/Juanlu001/bts-mbds-data-science-foundations/raw/master/sessions/data/tabernas_meteo_data.txt in pandas using proper parameters in `read_csv`"
   ]
  },
  {
   "cell_type": "code",
   "execution_count": null,
   "metadata": {},
   "outputs": [],
   "source": []
  },
  {
   "cell_type": "markdown",
   "metadata": {},
   "source": [
    "## Exercise 2: Titanic dataset\n",
    "\n",
    "Analyze the dataset of the Titanic passengers https://www.kaggle.com/c/titanic/data\n",
    "\n",
    "1. Load https://github.com/Juanlu001/bts-mbds-data-science-foundations/raw/master/sessions/data/titanic.csv in pandas\n",
    "2. What's the percentage of survivors? Men and women?\n",
    "3. What's the percentage of survival _by sex_?\n",
    "4. What's _the sex of the survivors_?\n",
    "5. What is the probability of being male/female, and surviving/not surviving?\n",
    "6. What is the probability of survival by sex and class?\n",
    "7. Divide the age in meaningful groups (\"bins\") and represent the distribution\n",
    "8. What's the probability of survival by sex and age group?\n",
    "9. Extract the title (\"Mr.\", \"Mrs.\") to a separate column\n",
    "10. What's the _median_ age of each title?\n",
    "11. Impute the missing age values using the median for the title"
   ]
  },
  {
   "cell_type": "code",
   "execution_count": null,
   "metadata": {},
   "outputs": [],
   "source": []
  }
 ],
 "metadata": {
  "kernelspec": {
   "display_name": "Python 3",
   "language": "python",
   "name": "python3"
  },
  "language_info": {
   "codemirror_mode": {
    "name": "ipython",
    "version": 3
   },
   "file_extension": ".py",
   "mimetype": "text/x-python",
   "name": "python",
   "nbconvert_exporter": "python",
   "pygments_lexer": "ipython3",
   "version": "3.6.6"
  }
 },
 "nbformat": 4,
 "nbformat_minor": 2
}
