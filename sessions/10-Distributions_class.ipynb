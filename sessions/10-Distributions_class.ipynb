{
 "cells": [
  {
   "cell_type": "markdown",
   "metadata": {},
   "source": [
    "![BTS](img/Logo-BTS.jpg)\n",
    "\n",
    "# Session 10: Distributions\n",
    "\n",
    "### Juan Luis Cano Rodríguez <juan.cano@bts.tech> - Data Science Foundations (2018-11-06)\n",
    "\n",
    "Open this notebook in Google Colaboratory: [![Open in Colab](https://colab.research.google.com/assets/colab-badge.svg)](https://colab.research.google.com/github/Juanlu001/bts-mbds-data-science-foundations/blob/master/sessions/10-Distributions.ipynb)"
   ]
  },
  {
   "cell_type": "markdown",
   "metadata": {},
   "source": [
    "## Exercise 1: The class size paradox\n",
    "\n",
    "The data below is a survey of class sizes in a university.\n",
    "\n",
    "1. Turn the `data` into a pandas `Series`\n",
    "2. What's the probability of each value within the data? Sort it and represent it in a bar plot (this is the **probability mass function** or PMF)\n",
    "3. Perform the cumulative sum of these values and represent it in another bar plot\n",
    "4. Compute how many classes are in the range $[5, 9]$, in the range $[10, 14]$... and so forth, until $[45, 49]$\n",
    "5. Sort and plot the previous result and compare it to the histogram of the original data\n",
    "6. Imagine that we survey each student and ask them how many students are in their class. How can we compute these results from the data that we have?\n",
    "7. What is the average of the responses? Why do we get such result?\n",
    "\n",
    "```\n",
    "data = [\n",
    "    27, 30, 13, 18, 28, 10, 32, 37, 31, 17, 18, 31, 34,\n",
    "    18, 20, 16, 38, 14, 36, 30, 18, 29, 16, 10, 17, 40,\n",
    "    32, 18, 5, 18, 15, 29, 37, 18, 42, 47, 35, 34, 19,\n",
    "    8, 12, 36, 42, 12, 34, 7, 35, 25, 7, 34, 46, 31,\n",
    "    14, 29, 10, 6, 36, 6, 18, 24, 8, 22, 5, 32, 20\n",
    "]\n",
    "```"
   ]
  },
  {
   "cell_type": "code",
   "execution_count": 1,
   "metadata": {},
   "outputs": [],
   "source": [
    "import pandas as pd"
   ]
  },
  {
   "cell_type": "code",
   "execution_count": 4,
   "metadata": {},
   "outputs": [],
   "source": [
    "data = [\n",
    "    27, 30, 13, 18, 28, 10, 32, 37, 31, 17, 18, 31, 34,\n",
    "    18, 20, 16, 38, 14, 36, 30, 18, 29, 16, 10, 17, 40,\n",
    "    32, 18, 5, 18, 15, 29, 37, 18, 42, 47, 35, 34, 19,\n",
    "    8, 12, 36, 42, 12, 34, 7, 35, 25, 7, 34, 46, 31,\n",
    "    14, 29, 10, 6, 36, 6, 18, 24, 8, 22, 5, 32, 20\n",
    "]"
   ]
  },
  {
   "cell_type": "code",
   "execution_count": 5,
   "metadata": {},
   "outputs": [],
   "source": [
    "ser = pd.Series(data)"
   ]
  },
  {
   "cell_type": "code",
   "execution_count": 11,
   "metadata": {},
   "outputs": [],
   "source": [
    "probs = (ser.value_counts() / len(ser)).sort_index()"
   ]
  },
  {
   "cell_type": "code",
   "execution_count": 40,
   "metadata": {},
   "outputs": [],
   "source": [
    "probs = probs.reindex(np.arange(5, 48)).fillna(0)"
   ]
  },
  {
   "cell_type": "code",
   "execution_count": 12,
   "metadata": {},
   "outputs": [],
   "source": [
    "import matplotlib.pyplot as plt\n",
    "plt.ion()"
   ]
  },
  {
   "cell_type": "code",
   "execution_count": 44,
   "metadata": {},
   "outputs": [
    {
     "data": {
      "image/png": "[encoded data removed]",
      "text/plain": [
       "<Figure size 720x288 with 1 Axes>"
      ]
     },
     "metadata": {
      "needs_background": "light"
     },
     "output_type": "display_data"
    }
   ],
   "source": [
    "ax = probs.plot(kind='bar', figsize=(10, 4))\n",
    "ax.set_title(\"Probabilities\");"
   ]
  },
  {
   "cell_type": "code",
   "execution_count": 47,
   "metadata": {},
   "outputs": [
    {
     "data": {
      "image/png": "[encoded data removed]",
      "text/plain": [
       "<Figure size 720x288 with 1 Axes>"
      ]
     },
     "metadata": {
      "needs_background": "light"
     },
     "output_type": "display_data"
    }
   ],
   "source": [
    "probs.cumsum().plot.bar(figsize=(10, 4), color='C0');"
   ]
  },
  {
   "cell_type": "code",
   "execution_count": 52,
   "metadata": {},
   "outputs": [
    {
     "data": {
      "text/plain": [
       "0    27\n",
       "1    30\n",
       "2    13\n",
       "3    18\n",
       "4    28\n",
       "dtype: int64"
      ]
     },
     "execution_count": 52,
     "metadata": {},
     "output_type": "execute_result"
    }
   ],
   "source": [
    "ser.head()"
   ]
  },
  {
   "cell_type": "code",
   "execution_count": 65,
   "metadata": {},
   "outputs": [
    {
     "data": {
      "text/plain": [
       "[5, 10, 15, 20, 25, 30, 35, 40, 45]"
      ]
     },
     "execution_count": 65,
     "metadata": {},
     "output_type": "execute_result"
    }
   ],
   "source": [
    "list(range(5, 50, 5))"
   ]
  },
  {
   "cell_type": "code",
   "execution_count": 64,
   "metadata": {},
   "outputs": [
    {
     "data": {
      "text/plain": [
       "[5, 10, 15, 20, 25, 30, 35, 40, 45, 50]"
      ]
     },
     "execution_count": 64,
     "metadata": {},
     "output_type": "execute_result"
    }
   ],
   "source": [
    "list(range(5, 51, 5))"
   ]
  },
  {
   "cell_type": "code",
   "execution_count": 67,
   "metadata": {},
   "outputs": [
    {
     "data": {
      "text/plain": [
       "[5, 10, 15, 20, 25, 30, 35, 40, 45, 50]"
      ]
     },
     "execution_count": 67,
     "metadata": {},
     "output_type": "execute_result"
    }
   ],
   "source": [
    "list(range(5, 54, 5))"
   ]
  },
  {
   "cell_type": "code",
   "execution_count": 59,
   "metadata": {},
   "outputs": [],
   "source": [
    "#ser.value_counts(bins=range(4, 50, 5))  # Does not quite work as we need"
   ]
  },
  {
   "cell_type": "code",
   "execution_count": 69,
   "metadata": {},
   "outputs": [
    {
     "data": {
      "text/plain": [
       "0    27\n",
       "1    30\n",
       "2    13\n",
       "3    18\n",
       "4    28\n",
       "dtype: int64"
      ]
     },
     "execution_count": 69,
     "metadata": {},
     "output_type": "execute_result"
    }
   ],
   "source": [
    "ser.head()"
   ]
  },
  {
   "cell_type": "code",
   "execution_count": 70,
   "metadata": {},
   "outputs": [
    {
     "data": {
      "text/plain": [
       "0     27\n",
       "1     30\n",
       "2     13\n",
       "3     18\n",
       "4     28\n",
       "5     10\n",
       "6     32\n",
       "7     37\n",
       "8     31\n",
       "9     17\n",
       "10    18\n",
       "11    31\n",
       "12    34\n",
       "13    18\n",
       "14    20\n",
       "15    16\n",
       "16    38\n",
       "17    14\n",
       "18    36\n",
       "19    30\n",
       "20    18\n",
       "21    29\n",
       "22    16\n",
       "23    10\n",
       "24    17\n",
       "25    40\n",
       "26    32\n",
       "27    18\n",
       "28     5\n",
       "29    18\n",
       "      ..\n",
       "35    47\n",
       "36    35\n",
       "37    34\n",
       "38    19\n",
       "39     8\n",
       "40    12\n",
       "41    36\n",
       "42    42\n",
       "43    12\n",
       "44    34\n",
       "45     7\n",
       "46    35\n",
       "47    25\n",
       "48     7\n",
       "49    34\n",
       "50    46\n",
       "51    31\n",
       "52    14\n",
       "53    29\n",
       "54    10\n",
       "55     6\n",
       "56    36\n",
       "57     6\n",
       "58    18\n",
       "59    24\n",
       "60     8\n",
       "61    22\n",
       "62     5\n",
       "63    32\n",
       "64    20\n",
       "Length: 65, dtype: int64"
      ]
     },
     "execution_count": 70,
     "metadata": {},
     "output_type": "execute_result"
    }
   ],
   "source": [
    "ser"
   ]
  },
  {
   "cell_type": "code",
   "execution_count": 74,
   "metadata": {},
   "outputs": [
    {
     "data": {
      "image/png": "[encoded data removed]",
      "text/plain": [
       "<Figure size 432x288 with 1 Axes>"
      ]
     },
     "metadata": {
      "needs_background": "light"
     },
     "output_type": "display_data"
    }
   ],
   "source": [
    "pd.cut(ser, range(5, 51, 5), right=False).value_counts().sort_index().plot.bar();"
   ]
  },
  {
   "cell_type": "code",
   "execution_count": 79,
   "metadata": {},
   "outputs": [
    {
     "data": {
      "image/png": "[encoded data removed]",
      "text/plain": [
       "<Figure size 432x288 with 1 Axes>"
      ]
     },
     "metadata": {
      "needs_background": "light"
     },
     "output_type": "display_data"
    }
   ],
   "source": [
    "ser.hist(bins=range(5, 51, 5));"
   ]
  },
  {
   "cell_type": "code",
   "execution_count": 81,
   "metadata": {},
   "outputs": [
    {
     "data": {
      "text/plain": [
       "22.0"
      ]
     },
     "execution_count": 81,
     "metadata": {},
     "output_type": "execute_result"
    }
   ],
   "source": [
    "ser.median()"
   ]
  },
  {
   "cell_type": "code",
   "execution_count": 80,
   "metadata": {},
   "outputs": [
    {
     "data": {
      "text/plain": [
       "23.630769230769232"
      ]
     },
     "execution_count": 80,
     "metadata": {},
     "output_type": "execute_result"
    }
   ],
   "source": [
    "ser.mean()"
   ]
  },
  {
   "cell_type": "code",
   "execution_count": 82,
   "metadata": {},
   "outputs": [
    {
     "data": {
      "text/plain": [
       "0    27\n",
       "1    30\n",
       "2    13\n",
       "3    18\n",
       "4    28\n",
       "dtype: int64"
      ]
     },
     "execution_count": 82,
     "metadata": {},
     "output_type": "execute_result"
    }
   ],
   "source": [
    "ser.head()"
   ]
  },
  {
   "cell_type": "code",
   "execution_count": 90,
   "metadata": {},
   "outputs": [
    {
     "data": {
      "text/plain": [
       "[5, 5, 5, 5, 5]"
      ]
     },
     "execution_count": 90,
     "metadata": {},
     "output_type": "execute_result"
    }
   ],
   "source": [
    "[5] * 5"
   ]
  },
  {
   "cell_type": "code",
   "execution_count": 111,
   "metadata": {},
   "outputs": [
    {
     "name": "stdout",
     "output_type": "stream",
     "text": [
      "773 µs ± 76.8 µs per loop (mean ± std. dev. of 7 runs, 1000 loops each)\n"
     ]
    }
   ],
   "source": [
    "%%timeit\n",
    "survey = []\n",
    "for class_size in data:\n",
    "    survey.extend([class_size] * class_size)\n",
    "\n",
    "survey = pd.Series(survey)\n",
    "survey.mean()"
   ]
  },
  {
   "cell_type": "code",
   "execution_count": 93,
   "metadata": {},
   "outputs": [
    {
     "data": {
      "text/plain": [
       "29.061197916666668"
      ]
     },
     "execution_count": 93,
     "metadata": {},
     "output_type": "execute_result"
    }
   ],
   "source": [
    "survey.mean()"
   ]
  },
  {
   "cell_type": "code",
   "execution_count": 105,
   "metadata": {},
   "outputs": [
    {
     "name": "stdout",
     "output_type": "stream",
     "text": [
      "259 µs ± 75.8 µs per loop (mean ± std. dev. of 7 runs, 1000 loops each)\n"
     ]
    }
   ],
   "source": [
    "%timeit ser.repeat(ser)"
   ]
  },
  {
   "cell_type": "code",
   "execution_count": 109,
   "metadata": {},
   "outputs": [
    {
     "name": "stdout",
     "output_type": "stream",
     "text": [
      "369 µs ± 75.4 µs per loop (mean ± std. dev. of 7 runs, 1000 loops each)\n"
     ]
    }
   ],
   "source": [
    "%timeit ser.repeat(ser).mean()"
   ]
  },
  {
   "cell_type": "code",
   "execution_count": 113,
   "metadata": {},
   "outputs": [
    {
     "data": {
      "text/plain": [
       "23.630769230769232"
      ]
     },
     "execution_count": 113,
     "metadata": {},
     "output_type": "execute_result"
    }
   ],
   "source": [
    "ser.mean()"
   ]
  },
  {
   "cell_type": "code",
   "execution_count": 112,
   "metadata": {},
   "outputs": [
    {
     "data": {
      "text/plain": [
       "29.061197916666668"
      ]
     },
     "execution_count": 112,
     "metadata": {},
     "output_type": "execute_result"
    }
   ],
   "source": [
    "(ser ** 2).sum() / ser.sum()"
   ]
  },
  {
   "cell_type": "markdown",
   "metadata": {},
   "source": [
    "## Exercise 2: Tossing a biased coin\n",
    "\n",
    "1. Create a function that simulates a biased coin, which takes a parameter `p_head` between 0 and 1 (with a default value of 0.5) representing the probability of having a \"head\" and returns `True` or `False` (head and tail) randomly on each call\n",
    "2. Perform 1000 experiments and plot the evolution of the ratio of heads to check that it converges to the specified value (hint: reuse the logic from the previous session)\n",
    "3. What's the probability of tossing the coin 6 times with `p_head=0.7` and having 6 heads?\n",
    "4. Set the number of tosses to 6 and `p_head=0.7`, plot the simulation of all possible number of heads (0, 1, 2, ..., 6) and retrieve all the \"empirical probabilities\" (hint: the \"last value\" of the simulation)\n",
    "5. Plot the probabilities in a bar graph\n",
    "6. Import the **binomial** distribution from `scipy.stats`, create a random variable with `n=6` and `p=0.7`, and plot its _probability mass function_ (PMF). Does it ring a bell?\n",
    "\n",
    "![Tossing a coin](img/tosses.png)"
   ]
  },
  {
   "cell_type": "code",
   "execution_count": 1,
   "metadata": {},
   "outputs": [],
   "source": [
    "import random"
   ]
  },
  {
   "cell_type": "code",
   "execution_count": 16,
   "metadata": {},
   "outputs": [
    {
     "data": {
      "text/plain": [
       "0.26414436286343546"
      ]
     },
     "execution_count": 16,
     "metadata": {},
     "output_type": "execute_result"
    }
   ],
   "source": [
    "random.random()"
   ]
  },
  {
   "cell_type": "code",
   "execution_count": 49,
   "metadata": {},
   "outputs": [],
   "source": [
    "import numpy as np"
   ]
  },
  {
   "cell_type": "code",
   "execution_count": 53,
   "metadata": {},
   "outputs": [],
   "source": [
    "def toss_coin_alt(p_head=0.5):\n",
    "    return np.random.choice([\"Head\", \"Tail\"], p=[p_head, 1 - p_head])"
   ]
  },
  {
   "cell_type": "code",
   "execution_count": 17,
   "metadata": {},
   "outputs": [],
   "source": [
    "def toss_coin(p_head=0.5):\n",
    "    return random.random() < p_head"
   ]
  },
  {
   "cell_type": "code",
   "execution_count": 47,
   "metadata": {},
   "outputs": [
    {
     "data": {
      "text/plain": [
       "True"
      ]
     },
     "execution_count": 47,
     "metadata": {},
     "output_type": "execute_result"
    }
   ],
   "source": [
    "toss_coin(0.5)"
   ]
  },
  {
   "cell_type": "code",
   "execution_count": 113,
   "metadata": {},
   "outputs": [],
   "source": [
    "import pandas as pd"
   ]
  },
  {
   "cell_type": "code",
   "execution_count": 122,
   "metadata": {},
   "outputs": [],
   "source": [
    "import seaborn\n",
    "seaborn.set()"
   ]
  },
  {
   "cell_type": "code",
   "execution_count": 123,
   "metadata": {},
   "outputs": [
    {
     "data": {
      "image/png": "[encoded data removed]",
      "text/plain": [
       "<Figure size 432x288 with 1 Axes>"
      ]
     },
     "metadata": {},
     "output_type": "display_data"
    }
   ],
   "source": [
    "p_head = 0.3\n",
    "\n",
    "def run_simulation(num_times, p_head):\n",
    "    results = []\n",
    "    graph = []\n",
    "    for _ in range(num_times):\n",
    "        results.append(toss_coin(p_head))\n",
    "        graph.append(results.count(True) / len(results))\n",
    "\n",
    "    return pd.Series(graph)\n",
    "\n",
    "graph = run_simulation(1_000, p_head)\n",
    "graph.plot();"
   ]
  },
  {
   "cell_type": "code",
   "execution_count": 133,
   "metadata": {},
   "outputs": [],
   "source": [
    "import matplotlib.pyplot as plt"
   ]
  },
  {
   "cell_type": "code",
   "execution_count": 125,
   "metadata": {},
   "outputs": [],
   "source": [
    "def toss_coin_n_times(num_tosses, p_head, num_heads):\n",
    "    coin_results = [toss_coin(p_head) for _ in range(num_tosses)]\n",
    "    return coin_results.count(True) == num_heads"
   ]
  },
  {
   "cell_type": "code",
   "execution_count": 130,
   "metadata": {},
   "outputs": [],
   "source": [
    "def run_simulation(num_times, num_tosses, p_head, num_heads):\n",
    "    results = []\n",
    "    graph = []\n",
    "    for _ in range(num_times):\n",
    "        results.append(toss_coin_n_times(num_tosses, p_head, num_heads))\n",
    "        graph.append(results.count(True) / len(results))\n",
    "\n",
    "    return pd.Series(graph)"
   ]
  },
  {
   "cell_type": "code",
   "execution_count": 144,
   "metadata": {},
   "outputs": [
    {
     "data": {
      "image/png": "[encoded data removed]",
      "text/plain": [
       "<Figure size 432x288 with 1 Axes>"
      ]
     },
     "metadata": {},
     "output_type": "display_data"
    }
   ],
   "source": [
    "probabilities = {}\n",
    "for num_heads in range(7):\n",
    "    graph = run_simulation(1_000, 6, 0.7, num_heads)\n",
    "    graph.plot(label=\"Heads = {}\".format(num_heads))\n",
    "    probabilities[num_heads] = graph.iloc[-1]\n",
    "\n",
    "plt.ylim(0, 0.5)\n",
    "plt.legend()\n",
    "plt.title(\"Toss coin 6 times, p=0.7\");"
   ]
  },
  {
   "cell_type": "code",
   "execution_count": 145,
   "metadata": {},
   "outputs": [
    {
     "data": {
      "text/plain": [
       "<BarContainer object of 7 artists>"
      ]
     },
     "execution_count": 145,
     "metadata": {},
     "output_type": "execute_result"
    },
    {
     "data": {
      "image/png": "[encoded data removed]",
      "text/plain": [
       "<Figure size 432x288 with 1 Axes>"
      ]
     },
     "metadata": {},
     "output_type": "display_data"
    }
   ],
   "source": [
    "plt.bar(probabilities.keys(), probabilities.values())"
   ]
  },
  {
   "cell_type": "code",
   "execution_count": 121,
   "metadata": {},
   "outputs": [
    {
     "data": {
      "text/plain": [
       "0.11764899999999996"
      ]
     },
     "execution_count": 121,
     "metadata": {},
     "output_type": "execute_result"
    }
   ],
   "source": [
    "0.7 ** 6"
   ]
  },
  {
   "cell_type": "code",
   "execution_count": 143,
   "metadata": {},
   "outputs": [],
   "source": [
    "from scipy import stats as st"
   ]
  },
  {
   "cell_type": "code",
   "execution_count": 146,
   "metadata": {},
   "outputs": [],
   "source": [
    "rv = st.binom(n=6, p=0.7)"
   ]
  },
  {
   "cell_type": "code",
   "execution_count": 148,
   "metadata": {},
   "outputs": [
    {
     "data": {
      "text/plain": [
       "<BarContainer object of 7 artists>"
      ]
     },
     "execution_count": 148,
     "metadata": {},
     "output_type": "execute_result"
    },
    {
     "data": {
      "image/png": "[encoded data removed]",
      "text/plain": [
       "<Figure size 432x288 with 1 Axes>"
      ]
     },
     "metadata": {},
     "output_type": "display_data"
    }
   ],
   "source": [
    "plt.bar(range(7), rv.pmf(range(7)))"
   ]
  },
  {
   "cell_type": "code",
   "execution_count": null,
   "metadata": {},
   "outputs": [],
   "source": []
  }
 ],
 "metadata": {
  "kernelspec": {
   "display_name": "Python 3",
   "language": "python",
   "name": "python3"
  },
  "language_info": {
   "codemirror_mode": {
    "name": "ipython",
    "version": 3
   },
   "file_extension": ".py",
   "mimetype": "text/x-python",
   "name": "python",
   "nbconvert_exporter": "python",
   "pygments_lexer": "ipython3",
   "version": "3.6.6"
  }
 },
 "nbformat": 4,
 "nbformat_minor": 2
}
