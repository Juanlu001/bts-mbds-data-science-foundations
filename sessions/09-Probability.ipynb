{
 "cells": [
  {
   "cell_type": "markdown",
   "metadata": {},
   "source": [
    "![BTS](img/Logo-BTS.jpg)\n",
    "\n",
    "# Session 9: Probability\n",
    "\n",
    "### Juan Luis Cano Rodríguez <juan.cano@bts.tech> - Data Science Foundations (2018-11-06)\n",
    "\n",
    "Open this notebook in Google Colaboratory: [![Open in Colab](https://colab.research.google.com/assets/colab-badge.svg)](https://colab.research.google.com/github/Juanlu001/bts-mbds-data-science-foundations/blob/master/sessions/09-Probability.ipynb)"
   ]
  },
  {
   "cell_type": "markdown",
   "metadata": {},
   "source": [
    "## Exercise 1: The birthday paradox\n",
    "\n",
    "1. Compute the probability of 1 person **not** sharing the birthday with 1 other person\n",
    "2. If there is a room with 3 people, what's the probability that **none** of them share the birthday?\n",
    "3. What number of people do you need to be 100 % sure that there will be at least one birthday coincidence? (Pigeonhole principle)\n",
    "4. Create a function `generate_birthdays` that generates $n$ random integers from 1 to 365, where $n$ is an integer parameter to the function\n",
    "5. Create a function `run_experiment` that takes $n$, runs `generate_birthdays(n)`, and returns `True` if there is a birthday coincidence (and `False` otherwise)\n",
    "6. Execute `run_experiment` 200 times with `n=19` and plot the evolution of the number of successful experiments divided by total number of experiments, like this (scale removed):\n",
    "\n",
    "![Evolution](img/evolution.png)\n",
    "\n",
    "7. Wrap this code in a function `run_simulation` that takes `num_times` and `n` as parameters, and returns a pandas `Series` with the numerical results shown above\n",
    "8. Call `run_simulation` with `num_times=10_000` changing `n` and take only the last value. When do you achieve 50 % probability?\n",
    "9. Plot the evolution of the probability in terms of `n`, using a fixed `num_times=10_000`, like this (scale removed):\n",
    "\n",
    "![Birthday coincidence probability](img/birthday-prob.png)"
   ]
  },
  {
   "cell_type": "code",
   "execution_count": null,
   "metadata": {},
   "outputs": [],
   "source": []
  },
  {
   "cell_type": "markdown",
   "metadata": {},
   "source": [
    "## Exercise 2a: Horse kicks\n",
    "\n",
    "![Horse kicks](img/horse-kicks.png)\n",
    "\n",
    "(from https://archive.org/stream/dasgesetzderklei00bortrich#page/n63/mode/2up)\n",
    "\n",
    "1. Load `data/HorseKicks.csv` in pandas (obtained from https://web.archive.org/web/20160821150144/http://www.math.uah.edu/stat/data/HorseKicks.html)\n",
    "2. Get the total number of deaths by year, and also the total number of deaths by corps\n",
    "3. What's the average number of deaths per corps and year?\n",
    "4. Get the frequency of each number of casualties by corps and year (e.g. how many 0s, 1s, 2s, 3s... are in the table)\n",
    "5. Normalize the result by year and corps and plot it as a bar plot"
   ]
  },
  {
   "cell_type": "code",
   "execution_count": null,
   "metadata": {},
   "outputs": [],
   "source": []
  },
  {
   "cell_type": "markdown",
   "metadata": {},
   "source": [
    "## Exercise 2b: Poisson distribution\n",
    "\n",
    "1. Create a Poisson distribution of $\\mu = $ the average number of deaths per corps and year\n",
    "2. Sample the probability mass function in the points 0, 1, 2, 3, 4\n",
    "3. Create a dataframe with two columns: \"real\" with the normalized frequencies from exercise 1a, and \"theoretical\" with the values obtained in the previous question\n",
    "4. Plot the result in a bar plot"
   ]
  },
  {
   "cell_type": "code",
   "execution_count": null,
   "metadata": {},
   "outputs": [],
   "source": []
  }
 ],
 "metadata": {
  "kernelspec": {
   "display_name": "Python 3",
   "language": "python",
   "name": "python3"
  },
  "language_info": {
   "codemirror_mode": {
    "name": "ipython",
    "version": 3
   },
   "file_extension": ".py",
   "mimetype": "text/x-python",
   "name": "python",
   "nbconvert_exporter": "python",
   "pygments_lexer": "ipython3",
   "version": "3.6.6"
  }
 },
 "nbformat": 4,
 "nbformat_minor": 2
}
