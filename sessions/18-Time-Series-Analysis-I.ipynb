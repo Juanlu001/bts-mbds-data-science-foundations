{
 "cells": [
  {
   "cell_type": "markdown",
   "metadata": {},
   "source": [
    "![BTS](img/Logo-BTS.jpg)\n",
    "\n",
    "# Session 18: Time Series Analysis (I)\n",
    "\n",
    "### Juan Luis Cano Rodríguez <juan.cano@bts.tech> - Data Science Foundations (2018-12-11)\n",
    "\n",
    "Open this notebook in Google Colaboratory: [![Open in Colab](https://colab.research.google.com/assets/colab-badge.svg)](https://colab.research.google.com/github/Juanlu001/bts-mbds-data-science-foundations/blob/master/sessions/18-Time-Series-Analysis-I.ipynb)"
   ]
  },
  {
   "cell_type": "markdown",
   "metadata": {},
   "source": [
    "## Exercise 1: Seasonal decomposition (a)\n",
    "\n",
    "1. Read `data/gas_demand.csv` into pandas, parsing the dates and indexing properly\n",
    "2. Plot the demand (`GAS_DEMANDA`) in one axes, and the minimum and maximum temperature (`TEMPERATURA_MINIMA` and `TEMPERATURA_MAXIMA`) in an axes below\n",
    "3. Check whether the demand is _stationary_ using the Augmented Dickey-Fuller test from statsmodels (_Note: Remember to set a significance level first!_)\n",
    "4. Compute the **trend** of the demand in three different ways:\n",
    "  * centered 30 day rolling mean,\n",
    "  * linear regression,\n",
    "  * subtracting the previous value for each day\n",
    "5. Compute the three detrended series, and check whether all of them are stationary"
   ]
  },
  {
   "cell_type": "code",
   "execution_count": null,
   "metadata": {},
   "outputs": [],
   "source": []
  },
  {
   "cell_type": "markdown",
   "metadata": {},
   "source": [
    "## Exercise 2: Seasonal decomposition (b)\n",
    "\n",
    "6. Compute the mean of each weekday using the detrended series\n",
    "7. Compute the _weekly_ **seasonal** component by stiching the previous result as many times as necessary to achieve the length of the original series\n",
    "8. Compute the **residuals** by subtracting the **trend** and the **seasonal** component from the original series. Which method for the trend gives the residuals with the smaller standard deviation?\n",
    "9. Plot in the same figure the original series, the trend, the detrended one, the seasonal component and the residuals\n",
    "10. Compare your results with the output of `statsmodels.tsa.seasonal.seasonal_decompose`."
   ]
  },
  {
   "cell_type": "markdown",
   "metadata": {},
   "source": []
  },
  {
   "cell_type": "markdown",
   "metadata": {},
   "source": [
    "## Exercise 3: Heteroskedasticity\n",
    "\n",
    "1. Load the `data/air_passengers.csv` dataset, parse the dates and index it\n",
    "2. Fit a linear regression using `statsmodels` (_Note: Use a numeric variable for `X` instead of the index, it might fail because it's a date)\n",
    "3. Plot the original data and the resulting straight line\n",
    "4. Perform a heteroskedasticity test using `het_breuschpagan` from `statsmodels`, using the residuals of the model and the `X` variable you used to fit the model\n",
    "5. Perform a Box-Cox transformation _using SciPy_ and repeat the linear regression and the heteroskedasticity test. Is the series homokedastic now?"
   ]
  },
  {
   "cell_type": "code",
   "execution_count": null,
   "metadata": {},
   "outputs": [],
   "source": []
  }
 ],
 "metadata": {
  "kernelspec": {
   "display_name": "Python 3",
   "language": "python",
   "name": "python3"
  },
  "language_info": {
   "codemirror_mode": {
    "name": "ipython",
    "version": 3
   },
   "file_extension": ".py",
   "mimetype": "text/x-python",
   "name": "python",
   "nbconvert_exporter": "python",
   "pygments_lexer": "ipython3",
   "version": "3.6.6"
  }
 },
 "nbformat": 4,
 "nbformat_minor": 2
}
