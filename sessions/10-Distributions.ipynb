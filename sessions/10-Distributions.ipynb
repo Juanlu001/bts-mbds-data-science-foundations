{
 "cells": [
  {
   "cell_type": "markdown",
   "metadata": {},
   "source": [
    "![BTS](img/Logo-BTS.jpg)\n",
    "\n",
    "# Session 10: Distributions\n",
    "\n",
    "### Juan Luis Cano Rodríguez <juan.cano@bts.tech> - Data Science Foundations (2018-11-06)\n",
    "\n",
    "Open this notebook in Google Colaboratory: [![Open in Colab](https://colab.research.google.com/assets/colab-badge.svg)](https://colab.research.google.com/github/Juanlu001/bts-mbds-data-science-foundations/blob/master/sessions/10-Distributions.ipynb)"
   ]
  },
  {
   "cell_type": "markdown",
   "metadata": {},
   "source": [
    "## Exercise 1: The class size paradox\n",
    "\n",
    "The data below is a survey of class sizes in a university.\n",
    "\n",
    "1. Turn the `data` into a pandas `Series`\n",
    "2. What's the probability of each value within the data? Sort it and represent it in a bar plot (this is the **probability mass function** or PMF)\n",
    "3. Perform the cumulative sum of these values and represent it in another bar plot\n",
    "4. Compute how many classes are in the range $[5, 9]$, in the range $[10, 14]$... and so forth, until $[45, 49]$\n",
    "5. Sort and plot the previous result and compare it to the histogram of the original data\n",
    "6. Imagine that we survey each student and ask them how many students are in their class. How can we compute these results from the data that we have?\n",
    "7. What is the average of the responses? Why do we get such result?\n",
    "\n",
    "```\n",
    "data = [\n",
    "    27, 30, 13, 18, 28, 10, 32, 37, 31, 17, 18, 31, 34,\n",
    "    18, 20, 16, 38, 14, 36, 30, 18, 29, 16, 10, 17, 40,\n",
    "    32, 18, 5, 18, 15, 29, 37, 18, 42, 47, 35, 34, 19,\n",
    "    8, 12, 36, 42, 12, 34, 7, 35, 25, 7, 34, 46, 31,\n",
    "    14, 29, 10, 6, 36, 6, 18, 24, 8, 22, 5, 32, 20\n",
    "]\n",
    "```"
   ]
  },
  {
   "cell_type": "code",
   "execution_count": 38,
   "metadata": {},
   "outputs": [],
   "source": [
    "data = [\n",
    "    27, 30, 13, 18, 28, 10, 32, 37, 31, 17, 18, 31, 34,\n",
    "    18, 20, 16, 38, 14, 36, 30, 18, 29, 16, 10, 17, 40,\n",
    "    32, 18, 5, 18, 15, 29, 37, 18, 42, 47, 35, 34, 19,\n",
    "    8, 12, 36, 42, 12, 34, 7, 35, 25, 7, 34, 46, 31,\n",
    "    14, 29, 10, 6, 36, 6, 18, 24, 8, 22, 5, 32, 20\n",
    "]"
   ]
  },
  {
   "cell_type": "markdown",
   "metadata": {},
   "source": [
    "## Exercise 2: Tossing a biased coin\n",
    "\n",
    "1. Create a function that simulates a biased coin, which takes a parameter `p_head` between 0 and 1 (with a default value of 0.5) representing the probability of having a \"head\" and returns `True` or `False` (head and tail) randomly on each call\n",
    "2. Perform 1000 experiments and plot the evolution of the ratio of heads to check that it converges to the specified value (hint: reuse the logic from the previous session)\n",
    "3. What's the probability of tossing the coin 6 times with `p_head=0.7` and having 6 heads?\n",
    "4. Set the number of tosses to 6 and `p_head=0.7`, plot the simulation of all possible number of heads (0, 1, 2, ..., 6) and retrieve all the \"empirical probabilities\" (hint: the \"last value\" of the simulation)\n",
    "5. Plot the probabilities in a bar graph\n",
    "6. Import the **binomial** distribution from `scipy.stats`, create a random variable with `n=6` and `p=0.7`, and plot its _probability mass function_ (PMF). Does it ring a bell?\n",
    "\n",
    "![Tossing a coin](img/tosses.png)"
   ]
  },
  {
   "cell_type": "code",
   "execution_count": null,
   "metadata": {},
   "outputs": [],
   "source": []
  }
 ],
 "metadata": {
  "kernelspec": {
   "display_name": "Python 3",
   "language": "python",
   "name": "python3"
  },
  "language_info": {
   "codemirror_mode": {
    "name": "ipython",
    "version": 3
   },
   "file_extension": ".py",
   "mimetype": "text/x-python",
   "name": "python",
   "nbconvert_exporter": "python",
   "pygments_lexer": "ipython3",
   "version": "3.6.6"
  }
 },
 "nbformat": 4,
 "nbformat_minor": 2
}
