{
 "cells": [
  {
   "cell_type": "markdown",
   "metadata": {},
   "source": [
    "![BTS](img/Logo-BTS.jpg)\n",
    "\n",
    "# Session 16: Model deployment and automation\n",
    "\n",
    "### Juan Luis Cano Rodríguez <juan.cano@bts.tech> - Data Science Foundations (2018-11-16)\n",
    "\n",
    "Open this notebook in Google Colaboratory: [![Open in Colab](https://colab.research.google.com/assets/colab-badge.svg)](https://colab.research.google.com/github/Juanlu001/bts-mbds-data-science-foundations/blob/master/sessions/16-Model-Deployment-Automation.ipynb)"
   ]
  },
  {
   "cell_type": "markdown",
   "metadata": {},
   "source": [
    "## The goal\n",
    "\n",
    "> Turn a notebook into a `pip`-installable package, tracked in git, with Continuous Integration that evaluates code quality automatically.\n",
    "\n",
    "## The questions\n",
    "\n",
    "* How does `import` work?\n",
    "* How do I make some Python code `pip` installable?\n",
    "* What is Continuous Integration and why is it useful?\n",
    "\n",
    "## The script\n",
    "\n",
    "1. Turn a notebook into `.py` scripts\n",
    "2. Create a package (a directory with a `__init__.py`)\n",
    "3. Lay out the directory structure according to [the only correct guide available out there](https://blog.ionelmc.ro/2014/05/25/python-packaging/) ([Why?](https://blog.ionelmc.ro/2014/06/25/python-packaging-pitfalls/) [But, really, why?](https://hynek.me/articles/testing-packaging/))\n",
    "4. Write a `setup.py` and a `README`\n",
    "5. Test the local installation 🎉\n",
    "6. Write an entry point (a `__main__.py`) that executes the main function\n",
    "7. Push to GitHub!\n",
    "8. Configure a Continuous Integration service (using [Travis CI](https://travis-ci.com/))\n",
    "9. Set up a CI step that checks the quality of our code using `pycodestyle`\n",
    "10. Create our first pull request to ourselves, fix issues, and merge 🙌"
   ]
  }
 ],
 "metadata": {
  "kernelspec": {
   "display_name": "Python 3",
   "language": "python",
   "name": "python3"
  },
  "language_info": {
   "codemirror_mode": {
    "name": "ipython",
    "version": 3
   },
   "file_extension": ".py",
   "mimetype": "text/x-python",
   "name": "python",
   "nbconvert_exporter": "python",
   "pygments_lexer": "ipython3",
   "version": "3.6.6"
  }
 },
 "nbformat": 4,
 "nbformat_minor": 2
}
