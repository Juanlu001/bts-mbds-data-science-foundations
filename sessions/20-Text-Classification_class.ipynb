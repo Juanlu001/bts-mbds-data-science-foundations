{
 "cells": [
  {
   "cell_type": "markdown",
   "metadata": {},
   "source": [
    "## ![BTS](img/Logo-BTS.jpg)\n",
    "\n",
    "# Session 20: Text Classification\n",
    "\n",
    "### Juan Luis Cano Rodríguez <juan.cano@bts.tech> - Data Science Foundations (2018-12-11)\n",
    "\n",
    "Open this notebook in Google Colaboratory: [![Open in Colab](https://colab.research.google.com/assets/colab-badge.svg)](https://colab.research.google.com/github/Juanlu001/bts-mbds-data-science-foundations/blob/master/sessions/20-Text-Classification.ipynb)"
   ]
  },
  {
   "cell_type": "markdown",
   "metadata": {},
   "source": [
    "## Exercise 1: Simple feature selection with names\n",
    "\n",
    "1. Load the list of male and females names from `data/names` in a single list of `(name, gender)` pairs and shuffle it.\n",
    "2. Create a function that returns a tuple `({\"last_letter\": last_letter}, gender)` for each entry in our dataset\n",
    "3. Use the `DictVectorizer` from `sklearn.feature_extraction` to turn this dictionary into a rectangular, **non sparse** array. How does it work?\n",
    "4. Split the data into train and test, using 70 % and 30 % respectively.\n",
    "5. Fit a Naïve Bayes classifier from `sklearn.naive_bayes` with the default hyperparameters to the train data.\n",
    "6. Use `accuracy_score` from `sklearn.metrics` to evaluate our model. How good it is?\n",
    "7. Display the `confusion_matrix` (from `sklearn.metrics`) of this model (hint: use `seaborn.heatmap`). What does it mean?\n",
    "8. Create new features, such as the first letter, whether it has a certain letter or not... And evaluate the model again"
   ]
  },
  {
   "cell_type": "code",
   "execution_count": 3,
   "metadata": {},
   "outputs": [
    {
     "name": "stdout",
     "output_type": "stream",
     "text": [
      "female.txt  male.txt  README\r\n"
     ]
    }
   ],
   "source": [
    "!ls data/names/"
   ]
  },
  {
   "cell_type": "code",
   "execution_count": 4,
   "metadata": {},
   "outputs": [
    {
     "name": "stdout",
     "output_type": "stream",
     "text": [
      "Aamir\r\n",
      "Aaron\r\n",
      "Abbey\r\n",
      "Abbie\r\n",
      "Abbot\r\n",
      "Abbott\r\n",
      "Abby\r\n",
      "Abdel\r\n",
      "Abdul\r\n",
      "Abdulkarim\r\n"
     ]
    }
   ],
   "source": [
    "!head data/names/male.txt"
   ]
  },
  {
   "cell_type": "code",
   "execution_count": 1,
   "metadata": {},
   "outputs": [],
   "source": [
    "import pandas as pd"
   ]
  },
  {
   "cell_type": "code",
   "execution_count": 2,
   "metadata": {},
   "outputs": [],
   "source": [
    "male_names = pd.read_csv(\"data/names/male.txt\", header=None,\n",
    "                         names=[\"Name\"])\n",
    "male_names['Gender'] = 'Male'"
   ]
  },
  {
   "cell_type": "code",
   "execution_count": 3,
   "metadata": {},
   "outputs": [],
   "source": [
    "female_names = pd.read_csv(\"data/names/female.txt\", header=None,\n",
    "                           names=[\"Name\"])\n",
    "female_names['Gender'] = 'Female'"
   ]
  },
  {
   "cell_type": "code",
   "execution_count": 4,
   "metadata": {},
   "outputs": [
    {
     "data": {
      "text/html": [
       "<div>\n",
       "<style scoped>\n",
       "    .dataframe tbody tr th:only-of-type {\n",
       "        vertical-align: middle;\n",
       "    }\n",
       "\n",
       "    .dataframe tbody tr th {\n",
       "        vertical-align: top;\n",
       "    }\n",
       "\n",
       "    .dataframe thead th {\n",
       "        text-align: right;\n",
       "    }\n",
       "</style>\n",
       "<table border=\"1\" class=\"dataframe\">\n",
       "  <thead>\n",
       "    <tr style=\"text-align: right;\">\n",
       "      <th></th>\n",
       "      <th>Name</th>\n",
       "      <th>Gender</th>\n",
       "    </tr>\n",
       "  </thead>\n",
       "  <tbody>\n",
       "    <tr>\n",
       "      <th>0</th>\n",
       "      <td>Aamir</td>\n",
       "      <td>Male</td>\n",
       "    </tr>\n",
       "    <tr>\n",
       "      <th>1</th>\n",
       "      <td>Aaron</td>\n",
       "      <td>Male</td>\n",
       "    </tr>\n",
       "    <tr>\n",
       "      <th>2</th>\n",
       "      <td>Abbey</td>\n",
       "      <td>Male</td>\n",
       "    </tr>\n",
       "    <tr>\n",
       "      <th>3</th>\n",
       "      <td>Abbie</td>\n",
       "      <td>Male</td>\n",
       "    </tr>\n",
       "    <tr>\n",
       "      <th>4</th>\n",
       "      <td>Abbot</td>\n",
       "      <td>Male</td>\n",
       "    </tr>\n",
       "  </tbody>\n",
       "</table>\n",
       "</div>"
      ],
      "text/plain": [
       "    Name Gender\n",
       "0  Aamir   Male\n",
       "1  Aaron   Male\n",
       "2  Abbey   Male\n",
       "3  Abbie   Male\n",
       "4  Abbot   Male"
      ]
     },
     "execution_count": 4,
     "metadata": {},
     "output_type": "execute_result"
    }
   ],
   "source": [
    "names = pd.concat([male_names, female_names])\n",
    "names.head()"
   ]
  },
  {
   "cell_type": "code",
   "execution_count": 5,
   "metadata": {},
   "outputs": [],
   "source": [
    "names['Name'] = names['Name'].str.strip()"
   ]
  },
  {
   "cell_type": "code",
   "execution_count": 6,
   "metadata": {},
   "outputs": [],
   "source": [
    "# names.loc[names['Name'].isin(...), 'Gender'] = 'Unisex'\n",
    "names.loc[\n",
    "    names['Name'].isin(set(male_names['Name']) & set(female_names['Name'])),\n",
    "    'Gender'\n",
    "] = 'Unisex'"
   ]
  },
  {
   "cell_type": "code",
   "execution_count": 7,
   "metadata": {},
   "outputs": [
    {
     "data": {
      "text/html": [
       "<div>\n",
       "<style scoped>\n",
       "    .dataframe tbody tr th:only-of-type {\n",
       "        vertical-align: middle;\n",
       "    }\n",
       "\n",
       "    .dataframe tbody tr th {\n",
       "        vertical-align: top;\n",
       "    }\n",
       "\n",
       "    .dataframe thead th {\n",
       "        text-align: right;\n",
       "    }\n",
       "</style>\n",
       "<table border=\"1\" class=\"dataframe\">\n",
       "  <thead>\n",
       "    <tr style=\"text-align: right;\">\n",
       "      <th></th>\n",
       "      <th>Name</th>\n",
       "      <th>Gender</th>\n",
       "    </tr>\n",
       "  </thead>\n",
       "  <tbody>\n",
       "    <tr>\n",
       "      <th>0</th>\n",
       "      <td>Aamir</td>\n",
       "      <td>Male</td>\n",
       "    </tr>\n",
       "    <tr>\n",
       "      <th>1</th>\n",
       "      <td>Aaron</td>\n",
       "      <td>Male</td>\n",
       "    </tr>\n",
       "    <tr>\n",
       "      <th>2</th>\n",
       "      <td>Abbey</td>\n",
       "      <td>Unisex</td>\n",
       "    </tr>\n",
       "    <tr>\n",
       "      <th>3</th>\n",
       "      <td>Abbie</td>\n",
       "      <td>Unisex</td>\n",
       "    </tr>\n",
       "    <tr>\n",
       "      <th>4</th>\n",
       "      <td>Abbot</td>\n",
       "      <td>Male</td>\n",
       "    </tr>\n",
       "  </tbody>\n",
       "</table>\n",
       "</div>"
      ],
      "text/plain": [
       "    Name  Gender\n",
       "0  Aamir    Male\n",
       "1  Aaron    Male\n",
       "2  Abbey  Unisex\n",
       "3  Abbie  Unisex\n",
       "4  Abbot    Male"
      ]
     },
     "execution_count": 7,
     "metadata": {},
     "output_type": "execute_result"
    }
   ],
   "source": [
    "names = names.drop_duplicates()\n",
    "names.head()"
   ]
  },
  {
   "cell_type": "code",
   "execution_count": 8,
   "metadata": {},
   "outputs": [
    {
     "data": {
      "text/plain": [
       "True"
      ]
     },
     "execution_count": 8,
     "metadata": {},
     "output_type": "execute_result"
    }
   ],
   "source": [
    "names['Name'].is_unique"
   ]
  },
  {
   "cell_type": "code",
   "execution_count": 9,
   "metadata": {},
   "outputs": [],
   "source": [
    "from sklearn.utils import shuffle"
   ]
  },
  {
   "cell_type": "code",
   "execution_count": 10,
   "metadata": {},
   "outputs": [
    {
     "data": {
      "text/plain": [
       "7578"
      ]
     },
     "execution_count": 10,
     "metadata": {},
     "output_type": "execute_result"
    }
   ],
   "source": [
    "len(names)"
   ]
  },
  {
   "cell_type": "code",
   "execution_count": 11,
   "metadata": {},
   "outputs": [],
   "source": [
    "#names = shuffle(names)\n",
    "#names.head()"
   ]
  },
  {
   "cell_type": "code",
   "execution_count": 12,
   "metadata": {},
   "outputs": [
    {
     "data": {
      "text/html": [
       "<div>\n",
       "<style scoped>\n",
       "    .dataframe tbody tr th:only-of-type {\n",
       "        vertical-align: middle;\n",
       "    }\n",
       "\n",
       "    .dataframe tbody tr th {\n",
       "        vertical-align: top;\n",
       "    }\n",
       "\n",
       "    .dataframe thead th {\n",
       "        text-align: right;\n",
       "    }\n",
       "</style>\n",
       "<table border=\"1\" class=\"dataframe\">\n",
       "  <thead>\n",
       "    <tr style=\"text-align: right;\">\n",
       "      <th></th>\n",
       "      <th>Name</th>\n",
       "      <th>Gender</th>\n",
       "      <th>last_letter</th>\n",
       "    </tr>\n",
       "  </thead>\n",
       "  <tbody>\n",
       "    <tr>\n",
       "      <th>0</th>\n",
       "      <td>Aamir</td>\n",
       "      <td>Male</td>\n",
       "      <td>r</td>\n",
       "    </tr>\n",
       "    <tr>\n",
       "      <th>1</th>\n",
       "      <td>Aaron</td>\n",
       "      <td>Male</td>\n",
       "      <td>n</td>\n",
       "    </tr>\n",
       "    <tr>\n",
       "      <th>2</th>\n",
       "      <td>Abbey</td>\n",
       "      <td>Unisex</td>\n",
       "      <td>y</td>\n",
       "    </tr>\n",
       "    <tr>\n",
       "      <th>3</th>\n",
       "      <td>Abbie</td>\n",
       "      <td>Unisex</td>\n",
       "      <td>e</td>\n",
       "    </tr>\n",
       "    <tr>\n",
       "      <th>4</th>\n",
       "      <td>Abbot</td>\n",
       "      <td>Male</td>\n",
       "      <td>t</td>\n",
       "    </tr>\n",
       "  </tbody>\n",
       "</table>\n",
       "</div>"
      ],
      "text/plain": [
       "    Name  Gender last_letter\n",
       "0  Aamir    Male           r\n",
       "1  Aaron    Male           n\n",
       "2  Abbey  Unisex           y\n",
       "3  Abbie  Unisex           e\n",
       "4  Abbot    Male           t"
      ]
     },
     "execution_count": 12,
     "metadata": {},
     "output_type": "execute_result"
    }
   ],
   "source": [
    "names[\"last_letter\"] = names['Name'].str[-1]\n",
    "names.head()"
   ]
  },
  {
   "cell_type": "code",
   "execution_count": 98,
   "metadata": {},
   "outputs": [
    {
     "data": {
      "text/html": [
       "<div>\n",
       "<style scoped>\n",
       "    .dataframe tbody tr th:only-of-type {\n",
       "        vertical-align: middle;\n",
       "    }\n",
       "\n",
       "    .dataframe tbody tr th {\n",
       "        vertical-align: top;\n",
       "    }\n",
       "\n",
       "    .dataframe thead th {\n",
       "        text-align: right;\n",
       "    }\n",
       "</style>\n",
       "<table border=\"1\" class=\"dataframe\">\n",
       "  <thead>\n",
       "    <tr style=\"text-align: right;\">\n",
       "      <th></th>\n",
       "      <th>Name</th>\n",
       "      <th>Gender</th>\n",
       "      <th>last_letter</th>\n",
       "      <th>first_letter</th>\n",
       "    </tr>\n",
       "  </thead>\n",
       "  <tbody>\n",
       "    <tr>\n",
       "      <th>0</th>\n",
       "      <td>Aamir</td>\n",
       "      <td>Male</td>\n",
       "      <td>r</td>\n",
       "      <td>A</td>\n",
       "    </tr>\n",
       "    <tr>\n",
       "      <th>1</th>\n",
       "      <td>Aaron</td>\n",
       "      <td>Male</td>\n",
       "      <td>n</td>\n",
       "      <td>A</td>\n",
       "    </tr>\n",
       "    <tr>\n",
       "      <th>2</th>\n",
       "      <td>Abbey</td>\n",
       "      <td>Unisex</td>\n",
       "      <td>y</td>\n",
       "      <td>A</td>\n",
       "    </tr>\n",
       "    <tr>\n",
       "      <th>3</th>\n",
       "      <td>Abbie</td>\n",
       "      <td>Unisex</td>\n",
       "      <td>e</td>\n",
       "      <td>A</td>\n",
       "    </tr>\n",
       "    <tr>\n",
       "      <th>4</th>\n",
       "      <td>Abbot</td>\n",
       "      <td>Male</td>\n",
       "      <td>t</td>\n",
       "      <td>A</td>\n",
       "    </tr>\n",
       "  </tbody>\n",
       "</table>\n",
       "</div>"
      ],
      "text/plain": [
       "    Name  Gender last_letter first_letter\n",
       "0  Aamir    Male           r            A\n",
       "1  Aaron    Male           n            A\n",
       "2  Abbey  Unisex           y            A\n",
       "3  Abbie  Unisex           e            A\n",
       "4  Abbot    Male           t            A"
      ]
     },
     "execution_count": 98,
     "metadata": {},
     "output_type": "execute_result"
    }
   ],
   "source": [
    "names[\"first_letter\"] = names['Name'].str[0]\n",
    "names.head()"
   ]
  },
  {
   "cell_type": "code",
   "execution_count": 102,
   "metadata": {},
   "outputs": [
    {
     "data": {
      "text/html": [
       "<div>\n",
       "<style scoped>\n",
       "    .dataframe tbody tr th:only-of-type {\n",
       "        vertical-align: middle;\n",
       "    }\n",
       "\n",
       "    .dataframe tbody tr th {\n",
       "        vertical-align: top;\n",
       "    }\n",
       "\n",
       "    .dataframe thead th {\n",
       "        text-align: right;\n",
       "    }\n",
       "</style>\n",
       "<table border=\"1\" class=\"dataframe\">\n",
       "  <thead>\n",
       "    <tr style=\"text-align: right;\">\n",
       "      <th></th>\n",
       "      <th>Name</th>\n",
       "      <th>Gender</th>\n",
       "      <th>last_letter</th>\n",
       "      <th>first_letter</th>\n",
       "      <th>contains_a</th>\n",
       "    </tr>\n",
       "  </thead>\n",
       "  <tbody>\n",
       "    <tr>\n",
       "      <th>0</th>\n",
       "      <td>Aamir</td>\n",
       "      <td>Male</td>\n",
       "      <td>r</td>\n",
       "      <td>A</td>\n",
       "      <td>True</td>\n",
       "    </tr>\n",
       "    <tr>\n",
       "      <th>1</th>\n",
       "      <td>Aaron</td>\n",
       "      <td>Male</td>\n",
       "      <td>n</td>\n",
       "      <td>A</td>\n",
       "      <td>True</td>\n",
       "    </tr>\n",
       "    <tr>\n",
       "      <th>2</th>\n",
       "      <td>Abbey</td>\n",
       "      <td>Unisex</td>\n",
       "      <td>y</td>\n",
       "      <td>A</td>\n",
       "      <td>True</td>\n",
       "    </tr>\n",
       "    <tr>\n",
       "      <th>3</th>\n",
       "      <td>Abbie</td>\n",
       "      <td>Unisex</td>\n",
       "      <td>e</td>\n",
       "      <td>A</td>\n",
       "      <td>True</td>\n",
       "    </tr>\n",
       "    <tr>\n",
       "      <th>4</th>\n",
       "      <td>Abbot</td>\n",
       "      <td>Male</td>\n",
       "      <td>t</td>\n",
       "      <td>A</td>\n",
       "      <td>True</td>\n",
       "    </tr>\n",
       "  </tbody>\n",
       "</table>\n",
       "</div>"
      ],
      "text/plain": [
       "    Name  Gender last_letter first_letter  contains_a\n",
       "0  Aamir    Male           r            A        True\n",
       "1  Aaron    Male           n            A        True\n",
       "2  Abbey  Unisex           y            A        True\n",
       "3  Abbie  Unisex           e            A        True\n",
       "4  Abbot    Male           t            A        True"
      ]
     },
     "execution_count": 102,
     "metadata": {},
     "output_type": "execute_result"
    }
   ],
   "source": [
    "names[\"contains_a\"] = names['Name'].str.lower().str.contains('a')\n",
    "names.head()"
   ]
  },
  {
   "cell_type": "code",
   "execution_count": 103,
   "metadata": {},
   "outputs": [
    {
     "data": {
      "text/html": [
       "<div>\n",
       "<style scoped>\n",
       "    .dataframe tbody tr th:only-of-type {\n",
       "        vertical-align: middle;\n",
       "    }\n",
       "\n",
       "    .dataframe tbody tr th {\n",
       "        vertical-align: top;\n",
       "    }\n",
       "\n",
       "    .dataframe thead th {\n",
       "        text-align: right;\n",
       "    }\n",
       "</style>\n",
       "<table border=\"1\" class=\"dataframe\">\n",
       "  <thead>\n",
       "    <tr style=\"text-align: right;\">\n",
       "      <th></th>\n",
       "      <th>Name</th>\n",
       "      <th>Gender</th>\n",
       "      <th>last_letter</th>\n",
       "      <th>first_letter</th>\n",
       "      <th>contains_a</th>\n",
       "    </tr>\n",
       "  </thead>\n",
       "  <tbody>\n",
       "    <tr>\n",
       "      <th>0</th>\n",
       "      <td>Aamir</td>\n",
       "      <td>Male</td>\n",
       "      <td>r</td>\n",
       "      <td>A</td>\n",
       "      <td>True</td>\n",
       "    </tr>\n",
       "    <tr>\n",
       "      <th>1</th>\n",
       "      <td>Aaron</td>\n",
       "      <td>Male</td>\n",
       "      <td>n</td>\n",
       "      <td>A</td>\n",
       "      <td>True</td>\n",
       "    </tr>\n",
       "    <tr>\n",
       "      <th>2</th>\n",
       "      <td>Abbey</td>\n",
       "      <td>Unisex</td>\n",
       "      <td>y</td>\n",
       "      <td>A</td>\n",
       "      <td>True</td>\n",
       "    </tr>\n",
       "    <tr>\n",
       "      <th>3</th>\n",
       "      <td>Abbie</td>\n",
       "      <td>Unisex</td>\n",
       "      <td>e</td>\n",
       "      <td>A</td>\n",
       "      <td>True</td>\n",
       "    </tr>\n",
       "    <tr>\n",
       "      <th>4</th>\n",
       "      <td>Abbot</td>\n",
       "      <td>Male</td>\n",
       "      <td>t</td>\n",
       "      <td>A</td>\n",
       "      <td>True</td>\n",
       "    </tr>\n",
       "  </tbody>\n",
       "</table>\n",
       "</div>"
      ],
      "text/plain": [
       "    Name  Gender last_letter first_letter  contains_a\n",
       "0  Aamir    Male           r            A        True\n",
       "1  Aaron    Male           n            A        True\n",
       "2  Abbey  Unisex           y            A        True\n",
       "3  Abbie  Unisex           e            A        True\n",
       "4  Abbot    Male           t            A        True"
      ]
     },
     "execution_count": 103,
     "metadata": {},
     "output_type": "execute_result"
    }
   ],
   "source": [
    "names = names.reset_index(drop=True)\n",
    "names.head()"
   ]
  },
  {
   "cell_type": "code",
   "execution_count": 104,
   "metadata": {},
   "outputs": [
    {
     "data": {
      "text/plain": [
       "True"
      ]
     },
     "execution_count": 104,
     "metadata": {},
     "output_type": "execute_result"
    }
   ],
   "source": [
    "names['Name'].is_unique"
   ]
  },
  {
   "cell_type": "code",
   "execution_count": 105,
   "metadata": {},
   "outputs": [
    {
     "data": {
      "text/plain": [
       "False"
      ]
     },
     "execution_count": 105,
     "metadata": {},
     "output_type": "execute_result"
    }
   ],
   "source": [
    "' ' in names['last_letter'].unique()"
   ]
  },
  {
   "cell_type": "code",
   "execution_count": 107,
   "metadata": {},
   "outputs": [
    {
     "data": {
      "text/plain": [
       "[{'last_letter': 'r', 'first_letter': 'A', 'contains_a': True},\n",
       " {'last_letter': 'n', 'first_letter': 'A', 'contains_a': True},\n",
       " {'last_letter': 'y', 'first_letter': 'A', 'contains_a': True},\n",
       " {'last_letter': 'e', 'first_letter': 'A', 'contains_a': True},\n",
       " {'last_letter': 't', 'first_letter': 'A', 'contains_a': True},\n",
       " {'last_letter': 't', 'first_letter': 'A', 'contains_a': True},\n",
       " {'last_letter': 'y', 'first_letter': 'A', 'contains_a': True},\n",
       " {'last_letter': 'l', 'first_letter': 'A', 'contains_a': True},\n",
       " {'last_letter': 'l', 'first_letter': 'A', 'contains_a': True},\n",
       " {'last_letter': 'm', 'first_letter': 'A', 'contains_a': True},\n",
       " {'last_letter': 'h', 'first_letter': 'A', 'contains_a': True},\n",
       " {'last_letter': 'e', 'first_letter': 'A', 'contains_a': True},\n",
       " {'last_letter': 'l', 'first_letter': 'A', 'contains_a': True},\n",
       " {'last_letter': 'd', 'first_letter': 'A', 'contains_a': True},\n",
       " {'last_letter': 'r', 'first_letter': 'A', 'contains_a': True},\n",
       " {'last_letter': 'm', 'first_letter': 'A', 'contains_a': True},\n",
       " {'last_letter': 'm', 'first_letter': 'A', 'contains_a': True},\n",
       " {'last_letter': 'e', 'first_letter': 'A', 'contains_a': True},\n",
       " {'last_letter': 'r', 'first_letter': 'A', 'contains_a': True},\n",
       " {'last_letter': 'm', 'first_letter': 'A', 'contains_a': True},\n",
       " {'last_letter': 's', 'first_letter': 'A', 'contains_a': True},\n",
       " {'last_letter': 'e', 'first_letter': 'A', 'contains_a': True},\n",
       " {'last_letter': 'r', 'first_letter': 'A', 'contains_a': True},\n",
       " {'last_letter': 'a', 'first_letter': 'A', 'contains_a': True},\n",
       " {'last_letter': 'i', 'first_letter': 'A', 'contains_a': True},\n",
       " {'last_letter': 'n', 'first_letter': 'A', 'contains_a': True},\n",
       " {'last_letter': 'f', 'first_letter': 'A', 'contains_a': True},\n",
       " {'last_letter': 'o', 'first_letter': 'A', 'contains_a': True},\n",
       " {'last_letter': 'h', 'first_letter': 'A', 'contains_a': True},\n",
       " {'last_letter': 'e', 'first_letter': 'A', 'contains_a': True},\n",
       " {'last_letter': 'o', 'first_letter': 'A', 'contains_a': True},\n",
       " {'last_letter': 's', 'first_letter': 'A', 'contains_a': True},\n",
       " {'last_letter': 'n', 'first_letter': 'A', 'contains_a': True},\n",
       " {'last_letter': 'k', 'first_letter': 'A', 'contains_a': True},\n",
       " {'last_letter': 'n', 'first_letter': 'A', 'contains_a': True},\n",
       " {'last_letter': 'n', 'first_letter': 'A', 'contains_a': True},\n",
       " {'last_letter': 'o', 'first_letter': 'A', 'contains_a': True},\n",
       " {'last_letter': 'e', 'first_letter': 'A', 'contains_a': True},\n",
       " {'last_letter': 'n', 'first_letter': 'A', 'contains_a': True},\n",
       " {'last_letter': 'n', 'first_letter': 'A', 'contains_a': True},\n",
       " {'last_letter': 'd', 'first_letter': 'A', 'contains_a': True},\n",
       " {'last_letter': 'd', 'first_letter': 'A', 'contains_a': True},\n",
       " {'last_letter': 't', 'first_letter': 'A', 'contains_a': True},\n",
       " {'last_letter': 'i', 'first_letter': 'A', 'contains_a': True},\n",
       " {'last_letter': 'y', 'first_letter': 'A', 'contains_a': True},\n",
       " {'last_letter': 'l', 'first_letter': 'A', 'contains_a': True},\n",
       " {'last_letter': 'a', 'first_letter': 'A', 'contains_a': True},\n",
       " {'last_letter': 'n', 'first_letter': 'A', 'contains_a': True},\n",
       " {'last_letter': 'n', 'first_letter': 'A', 'contains_a': True},\n",
       " {'last_letter': 'r', 'first_letter': 'A', 'contains_a': True},\n",
       " {'last_letter': 'r', 'first_letter': 'A', 'contains_a': True},\n",
       " {'last_letter': 's', 'first_letter': 'A', 'contains_a': True},\n",
       " {'last_letter': 't', 'first_letter': 'A', 'contains_a': True},\n",
       " {'last_letter': 'o', 'first_letter': 'A', 'contains_a': True},\n",
       " {'last_letter': 't', 'first_letter': 'A', 'contains_a': True},\n",
       " {'last_letter': 'n', 'first_letter': 'A', 'contains_a': True},\n",
       " {'last_letter': 's', 'first_letter': 'A', 'contains_a': True},\n",
       " {'last_letter': 'o', 'first_letter': 'A', 'contains_a': True},\n",
       " {'last_letter': 'c', 'first_letter': 'A', 'contains_a': True},\n",
       " {'last_letter': 'h', 'first_letter': 'A', 'contains_a': True},\n",
       " {'last_letter': 's', 'first_letter': 'A', 'contains_a': True},\n",
       " {'last_letter': 'n', 'first_letter': 'A', 'contains_a': True},\n",
       " {'last_letter': 'c', 'first_letter': 'A', 'contains_a': True},\n",
       " {'last_letter': 'k', 'first_letter': 'A', 'contains_a': True},\n",
       " {'last_letter': 'o', 'first_letter': 'A', 'contains_a': True},\n",
       " {'last_letter': 's', 'first_letter': 'A', 'contains_a': True},\n",
       " {'last_letter': 's', 'first_letter': 'A', 'contains_a': True},\n",
       " {'last_letter': 'o', 'first_letter': 'A', 'contains_a': True},\n",
       " {'last_letter': 'x', 'first_letter': 'A', 'contains_a': True},\n",
       " {'last_letter': 'r', 'first_letter': 'A', 'contains_a': True},\n",
       " {'last_letter': 'i', 'first_letter': 'A', 'contains_a': True},\n",
       " {'last_letter': 's', 'first_letter': 'A', 'contains_a': True},\n",
       " {'last_letter': 'f', 'first_letter': 'A', 'contains_a': True},\n",
       " {'last_letter': 'e', 'first_letter': 'A', 'contains_a': True},\n",
       " {'last_letter': 'e', 'first_letter': 'A', 'contains_a': True},\n",
       " {'last_letter': 'o', 'first_letter': 'A', 'contains_a': True},\n",
       " {'last_letter': 'o', 'first_letter': 'A', 'contains_a': True},\n",
       " {'last_letter': 'd', 'first_letter': 'A', 'contains_a': True},\n",
       " {'last_letter': 'd', 'first_letter': 'A', 'contains_a': True},\n",
       " {'last_letter': 'o', 'first_letter': 'A', 'contains_a': True},\n",
       " {'last_letter': 'n', 'first_letter': 'A', 'contains_a': True},\n",
       " {'last_letter': 'i', 'first_letter': 'A', 'contains_a': True},\n",
       " {'last_letter': 'c', 'first_letter': 'A', 'contains_a': True},\n",
       " {'last_letter': 'r', 'first_letter': 'A', 'contains_a': True},\n",
       " {'last_letter': 'x', 'first_letter': 'A', 'contains_a': True},\n",
       " {'last_letter': 'h', 'first_letter': 'A', 'contains_a': True},\n",
       " {'last_letter': 'n', 'first_letter': 'A', 'contains_a': True},\n",
       " {'last_letter': 'n', 'first_letter': 'A', 'contains_a': True},\n",
       " {'last_letter': 'y', 'first_letter': 'A', 'contains_a': True},\n",
       " {'last_letter': 'e', 'first_letter': 'A', 'contains_a': True},\n",
       " {'last_letter': 'n', 'first_letter': 'A', 'contains_a': True},\n",
       " {'last_letter': 'n', 'first_letter': 'A', 'contains_a': True},\n",
       " {'last_letter': 'o', 'first_letter': 'A', 'contains_a': True},\n",
       " {'last_letter': 'o', 'first_letter': 'A', 'contains_a': True},\n",
       " {'last_letter': 's', 'first_letter': 'A', 'contains_a': True},\n",
       " {'last_letter': 'e', 'first_letter': 'A', 'contains_a': True},\n",
       " {'last_letter': 'o', 'first_letter': 'A', 'contains_a': True},\n",
       " {'last_letter': 'n', 'first_letter': 'A', 'contains_a': True},\n",
       " {'last_letter': 'n', 'first_letter': 'A', 'contains_a': True},\n",
       " {'last_letter': 'n', 'first_letter': 'A', 'contains_a': True},\n",
       " {'last_letter': 'n', 'first_letter': 'A', 'contains_a': True},\n",
       " {'last_letter': 's', 'first_letter': 'A', 'contains_a': True},\n",
       " {'last_letter': 's', 'first_letter': 'A', 'contains_a': True},\n",
       " {'last_letter': 'e', 'first_letter': 'A', 'contains_a': True},\n",
       " {'last_letter': 'i', 'first_letter': 'A', 'contains_a': True},\n",
       " {'last_letter': 'o', 'first_letter': 'A', 'contains_a': True},\n",
       " {'last_letter': 's', 'first_letter': 'A', 'contains_a': True},\n",
       " {'last_letter': 'y', 'first_letter': 'A', 'contains_a': True},\n",
       " {'last_letter': 'y', 'first_letter': 'A', 'contains_a': True},\n",
       " {'last_letter': 's', 'first_letter': 'A', 'contains_a': True},\n",
       " {'last_letter': 'l', 'first_letter': 'A', 'contains_a': True},\n",
       " {'last_letter': 'e', 'first_letter': 'A', 'contains_a': True},\n",
       " {'last_letter': 'o', 'first_letter': 'A', 'contains_a': True},\n",
       " {'last_letter': 'y', 'first_letter': 'A', 'contains_a': True},\n",
       " {'last_letter': 's', 'first_letter': 'A', 'contains_a': True},\n",
       " {'last_letter': 'e', 'first_letter': 'A', 'contains_a': True},\n",
       " {'last_letter': 's', 'first_letter': 'A', 'contains_a': True},\n",
       " {'last_letter': 'e', 'first_letter': 'A', 'contains_a': True},\n",
       " {'last_letter': 'a', 'first_letter': 'A', 'contains_a': True},\n",
       " {'last_letter': 's', 'first_letter': 'A', 'contains_a': True},\n",
       " {'last_letter': 'j', 'first_letter': 'A', 'contains_a': True},\n",
       " {'last_letter': 's', 'first_letter': 'A', 'contains_a': True},\n",
       " {'last_letter': 'w', 'first_letter': 'A', 'contains_a': True},\n",
       " {'last_letter': 'y', 'first_letter': 'A', 'contains_a': True},\n",
       " {'last_letter': 'i', 'first_letter': 'A', 'contains_a': True},\n",
       " {'last_letter': 's', 'first_letter': 'A', 'contains_a': True},\n",
       " {'last_letter': 's', 'first_letter': 'A', 'contains_a': True},\n",
       " {'last_letter': 'j', 'first_letter': 'A', 'contains_a': True},\n",
       " {'last_letter': 'y', 'first_letter': 'A', 'contains_a': True},\n",
       " {'last_letter': 'l', 'first_letter': 'A', 'contains_a': True},\n",
       " {'last_letter': 'o', 'first_letter': 'A', 'contains_a': True},\n",
       " {'last_letter': 'o', 'first_letter': 'A', 'contains_a': True},\n",
       " {'last_letter': 'e', 'first_letter': 'A', 'contains_a': True},\n",
       " {'last_letter': 's', 'first_letter': 'A', 'contains_a': True},\n",
       " {'last_letter': 'l', 'first_letter': 'A', 'contains_a': True},\n",
       " {'last_letter': 'l', 'first_letter': 'A', 'contains_a': True},\n",
       " {'last_letter': 'm', 'first_letter': 'A', 'contains_a': True},\n",
       " {'last_letter': 'n', 'first_letter': 'A', 'contains_a': True},\n",
       " {'last_letter': 'y', 'first_letter': 'A', 'contains_a': True},\n",
       " {'last_letter': 'n', 'first_letter': 'A', 'contains_a': True},\n",
       " {'last_letter': 'e', 'first_letter': 'A', 'contains_a': True},\n",
       " {'last_letter': 'n', 'first_letter': 'A', 'contains_a': True},\n",
       " {'last_letter': 'e', 'first_letter': 'A', 'contains_a': True},\n",
       " {'last_letter': 'i', 'first_letter': 'A', 'contains_a': True},\n",
       " {'last_letter': 'n', 'first_letter': 'A', 'contains_a': True},\n",
       " {'last_letter': 'o', 'first_letter': 'A', 'contains_a': True},\n",
       " {'last_letter': 'o', 'first_letter': 'A', 'contains_a': True},\n",
       " {'last_letter': 's', 'first_letter': 'A', 'contains_a': True},\n",
       " {'last_letter': 'y', 'first_letter': 'A', 'contains_a': True},\n",
       " {'last_letter': 'g', 'first_letter': 'A', 'contains_a': True},\n",
       " {'last_letter': 'o', 'first_letter': 'A', 'contains_a': True},\n",
       " {'last_letter': 's', 'first_letter': 'A', 'contains_a': True},\n",
       " {'last_letter': 'm', 'first_letter': 'A', 'contains_a': True},\n",
       " {'last_letter': 'd', 'first_letter': 'A', 'contains_a': True},\n",
       " {'last_letter': 'd', 'first_letter': 'A', 'contains_a': True},\n",
       " {'last_letter': 'e', 'first_letter': 'A', 'contains_a': True},\n",
       " {'last_letter': 'n', 'first_letter': 'A', 'contains_a': True},\n",
       " {'last_letter': 'y', 'first_letter': 'A', 'contains_a': True},\n",
       " {'last_letter': 'l', 'first_letter': 'A', 'contains_a': True},\n",
       " {'last_letter': 'i', 'first_letter': 'A', 'contains_a': True},\n",
       " {'last_letter': 'e', 'first_letter': 'A', 'contains_a': True},\n",
       " {'last_letter': 'l', 'first_letter': 'A', 'contains_a': True},\n",
       " {'last_letter': 'e', 'first_letter': 'A', 'contains_a': True},\n",
       " {'last_letter': 'o', 'first_letter': 'A', 'contains_a': True},\n",
       " {'last_letter': 'd', 'first_letter': 'A', 'contains_a': True},\n",
       " {'last_letter': 'o', 'first_letter': 'A', 'contains_a': True},\n",
       " {'last_letter': 'd', 'first_letter': 'A', 'contains_a': True},\n",
       " {'last_letter': 'g', 'first_letter': 'A', 'contains_a': True},\n",
       " {'last_letter': 'e', 'first_letter': 'A', 'contains_a': True},\n",
       " {'last_letter': 'e', 'first_letter': 'A', 'contains_a': True},\n",
       " {'last_letter': 'd', 'first_letter': 'A', 'contains_a': True},\n",
       " {'last_letter': 'o', 'first_letter': 'A', 'contains_a': True},\n",
       " {'last_letter': 'n', 'first_letter': 'A', 'contains_a': True},\n",
       " {'last_letter': 'n', 'first_letter': 'A', 'contains_a': True},\n",
       " {'last_letter': 't', 'first_letter': 'A', 'contains_a': True},\n",
       " {'last_letter': 'r', 'first_letter': 'A', 'contains_a': True},\n",
       " {'last_letter': 'r', 'first_letter': 'A', 'contains_a': True},\n",
       " {'last_letter': 'e', 'first_letter': 'A', 'contains_a': True},\n",
       " {'last_letter': 'r', 'first_letter': 'A', 'contains_a': True},\n",
       " {'last_letter': 'o', 'first_letter': 'A', 'contains_a': True},\n",
       " {'last_letter': 'e', 'first_letter': 'A', 'contains_a': True},\n",
       " {'last_letter': 'n', 'first_letter': 'A', 'contains_a': True},\n",
       " {'last_letter': 'd', 'first_letter': 'A', 'contains_a': True},\n",
       " {'last_letter': 'y', 'first_letter': 'A', 'contains_a': True},\n",
       " {'last_letter': 'h', 'first_letter': 'A', 'contains_a': True},\n",
       " {'last_letter': 'y', 'first_letter': 'A', 'contains_a': True},\n",
       " {'last_letter': 'h', 'first_letter': 'A', 'contains_a': True},\n",
       " {'last_letter': 'y', 'first_letter': 'A', 'contains_a': True},\n",
       " {'last_letter': 'n', 'first_letter': 'A', 'contains_a': True},\n",
       " {'last_letter': 'b', 'first_letter': 'A', 'contains_a': True},\n",
       " {'last_letter': 'e', 'first_letter': 'A', 'contains_a': True},\n",
       " {'last_letter': 't', 'first_letter': 'A', 'contains_a': True},\n",
       " {'last_letter': 'y', 'first_letter': 'A', 'contains_a': True},\n",
       " {'last_letter': 'e', 'first_letter': 'A', 'contains_a': True},\n",
       " {'last_letter': 't', 'first_letter': 'A', 'contains_a': True},\n",
       " {'last_letter': 'n', 'first_letter': 'A', 'contains_a': True},\n",
       " {'last_letter': 'e', 'first_letter': 'A', 'contains_a': True},\n",
       " {'last_letter': 'o', 'first_letter': 'A', 'contains_a': True},\n",
       " {'last_letter': 's', 'first_letter': 'A', 'contains_a': True},\n",
       " {'last_letter': 'n', 'first_letter': 'A', 'contains_a': True},\n",
       " {'last_letter': 'n', 'first_letter': 'A', 'contains_a': True},\n",
       " {'last_letter': 'e', 'first_letter': 'A', 'contains_a': True},\n",
       " {'last_letter': 'l', 'first_letter': 'A', 'contains_a': True},\n",
       " {'last_letter': 'l', 'first_letter': 'A', 'contains_a': True},\n",
       " {'last_letter': 'l', 'first_letter': 'A', 'contains_a': True},\n",
       " {'last_letter': 'y', 'first_letter': 'A', 'contains_a': True},\n",
       " {'last_letter': 'i', 'first_letter': 'A', 'contains_a': True},\n",
       " {'last_letter': 'm', 'first_letter': 'A', 'contains_a': True},\n",
       " {'last_letter': 'm', 'first_letter': 'A', 'contains_a': True},\n",
       " {'last_letter': 'm', 'first_letter': 'A', 'contains_a': True},\n",
       " {'last_letter': 'l', 'first_letter': 'A', 'contains_a': True},\n",
       " {'last_letter': 'r', 'first_letter': 'A', 'contains_a': True},\n",
       " {'last_letter': 'z', 'first_letter': 'A', 'contains_a': True},\n",
       " {'last_letter': 'y', 'first_letter': 'B', 'contains_a': True},\n",
       " {'last_letter': 'e', 'first_letter': 'B', 'contains_a': True},\n",
       " {'last_letter': 'e', 'first_letter': 'B', 'contains_a': True},\n",
       " {'last_letter': 'y', 'first_letter': 'B', 'contains_a': True},\n",
       " {'last_letter': 'd', 'first_letter': 'B', 'contains_a': True},\n",
       " {'last_letter': 'n', 'first_letter': 'B', 'contains_a': True},\n",
       " {'last_letter': 't', 'first_letter': 'B', 'contains_a': True},\n",
       " {'last_letter': 's', 'first_letter': 'B', 'contains_a': True},\n",
       " {'last_letter': 'y', 'first_letter': 'B', 'contains_a': True},\n",
       " {'last_letter': 'd', 'first_letter': 'B', 'contains_a': True},\n",
       " {'last_letter': 'e', 'first_letter': 'B', 'contains_a': True},\n",
       " {'last_letter': 'n', 'first_letter': 'B', 'contains_a': True},\n",
       " {'last_letter': 's', 'first_letter': 'B', 'contains_a': True},\n",
       " {'last_letter': 'e', 'first_letter': 'B', 'contains_a': True},\n",
       " {'last_letter': 'y', 'first_letter': 'B', 'contains_a': True},\n",
       " {'last_letter': 'd', 'first_letter': 'B', 'contains_a': True},\n",
       " {'last_letter': 's', 'first_letter': 'B', 'contains_a': True},\n",
       " {'last_letter': 't', 'first_letter': 'B', 'contains_a': True},\n",
       " {'last_letter': 'y', 'first_letter': 'B', 'contains_a': True},\n",
       " {'last_letter': 'e', 'first_letter': 'B', 'contains_a': True},\n",
       " {'last_letter': 'y', 'first_letter': 'B', 'contains_a': True},\n",
       " {'last_letter': 'n', 'first_letter': 'B', 'contains_a': True},\n",
       " {'last_letter': 'r', 'first_letter': 'B', 'contains_a': True},\n",
       " {'last_letter': 't', 'first_letter': 'B', 'contains_a': True},\n",
       " {'last_letter': 't', 'first_letter': 'B', 'contains_a': True},\n",
       " {'last_letter': 'i', 'first_letter': 'B', 'contains_a': True},\n",
       " {'last_letter': 'e', 'first_letter': 'B', 'contains_a': True},\n",
       " {'last_letter': 's', 'first_letter': 'B', 'contains_a': True},\n",
       " {'last_letter': 'n', 'first_letter': 'B', 'contains_a': True},\n",
       " {'last_letter': 'y', 'first_letter': 'B', 'contains_a': True},\n",
       " {'last_letter': 't', 'first_letter': 'B', 'contains_a': True},\n",
       " {'last_letter': 'l', 'first_letter': 'B', 'contains_a': True},\n",
       " {'last_letter': 'h', 'first_letter': 'B', 'contains_a': True},\n",
       " {'last_letter': 'l', 'first_letter': 'B', 'contains_a': True},\n",
       " {'last_letter': 'y', 'first_letter': 'B', 'contains_a': True},\n",
       " {'last_letter': 'o', 'first_letter': 'B', 'contains_a': True},\n",
       " {'last_letter': 's', 'first_letter': 'B', 'contains_a': True},\n",
       " {'last_letter': 'w', 'first_letter': 'B', 'contains_a': True},\n",
       " {'last_letter': 'e', 'first_letter': 'B', 'contains_a': True},\n",
       " {'last_letter': 't', 'first_letter': 'B', 'contains_a': True},\n",
       " {'last_letter': 't', 'first_letter': 'B', 'contains_a': True},\n",
       " {'last_letter': 'o', 'first_letter': 'B', 'contains_a': True},\n",
       " {'last_letter': 'i', 'first_letter': 'B', 'contains_a': True},\n",
       " {'last_letter': 'o', 'first_letter': 'B', 'contains_a': True},\n",
       " {'last_letter': 'n', 'first_letter': 'B', 'contains_a': True},\n",
       " {'last_letter': 'y', 'first_letter': 'B', 'contains_a': True},\n",
       " {'last_letter': 'y', 'first_letter': 'B', 'contains_a': True},\n",
       " {'last_letter': 'l', 'first_letter': 'B', 'contains_a': True},\n",
       " {'last_letter': 'w', 'first_letter': 'B', 'contains_a': True},\n",
       " {'last_letter': 'r', 'first_letter': 'B', 'contains_a': True},\n",
       " {'last_letter': 'y', 'first_letter': 'B', 'contains_a': True},\n",
       " {'last_letter': 'd', 'first_letter': 'B', 'contains_a': True},\n",
       " {'last_letter': 'e', 'first_letter': 'B', 'contains_a': True},\n",
       " {'last_letter': 'e', 'first_letter': 'B', 'contains_a': True},\n",
       " {'last_letter': 'r', 'first_letter': 'B', 'contains_a': True},\n",
       " {'last_letter': 'd', 'first_letter': 'B', 'contains_a': True},\n",
       " {'last_letter': 'u', 'first_letter': 'B', 'contains_a': True},\n",
       " {'last_letter': 't', 'first_letter': 'B', 'contains_a': True},\n",
       " {'last_letter': 'd', 'first_letter': 'B', 'contains_a': True},\n",
       " {'last_letter': 'k', 'first_letter': 'B', 'contains_a': False},\n",
       " {'last_letter': 'a', 'first_letter': 'B', 'contains_a': True},\n",
       " {'last_letter': 'n', 'first_letter': 'B', 'contains_a': False},\n",
       " {'last_letter': 't', 'first_letter': 'B', 'contains_a': False},\n",
       " {'last_letter': 't', 'first_letter': 'B', 'contains_a': False},\n",
       " {'last_letter': 'o', 'first_letter': 'B', 'contains_a': False},\n",
       " {'last_letter': 'n', 'first_letter': 'B', 'contains_a': True},\n",
       " {'last_letter': 'n', 'first_letter': 'B', 'contains_a': True},\n",
       " {'last_letter': 'i', 'first_letter': 'B', 'contains_a': False},\n",
       " {'last_letter': 'e', 'first_letter': 'B', 'contains_a': False},\n",
       " {'last_letter': 'y', 'first_letter': 'B', 'contains_a': False},\n",
       " {'last_letter': 'n', 'first_letter': 'B', 'contains_a': False},\n",
       " {'last_letter': 't', 'first_letter': 'B', 'contains_a': False},\n",
       " {'last_letter': 't', 'first_letter': 'B', 'contains_a': False},\n",
       " {'last_letter': 'e', 'first_letter': 'B', 'contains_a': False},\n",
       " {'last_letter': 'y', 'first_letter': 'B', 'contains_a': False},\n",
       " {'last_letter': 'n', 'first_letter': 'B', 'contains_a': False},\n",
       " {'last_letter': 'y', 'first_letter': 'B', 'contains_a': False},\n",
       " {'last_letter': 'n', 'first_letter': 'B', 'contains_a': False},\n",
       " {'last_letter': 'f', 'first_letter': 'B', 'contains_a': False},\n",
       " {'last_letter': 'd', 'first_letter': 'B', 'contains_a': False},\n",
       " {'last_letter': 'k', 'first_letter': 'B', 'contains_a': False},\n",
       " {'last_letter': 'e', 'first_letter': 'B', 'contains_a': False},\n",
       " {'last_letter': 'y', 'first_letter': 'B', 'contains_a': False},\n",
       " {'last_letter': 'e', 'first_letter': 'B', 'contains_a': False},\n",
       " {'last_letter': 'y', 'first_letter': 'B', 'contains_a': False},\n",
       " {'last_letter': 'd', 'first_letter': 'B', 'contains_a': True},\n",
       " {'last_letter': 'o', 'first_letter': 'B', 'contains_a': True},\n",
       " {'last_letter': 'd', 'first_letter': 'B', 'contains_a': False},\n",
       " {'last_letter': 'd', 'first_letter': 'B', 'contains_a': True},\n",
       " {'last_letter': 'e', 'first_letter': 'B', 'contains_a': False},\n",
       " {'last_letter': 't', 'first_letter': 'B', 'contains_a': False},\n",
       " {'last_letter': 'e', 'first_letter': 'B', 'contains_a': False},\n",
       " {'last_letter': 'm', 'first_letter': 'B', 'contains_a': True},\n",
       " {'last_letter': 'd', 'first_letter': 'B', 'contains_a': True},\n",
       " {'last_letter': 't', 'first_letter': 'B', 'contains_a': True},\n",
       " {'last_letter': 'f', 'first_letter': 'B', 'contains_a': False},\n",
       " {'last_letter': 'l', 'first_letter': 'B', 'contains_a': False},\n",
       " {'last_letter': 'e', 'first_letter': 'B', 'contains_a': False},\n",
       " {'last_letter': 'y', 'first_letter': 'B', 'contains_a': False},\n",
       " {'last_letter': 'g', 'first_letter': 'B', 'contains_a': False},\n",
       " {'last_letter': 'y', 'first_letter': 'B', 'contains_a': False},\n",
       " {'last_letter': 'p', 'first_letter': 'B', 'contains_a': False},\n",
       " {'last_letter': 'n', 'first_letter': 'B', 'contains_a': False},\n",
       " {'last_letter': 'e', 'first_letter': 'B', 'contains_a': False},\n",
       " {'last_letter': 'e', 'first_letter': 'B', 'contains_a': True},\n",
       " {'last_letter': 'r', 'first_letter': 'B', 'contains_a': True},\n",
       " {'last_letter': 'e', 'first_letter': 'B', 'contains_a': True},\n",
       " {'last_letter': 'e', 'first_letter': 'B', 'contains_a': True},\n",
       " {'last_letter': 'e', 'first_letter': 'B', 'contains_a': True},\n",
       " {'last_letter': 'o', 'first_letter': 'B', 'contains_a': False},\n",
       " {'last_letter': 'b', 'first_letter': 'B', 'contains_a': False},\n",
       " {'last_letter': 'e', 'first_letter': 'B', 'contains_a': False},\n",
       " {'last_letter': 'y', 'first_letter': 'B', 'contains_a': False},\n",
       " {'last_letter': 't', 'first_letter': 'B', 'contains_a': True},\n",
       " {'last_letter': 'n', 'first_letter': 'B', 'contains_a': True},\n",
       " {'last_letter': 'e', 'first_letter': 'B', 'contains_a': True},\n",
       " {'last_letter': 's', 'first_letter': 'B', 'contains_a': False},\n",
       " {'last_letter': 'e', 'first_letter': 'B', 'contains_a': False},\n",
       " {'last_letter': 'd', 'first_letter': 'B', 'contains_a': False},\n",
       " {'last_letter': 'd', 'first_letter': 'B', 'contains_a': True},\n",
       " {'last_letter': 'n', 'first_letter': 'B', 'contains_a': True},\n",
       " {'last_letter': 'd', 'first_letter': 'B', 'contains_a': True},\n",
       " {'last_letter': 'y', 'first_letter': 'B', 'contains_a': True},\n",
       " {'last_letter': 'y', 'first_letter': 'B', 'contains_a': True},\n",
       " {'last_letter': 'y', 'first_letter': 'B', 'contains_a': True},\n",
       " {'last_letter': 'n', 'first_letter': 'B', 'contains_a': True},\n",
       " {'last_letter': 'y', 'first_letter': 'B', 'contains_a': True},\n",
       " {'last_letter': 't', 'first_letter': 'B', 'contains_a': True},\n",
       " {'last_letter': 'n', 'first_letter': 'B', 'contains_a': True},\n",
       " {'last_letter': 't', 'first_letter': 'B', 'contains_a': False},\n",
       " {'last_letter': 't', 'first_letter': 'B', 'contains_a': False},\n",
       " {'last_letter': 't', 'first_letter': 'B', 'contains_a': False},\n",
       " {'last_letter': 'r', 'first_letter': 'B', 'contains_a': False},\n",
       " {'last_letter': 'r', 'first_letter': 'B', 'contains_a': False},\n",
       " {'last_letter': 'n', 'first_letter': 'B', 'contains_a': True},\n",
       " {'last_letter': 'e', 'first_letter': 'B', 'contains_a': False},\n",
       " {'last_letter': 's', 'first_letter': 'B', 'contains_a': False},\n",
       " {'last_letter': 'y', 'first_letter': 'B', 'contains_a': False},\n",
       " {'last_letter': 't', 'first_letter': 'B', 'contains_a': False},\n",
       " {'last_letter': 'k', 'first_letter': 'B', 'contains_a': False},\n",
       " {'last_letter': 'e', 'first_letter': 'B', 'contains_a': False},\n",
       " {'last_letter': 'y', 'first_letter': 'B', 'contains_a': False},\n",
       " {'last_letter': 'c', 'first_letter': 'B', 'contains_a': False},\n",
       " {'last_letter': 'k', 'first_letter': 'B', 'contains_a': False},\n",
       " {'last_letter': 'e', 'first_letter': 'B', 'contains_a': False},\n",
       " {'last_letter': 'y', 'first_letter': 'B', 'contains_a': False},\n",
       " {'last_letter': 'n', 'first_letter': 'B', 'contains_a': False},\n",
       " {'last_letter': 'k', 'first_letter': 'B', 'contains_a': False},\n",
       " {'last_letter': 'e', 'first_letter': 'B', 'contains_a': False},\n",
       " {'last_letter': 's', 'first_letter': 'B', 'contains_a': False},\n",
       " {'last_letter': 'e', 'first_letter': 'B', 'contains_a': False},\n",
       " {'last_letter': 'o', 'first_letter': 'B', 'contains_a': False},\n",
       " {'last_letter': 'n', 'first_letter': 'B', 'contains_a': True},\n",
       " {'last_letter': 't', 'first_letter': 'B', 'contains_a': True},\n",
       " {'last_letter': 'e', 'first_letter': 'B', 'contains_a': False},\n",
       " {'last_letter': 'n', 'first_letter': 'B', 'contains_a': False},\n",
       " {'last_letter': 'n', 'first_letter': 'B', 'contains_a': False},\n",
       " {'last_letter': 'a', 'first_letter': 'B', 'contains_a': True},\n",
       " {'last_letter': 'k', 'first_letter': 'B', 'contains_a': False},\n",
       " {'last_letter': 'y', 'first_letter': 'B', 'contains_a': False},\n",
       " {'last_letter': 'd', 'first_letter': 'B', 'contains_a': False},\n",
       " {'last_letter': 'y', 'first_letter': 'B', 'contains_a': False},\n",
       " {'last_letter': 's', 'first_letter': 'B', 'contains_a': False},\n",
       " {'last_letter': 'e', 'first_letter': 'B', 'contains_a': False},\n",
       " {'last_letter': 'l', 'first_letter': 'B', 'contains_a': False},\n",
       " {'last_letter': 'y', 'first_letter': 'B', 'contains_a': True},\n",
       " {'last_letter': 't', 'first_letter': 'B', 'contains_a': False},\n",
       " {'last_letter': 'n', 'first_letter': 'B', 'contains_a': False},\n",
       " {'last_letter': 'r', 'first_letter': 'B', 'contains_a': False},\n",
       " {'last_letter': 'h', 'first_letter': 'B', 'contains_a': False},\n",
       " {'last_letter': 'r', 'first_letter': 'B', 'contains_a': False},\n",
       " {'last_letter': 'm', 'first_letter': 'B', 'contains_a': True},\n",
       " {'last_letter': 'n', 'first_letter': 'B', 'contains_a': False},\n",
       " {'last_letter': 'r', 'first_letter': 'C', 'contains_a': True},\n",
       " {'last_letter': 'n', 'first_letter': 'C', 'contains_a': True},\n",
       " {'last_letter': 'l', 'first_letter': 'C', 'contains_a': True},\n",
       " {'last_letter': 'l', 'first_letter': 'C', 'contains_a': True},\n",
       " {'last_letter': 'b', 'first_letter': 'C', 'contains_a': True},\n",
       " {'last_letter': 'n', 'first_letter': 'C', 'contains_a': True},\n",
       " {'last_letter': 'n', 'first_letter': 'C', 'contains_a': True},\n",
       " {'last_letter': 'm', 'first_letter': 'C', 'contains_a': True},\n",
       " {'last_letter': 'n', 'first_letter': 'C', 'contains_a': True},\n",
       " {'last_letter': 'y', 'first_letter': 'C', 'contains_a': True},\n",
       " {'last_letter': 'y', 'first_letter': 'C', 'contains_a': True},\n",
       " {'last_letter': 'l', 'first_letter': 'C', 'contains_a': True},\n",
       " {'last_letter': 'h', 'first_letter': 'C', 'contains_a': True},\n",
       " {'last_letter': 'e', 'first_letter': 'C', 'contains_a': True},\n",
       " {'last_letter': 'n', 'first_letter': 'C', 'contains_a': True},\n",
       " {'last_letter': 'o', 'first_letter': 'C', 'contains_a': True},\n",
       " {'last_letter': 's', 'first_letter': 'C', 'contains_a': True},\n",
       " {'last_letter': 'n', 'first_letter': 'C', 'contains_a': True},\n",
       " {'last_letter': 'e', 'first_letter': 'C', 'contains_a': True},\n",
       " {'last_letter': 'e', 'first_letter': 'C', 'contains_a': True},\n",
       " {'last_letter': 'l', 'first_letter': 'C', 'contains_a': True},\n",
       " {'last_letter': 'n', 'first_letter': 'C', 'contains_a': True},\n",
       " {'last_letter': 'n', 'first_letter': 'C', 'contains_a': True},\n",
       " {'last_letter': 'r', 'first_letter': 'C', 'contains_a': True},\n",
       " {'last_letter': 'y', 'first_letter': 'C', 'contains_a': True},\n",
       " {'last_letter': 'l', 'first_letter': 'C', 'contains_a': True},\n",
       " {'last_letter': 'e', 'first_letter': 'C', 'contains_a': True},\n",
       " {'last_letter': 'y', 'first_letter': 'C', 'contains_a': True},\n",
       " {'last_letter': 'r', 'first_letter': 'C', 'contains_a': True},\n",
       " {'last_letter': 'r', 'first_letter': 'C', 'contains_a': True},\n",
       " {'last_letter': 's', 'first_letter': 'C', 'contains_a': True},\n",
       " {'last_letter': 't', 'first_letter': 'C', 'contains_a': True},\n",
       " {'last_letter': 'l', 'first_letter': 'C', 'contains_a': False},\n",
       " {'last_letter': 'r', 'first_letter': 'C', 'contains_a': True},\n",
       " {'last_letter': 'd', 'first_letter': 'C', 'contains_a': True},\n",
       " {'last_letter': 'd', 'first_letter': 'C', 'contains_a': True},\n",
       " {'last_letter': 'e', 'first_letter': 'C', 'contains_a': True},\n",
       " {'last_letter': 'y', 'first_letter': 'C', 'contains_a': True},\n",
       " {'last_letter': 'k', 'first_letter': 'C', 'contains_a': True},\n",
       " {'last_letter': 'm', 'first_letter': 'C', 'contains_a': True},\n",
       " {'last_letter': 's', 'first_letter': 'C', 'contains_a': True},\n",
       " {'last_letter': 'n', 'first_letter': 'C', 'contains_a': True},\n",
       " {'last_letter': 'e', 'first_letter': 'C', 'contains_a': True},\n",
       " {'last_letter': 'y', 'first_letter': 'C', 'contains_a': True},\n",
       " {'last_letter': 't', 'first_letter': 'C', 'contains_a': True},\n",
       " {'last_letter': 'r', 'first_letter': 'C', 'contains_a': True},\n",
       " {'last_letter': 'e', 'first_letter': 'C', 'contains_a': True},\n",
       " {'last_letter': 't', 'first_letter': 'C', 'contains_a': True},\n",
       " {'last_letter': 's', 'first_letter': 'C', 'contains_a': True},\n",
       " {'last_letter': 'n', 'first_letter': 'C', 'contains_a': True},\n",
       " {'last_letter': 'y', 'first_letter': 'C', 'contains_a': True},\n",
       " {'last_letter': 'e', 'first_letter': 'C', 'contains_a': True},\n",
       " {'last_letter': 'n', 'first_letter': 'C', 'contains_a': True},\n",
       " {'last_letter': 's', 'first_letter': 'C', 'contains_a': True},\n",
       " {'last_letter': 'e', 'first_letter': 'C', 'contains_a': True},\n",
       " {'last_letter': 'e', 'first_letter': 'C', 'contains_a': True},\n",
       " {'last_letter': 'y', 'first_letter': 'C', 'contains_a': True},\n",
       " {'last_letter': 'e', 'first_letter': 'C', 'contains_a': False},\n",
       " {'last_letter': 'n', 'first_letter': 'C', 'contains_a': False},\n",
       " {'last_letter': 'n', 'first_letter': 'C', 'contains_a': False},\n",
       " {'last_letter': 'r', 'first_letter': 'C', 'contains_a': False},\n",
       " {'last_letter': 'n', 'first_letter': 'C', 'contains_a': False},\n",
       " {'last_letter': 't', 'first_letter': 'C', 'contains_a': False},\n",
       " {'last_letter': 'v', 'first_letter': 'C', 'contains_a': False},\n",
       " {'last_letter': 'r', 'first_letter': 'C', 'contains_a': True},\n",
       " {'last_letter': 'y', 'first_letter': 'C', 'contains_a': False},\n",
       " {'last_letter': 'p', 'first_letter': 'C', 'contains_a': False},\n",
       " {'last_letter': 's', 'first_letter': 'C', 'contains_a': False},\n",
       " {'last_letter': 'y', 'first_letter': 'C', 'contains_a': False},\n",
       " {'last_letter': 't', 'first_letter': 'C', 'contains_a': False},\n",
       " {'last_letter': 'n', 'first_letter': 'C', 'contains_a': True},\n",
       " {'last_letter': 'o', 'first_letter': 'C', 'contains_a': True},\n",
       " {'last_letter': 'e', 'first_letter': 'C', 'contains_a': False},\n",
       " {'last_letter': 'f', 'first_letter': 'C', 'contains_a': False},\n",
       " {'last_letter': 'r', 'first_letter': 'C', 'contains_a': False},\n",
       " {'last_letter': 'h', 'first_letter': 'C', 'contains_a': False},\n",
       " {'last_letter': 'e', 'first_letter': 'C', 'contains_a': False},\n",
       " {'last_letter': 'r', 'first_letter': 'C', 'contains_a': False},\n",
       " {'last_letter': 'r', 'first_letter': 'C', 'contains_a': False},\n",
       " {'last_letter': 's', 'first_letter': 'C', 'contains_a': False},\n",
       " {'last_letter': 'y', 'first_letter': 'C', 'contains_a': False},\n",
       " {'last_letter': 'y', 'first_letter': 'C', 'contains_a': False},\n",
       " {'last_letter': 'k', 'first_letter': 'C', 'contains_a': False},\n",
       " {'last_letter': 'l', 'first_letter': 'C', 'contains_a': False},\n",
       " {'last_letter': 'r', 'first_letter': 'C', 'contains_a': True},\n",
       " {'last_letter': 'e', 'first_letter': 'C', 'contains_a': True},\n",
       " {'last_letter': 'y', 'first_letter': 'C', 'contains_a': True},\n",
       " {'last_letter': 'e', 'first_letter': 'C', 'contains_a': True},\n",
       " {'last_letter': 'e', 'first_letter': 'C', 'contains_a': True},\n",
       " {'last_letter': 'e', 'first_letter': 'C', 'contains_a': True},\n",
       " {'last_letter': 'k', 'first_letter': 'C', 'contains_a': True},\n",
       " {'last_letter': 'e', 'first_letter': 'C', 'contains_a': True},\n",
       " {'last_letter': 'e', 'first_letter': 'C', 'contains_a': True},\n",
       " {'last_letter': 'o', 'first_letter': 'C', 'contains_a': True},\n",
       " {'last_letter': 's', 'first_letter': 'C', 'contains_a': True},\n",
       " {'last_letter': 's', 'first_letter': 'C', 'contains_a': True},\n",
       " {'last_letter': 'y', 'first_letter': 'C', 'contains_a': True},\n",
       " {'last_letter': 'n', 'first_letter': 'C', 'contains_a': True},\n",
       " {'last_letter': 'e', 'first_letter': 'C', 'contains_a': True},\n",
       " {'last_letter': 'e', 'first_letter': 'C', 'contains_a': True},\n",
       " {'last_letter': 'n', 'first_letter': 'C', 'contains_a': True},\n",
       " {'last_letter': 'd', 'first_letter': 'C', 'contains_a': True},\n",
       " {'last_letter': 'm', 'first_letter': 'C', 'contains_a': False},\n",
       " {'last_letter': 's', 'first_letter': 'C', 'contains_a': False},\n",
       " {'last_letter': 't', 'first_letter': 'C', 'contains_a': False},\n",
       " {'last_letter': 'e', 'first_letter': 'C', 'contains_a': False},\n",
       " {'last_letter': 'e', 'first_letter': 'C', 'contains_a': False},\n",
       " {'last_letter': 's', 'first_letter': 'C', 'contains_a': False},\n",
       " {'last_letter': 'd', 'first_letter': 'C', 'contains_a': True},\n",
       " {'last_letter': 'f', 'first_letter': 'C', 'contains_a': False},\n",
       " {'last_letter': 'd', 'first_letter': 'C', 'contains_a': False},\n",
       " {'last_letter': 'n', 'first_letter': 'C', 'contains_a': False},\n",
       " {'last_letter': 't', 'first_letter': 'C', 'contains_a': False},\n",
       " {'last_letter': 'n', 'first_letter': 'C', 'contains_a': False},\n",
       " {'last_letter': 'n', 'first_letter': 'C', 'contains_a': False},\n",
       " {'last_letter': 'e', 'first_letter': 'C', 'contains_a': False},\n",
       " {'last_letter': 'e', 'first_letter': 'C', 'contains_a': False},\n",
       " {'last_letter': 'b', 'first_letter': 'C', 'contains_a': False},\n",
       " {'last_letter': 'b', 'first_letter': 'C', 'contains_a': False},\n",
       " {'last_letter': 'e', 'first_letter': 'C', 'contains_a': False},\n",
       " {'last_letter': 'y', 'first_letter': 'C', 'contains_a': False},\n",
       " {'last_letter': 'y', 'first_letter': 'C', 'contains_a': False},\n",
       " {'last_letter': 't', 'first_letter': 'C', 'contains_a': False},\n",
       " {'last_letter': 'e', 'first_letter': 'C', 'contains_a': False},\n",
       " {'last_letter': 'n', 'first_letter': 'C', 'contains_a': True},\n",
       " {'last_letter': 'n', 'first_letter': 'C', 'contains_a': False},\n",
       " {'last_letter': 'n', 'first_letter': 'C', 'contains_a': False},\n",
       " {'last_letter': 's', 'first_letter': 'C', 'contains_a': False},\n",
       " {'last_letter': 'n', 'first_letter': 'C', 'contains_a': True},\n",
       " {'last_letter': 'e', 'first_letter': 'C', 'contains_a': False},\n",
       " {'last_letter': 'y', 'first_letter': 'C', 'contains_a': False},\n",
       " {'last_letter': 'r', 'first_letter': 'C', 'contains_a': False},\n",
       " {'last_letter': 'd', 'first_letter': 'C', 'contains_a': True},\n",
       " {'last_letter': 'y', 'first_letter': 'C', 'contains_a': False},\n",
       " {'last_letter': 'n', 'first_letter': 'C', 'contains_a': True},\n",
       " {'last_letter': 'e', 'first_letter': 'C', 'contains_a': True},\n",
       " {'last_letter': 's', 'first_letter': 'C', 'contains_a': True},\n",
       " {'last_letter': 'y', 'first_letter': 'C', 'contains_a': True},\n",
       " {'last_letter': 'r', 'first_letter': 'C', 'contains_a': False},\n",
       " {'last_letter': 'n', 'first_letter': 'C', 'contains_a': False},\n",
       " {'last_letter': 'y', 'first_letter': 'C', 'contains_a': False},\n",
       " {'last_letter': 'y', 'first_letter': 'C', 'contains_a': False},\n",
       " {'last_letter': 'y', 'first_letter': 'C', 'contains_a': False},\n",
       " {'last_letter': 's', 'first_letter': 'C', 'contains_a': False},\n",
       " {'last_letter': 's', 'first_letter': 'C', 'contains_a': False},\n",
       " {'last_letter': 'e', 'first_letter': 'C', 'contains_a': False},\n",
       " {'last_letter': 'e', 'first_letter': 'C', 'contains_a': False},\n",
       " {'last_letter': 'n', 'first_letter': 'C', 'contains_a': False},\n",
       " {'last_letter': 'y', 'first_letter': 'C', 'contains_a': False},\n",
       " {'last_letter': 'o', 'first_letter': 'C', 'contains_a': False},\n",
       " {'last_letter': 'a', 'first_letter': 'C', 'contains_a': True},\n",
       " {'last_letter': 'y', 'first_letter': 'C', 'contains_a': False},\n",
       " {'last_letter': 'g', 'first_letter': 'C', 'contains_a': True},\n",
       " {'last_letter': 'd', 'first_letter': 'C', 'contains_a': True},\n",
       " {'last_letter': 'n', 'first_letter': 'C', 'contains_a': False},\n",
       " {'last_letter': 's', 'first_letter': 'C', 'contains_a': False},\n",
       " {'last_letter': 'r', 'first_letter': 'C', 'contains_a': False},\n",
       " {'last_letter': 't', 'first_letter': 'C', 'contains_a': False},\n",
       " {'last_letter': 'e', 'first_letter': 'C', 'contains_a': False},\n",
       " {'last_letter': 's', 'first_letter': 'C', 'contains_a': False},\n",
       " {'last_letter': 'y', 'first_letter': 'C', 'contains_a': False},\n",
       " {'last_letter': 'l', 'first_letter': 'C', 'contains_a': False},\n",
       " {'last_letter': 'l', 'first_letter': 'C', 'contains_a': False},\n",
       " {'last_letter': 'e', 'first_letter': 'C', 'contains_a': False},\n",
       " {'last_letter': 's', 'first_letter': 'C', 'contains_a': False},\n",
       " {'last_letter': 's', 'first_letter': 'C', 'contains_a': False},\n",
       " {'last_letter': 'y', 'first_letter': 'D', 'contains_a': True},\n",
       " {'last_letter': 'y', 'first_letter': 'D', 'contains_a': True},\n",
       " {'last_letter': 'e', 'first_letter': 'D', 'contains_a': True},\n",
       " {'last_letter': 's', 'first_letter': 'D', 'contains_a': True},\n",
       " {'last_letter': 'n', 'first_letter': 'D', 'contains_a': True},\n",
       " {'last_letter': 'n', 'first_letter': 'D', 'contains_a': True},\n",
       " {'last_letter': 'n', 'first_letter': 'D', 'contains_a': True},\n",
       " {'last_letter': 'n', 'first_letter': 'D', 'contains_a': True},\n",
       " {'last_letter': 'n', 'first_letter': 'D', 'contains_a': True},\n",
       " {'last_letter': 'a', 'first_letter': 'D', 'contains_a': True},\n",
       " {'last_letter': 'e', 'first_letter': 'D', 'contains_a': True},\n",
       " {'last_letter': 'i', 'first_letter': 'D', 'contains_a': True},\n",
       " {'last_letter': 'e', 'first_letter': 'D', 'contains_a': True},\n",
       " {'last_letter': 'l', 'first_letter': 'D', 'contains_a': True},\n",
       " {'last_letter': 'e', 'first_letter': 'D', 'contains_a': True},\n",
       " {'last_letter': 'y', 'first_letter': 'D', 'contains_a': True},\n",
       " {'last_letter': 'e', 'first_letter': 'D', 'contains_a': True},\n",
       " {'last_letter': 'y', 'first_letter': 'D', 'contains_a': True},\n",
       " {'last_letter': 'y', 'first_letter': 'D', 'contains_a': True},\n",
       " {'last_letter': 'n', 'first_letter': 'D', 'contains_a': True},\n",
       " {'last_letter': 'n', 'first_letter': 'D', 'contains_a': True},\n",
       " {'last_letter': 'n', 'first_letter': 'D', 'contains_a': True},\n",
       " {'last_letter': 'n', 'first_letter': 'D', 'contains_a': True},\n",
       " {'last_letter': 'o', 'first_letter': 'D', 'contains_a': True},\n",
       " {'last_letter': 's', 'first_letter': 'D', 'contains_a': True},\n",
       " {'last_letter': 'l', 'first_letter': 'D', 'contains_a': True},\n",
       " {'last_letter': 'l', 'first_letter': 'D', 'contains_a': True},\n",
       " {'last_letter': 'n', 'first_letter': 'D', 'contains_a': True},\n",
       " {'last_letter': 'k', 'first_letter': 'D', 'contains_a': True},\n",
       " {'last_letter': 'n', 'first_letter': 'D', 'contains_a': True},\n",
       " {'last_letter': 'l', 'first_letter': 'D', 'contains_a': True},\n",
       " {'last_letter': 'h', 'first_letter': 'D', 'contains_a': True},\n",
       " {'last_letter': 'n', 'first_letter': 'D', 'contains_a': True},\n",
       " {'last_letter': 'l', 'first_letter': 'D', 'contains_a': True},\n",
       " {'last_letter': 'e', 'first_letter': 'D', 'contains_a': True},\n",
       " {'last_letter': 'e', 'first_letter': 'D', 'contains_a': True},\n",
       " {'last_letter': 'y', 'first_letter': 'D', 'contains_a': True},\n",
       " {'last_letter': 'd', 'first_letter': 'D', 'contains_a': True},\n",
       " {'last_letter': 'e', 'first_letter': 'D', 'contains_a': True},\n",
       " {'last_letter': 'e', 'first_letter': 'D', 'contains_a': True},\n",
       " {'last_letter': 'n', 'first_letter': 'D', 'contains_a': True},\n",
       " {'last_letter': 'e', 'first_letter': 'D', 'contains_a': True},\n",
       " {'last_letter': 'n', 'first_letter': 'D', 'contains_a': True},\n",
       " {'last_letter': 's', 'first_letter': 'D', 'contains_a': True},\n",
       " {'last_letter': 'n', 'first_letter': 'D', 'contains_a': True},\n",
       " {'last_letter': 'd', 'first_letter': 'D', 'contains_a': True},\n",
       " {'last_letter': 'y', 'first_letter': 'D', 'contains_a': True},\n",
       " {'last_letter': 'n', 'first_letter': 'D', 'contains_a': True},\n",
       " {'last_letter': 'n', 'first_letter': 'D', 'contains_a': True},\n",
       " {'last_letter': 'e', 'first_letter': 'D', 'contains_a': True},\n",
       " {'last_letter': 'l', 'first_letter': 'D', 'contains_a': False},\n",
       " {'last_letter': 't', 'first_letter': 'D', 'contains_a': False},\n",
       " {'last_letter': 'l', 'first_letter': 'D', 'contains_a': False},\n",
       " {'last_letter': 'r', 'first_letter': 'D', 'contains_a': True},\n",
       " {'last_letter': 'e', 'first_letter': 'D', 'contains_a': False},\n",
       " {'last_letter': 'i', 'first_letter': 'D', 'contains_a': False},\n",
       " {'last_letter': 's', 'first_letter': 'D', 'contains_a': False},\n",
       " {'last_letter': 's', 'first_letter': 'D', 'contains_a': False},\n",
       " {'last_letter': 's', 'first_letter': 'D', 'contains_a': False},\n",
       " {'last_letter': 's', 'first_letter': 'D', 'contains_a': False},\n",
       " {'last_letter': 'e', 'first_letter': 'D', 'contains_a': False},\n",
       " {'last_letter': 's', 'first_letter': 'D', 'contains_a': False},\n",
       " {'last_letter': 'y', 'first_letter': 'D', 'contains_a': False},\n",
       " {'last_letter': 'y', 'first_letter': 'D', 'contains_a': False},\n",
       " {'last_letter': 'k', 'first_letter': 'D', 'contains_a': False},\n",
       " {'last_letter': 'k', 'first_letter': 'D', 'contains_a': False},\n",
       " {'last_letter': 'k', 'first_letter': 'D', 'contains_a': False},\n",
       " {'last_letter': 'k', 'first_letter': 'D', 'contains_a': False},\n",
       " {'last_letter': 'k', 'first_letter': 'D', 'contains_a': False},\n",
       " {'last_letter': 'n', 'first_letter': 'D', 'contains_a': False},\n",
       " {'last_letter': 'l', 'first_letter': 'D', 'contains_a': False},\n",
       " {'last_letter': 'n', 'first_letter': 'D', 'contains_a': False},\n",
       " {'last_letter': 'l', 'first_letter': 'D', 'contains_a': False},\n",
       " {'last_letter': 'd', 'first_letter': 'D', 'contains_a': False},\n",
       " {'last_letter': 'd', 'first_letter': 'D', 'contains_a': False},\n",
       " {'last_letter': 'n', 'first_letter': 'D', 'contains_a': False},\n",
       " {'last_letter': 'n', 'first_letter': 'D', 'contains_a': False},\n",
       " {'last_letter': 'y', 'first_letter': 'D', 'contains_a': False},\n",
       " {'last_letter': 't', 'first_letter': 'D', 'contains_a': False},\n",
       " {'last_letter': 'r', 'first_letter': 'D', 'contains_a': False},\n",
       " {'last_letter': 'k', 'first_letter': 'D', 'contains_a': False},\n",
       " {'last_letter': 'y', 'first_letter': 'D', 'contains_a': False},\n",
       " {'last_letter': 'e', 'first_letter': 'D', 'contains_a': False},\n",
       " {'last_letter': 'o', 'first_letter': 'D', 'contains_a': False},\n",
       " {'last_letter': 'r', 'first_letter': 'D', 'contains_a': False},\n",
       " {'last_letter': 'h', 'first_letter': 'D', 'contains_a': False},\n",
       " {'last_letter': 'n', 'first_letter': 'D', 'contains_a': False},\n",
       " {'last_letter': 'i', 'first_letter': 'D', 'contains_a': False},\n",
       " {'last_letter': 's', 'first_letter': 'D', 'contains_a': False},\n",
       " {'last_letter': 's', 'first_letter': 'D', 'contains_a': False},\n",
       " {'last_letter': 'u', 'first_letter': 'D', 'contains_a': False},\n",
       " {'last_letter': 'y', 'first_letter': 'D', 'contains_a': False},\n",
       " {'last_letter': 'o', 'first_letter': 'D', 'contains_a': False},\n",
       " {'last_letter': 'n', 'first_letter': 'D', 'contains_a': False},\n",
       " {'last_letter': 's', 'first_letter': 'D', 'contains_a': False},\n",
       " {'last_letter': 's', 'first_letter': 'D', 'contains_a': False},\n",
       " {'last_letter': 'k', 'first_letter': 'D', 'contains_a': False},\n",
       " {'last_letter': 'i', 'first_letter': 'D', 'contains_a': False},\n",
       " {'last_letter': 'm', 'first_letter': 'D', 'contains_a': False},\n",
       " {'last_letter': 'c', 'first_letter': 'D', 'contains_a': False},\n",
       " {'last_letter': 'o', 'first_letter': 'D', 'contains_a': False},\n",
       " {'last_letter': 'c', 'first_letter': 'D', 'contains_a': False},\n",
       " {'last_letter': 'k', 'first_letter': 'D', 'contains_a': False},\n",
       " {'last_letter': 'e', 'first_letter': 'D', 'contains_a': False},\n",
       " {'last_letter': 'n', 'first_letter': 'D', 'contains_a': False},\n",
       " {'last_letter': 'l', 'first_letter': 'D', 'contains_a': True},\n",
       " {'last_letter': 'd', 'first_letter': 'D', 'contains_a': True},\n",
       " {'last_letter': 'n', 'first_letter': 'D', 'contains_a': False},\n",
       " {'last_letter': 'e', 'first_letter': 'D', 'contains_a': False},\n",
       " {'last_letter': 'y', 'first_letter': 'D', 'contains_a': False},\n",
       " {'last_letter': 'n', 'first_letter': 'D', 'contains_a': True},\n",
       " {'last_letter': 'n', 'first_letter': 'D', 'contains_a': True},\n",
       " {'last_letter': 'y', 'first_letter': 'D', 'contains_a': False},\n",
       " {'last_letter': 'g', 'first_letter': 'D', 'contains_a': False},\n",
       " {'last_letter': 'e', 'first_letter': 'D', 'contains_a': False},\n",
       " {'last_letter': 'e', 'first_letter': 'D', 'contains_a': False},\n",
       " {'last_letter': 's', 'first_letter': 'D', 'contains_a': True},\n",
       " {'last_letter': 's', 'first_letter': 'D', 'contains_a': True},\n",
       " {'last_letter': 's', 'first_letter': 'D', 'contains_a': False},\n",
       " {'last_letter': 'v', 'first_letter': 'D', 'contains_a': False},\n",
       " {'last_letter': 'e', 'first_letter': 'D', 'contains_a': False},\n",
       " {'last_letter': 'e', 'first_letter': 'D', 'contains_a': True},\n",
       " {'last_letter': 'w', 'first_letter': 'D', 'contains_a': False},\n",
       " {'last_letter': 'u', 'first_letter': 'D', 'contains_a': False},\n",
       " {'last_letter': 'e', 'first_letter': 'D', 'contains_a': False},\n",
       " {'last_letter': 'e', 'first_letter': 'D', 'contains_a': True},\n",
       " {'last_letter': 'y', 'first_letter': 'D', 'contains_a': False},\n",
       " {'last_letter': 'e', 'first_letter': 'D', 'contains_a': False},\n",
       " {'last_letter': 'y', 'first_letter': 'D', 'contains_a': False},\n",
       " {'last_letter': 'n', 'first_letter': 'D', 'contains_a': True},\n",
       " {'last_letter': 'e', 'first_letter': 'D', 'contains_a': False},\n",
       " {'last_letter': 'c', 'first_letter': 'D', 'contains_a': False},\n",
       " {'last_letter': 'n', 'first_letter': 'D', 'contains_a': True},\n",
       " {'last_letter': 'n', 'first_letter': 'D', 'contains_a': True},\n",
       " {'last_letter': 'd', 'first_letter': 'D', 'contains_a': True},\n",
       " {'last_letter': 't', 'first_letter': 'D', 'contains_a': True},\n",
       " {'last_letter': 'e', 'first_letter': 'D', 'contains_a': True},\n",
       " {'last_letter': 'd', 'first_letter': 'D', 'contains_a': True},\n",
       " {'last_letter': 'n', 'first_letter': 'D', 'contains_a': False},\n",
       " {'last_letter': 'n', 'first_letter': 'D', 'contains_a': True},\n",
       " {'last_letter': 'e', 'first_letter': 'D', 'contains_a': True},\n",
       " {'last_letter': 'e', 'first_letter': 'D', 'contains_a': True},\n",
       " {'last_letter': 'e', 'first_letter': 'D', 'contains_a': True},\n",
       " {'last_letter': 't', 'first_letter': 'D', 'contains_a': False},\n",
       " {'last_letter': 'n', 'first_letter': 'D', 'contains_a': True},\n",
       " {'last_letter': 'n', 'first_letter': 'D', 'contains_a': False},\n",
       " {'last_letter': 'l', 'first_letter': 'E', 'contains_a': True},\n",
       " {'last_letter': 'e', 'first_letter': 'E', 'contains_a': True},\n",
       " {'last_letter': 'n', 'first_letter': 'E', 'contains_a': True},\n",
       " {'last_letter': 'n', 'first_letter': 'E', 'contains_a': False},\n",
       " {'last_letter': 'r', 'first_letter': 'E', 'contains_a': False},\n",
       " {'last_letter': 'r', 'first_letter': 'E', 'contains_a': False},\n",
       " {'last_letter': 'd', 'first_letter': 'E', 'contains_a': True},\n",
       " {'last_letter': 'd', 'first_letter': 'E', 'contains_a': False},\n",
       " {'last_letter': 'e', 'first_letter': 'E', 'contains_a': False},\n",
       " {'last_letter': 'y', 'first_letter': 'E', 'contains_a': False},\n",
       " {'last_letter': 'r', 'first_letter': 'E', 'contains_a': True},\n",
       " {'last_letter': 'o', 'first_letter': 'E', 'contains_a': True},\n",
       " {'last_letter': 'e', 'first_letter': 'E', 'contains_a': False},\n",
       " {'last_letter': 'd', 'first_letter': 'E', 'contains_a': False},\n",
       " {'last_letter': 'd', 'first_letter': 'E', 'contains_a': False},\n",
       " {'last_letter': 'd', 'first_letter': 'E', 'contains_a': True},\n",
       " {'last_letter': 'l', 'first_letter': 'E', 'contains_a': False},\n",
       " {'last_letter': 'd', 'first_letter': 'E', 'contains_a': True},\n",
       " {'last_letter': 'o', 'first_letter': 'E', 'contains_a': True},\n",
       " {'last_letter': 'd', 'first_letter': 'E', 'contains_a': True},\n",
       " {'last_letter': 'n', 'first_letter': 'E', 'contains_a': False},\n",
       " {'last_letter': 'm', 'first_letter': 'E', 'contains_a': True},\n",
       " {'last_letter': 't', 'first_letter': 'E', 'contains_a': False},\n",
       " {'last_letter': 'd', 'first_letter': 'E', 'contains_a': False},\n",
       " {'last_letter': 't', 'first_letter': 'E', 'contains_a': False},\n",
       " {'last_letter': 'n', 'first_letter': 'E', 'contains_a': False},\n",
       " {'last_letter': 'n', 'first_letter': 'E', 'contains_a': False},\n",
       " {'last_letter': 'i', 'first_letter': 'E', 'contains_a': False},\n",
       " {'last_letter': 's', 'first_letter': 'E', 'contains_a': True},\n",
       " {'last_letter': 'u', 'first_letter': 'E', 'contains_a': False},\n",
       " {'last_letter': 'h', 'first_letter': 'E', 'contains_a': True},\n",
       " {'last_letter': 't', 'first_letter': 'E', 'contains_a': False},\n",
       " {'last_letter': 't', 'first_letter': 'E', 'contains_a': False},\n",
       " {'last_letter': 'a', 'first_letter': 'E', 'contains_a': True},\n",
       " {'last_letter': 't', 'first_letter': 'E', 'contains_a': False},\n",
       " {'last_letter': 't', 'first_letter': 'E', 'contains_a': False},\n",
       " {'last_letter': 's', 'first_letter': 'E', 'contains_a': False},\n",
       " {'last_letter': 'h', 'first_letter': 'E', 'contains_a': False},\n",
       " {'last_letter': 'd', 'first_letter': 'E', 'contains_a': False},\n",
       " {'last_letter': 'r', 'first_letter': 'E', 'contains_a': False},\n",
       " {'last_letter': 'e', 'first_letter': 'E', 'contains_a': False},\n",
       " {'last_letter': 'r', 'first_letter': 'E', 'contains_a': True},\n",
       " {'last_letter': 'c', 'first_letter': 'E', 'contains_a': False},\n",
       " {'last_letter': 'y', 'first_letter': 'E', 'contains_a': False},\n",
       " {'last_letter': 'n', 'first_letter': 'E', 'contains_a': False},\n",
       " {'last_letter': 'n', 'first_letter': 'E', 'contains_a': False},\n",
       " {'last_letter': 's', 'first_letter': 'E', 'contains_a': False},\n",
       " {'last_letter': 'n', 'first_letter': 'E', 'contains_a': False},\n",
       " {'last_letter': 'd', 'first_letter': 'E', 'contains_a': False},\n",
       " {'last_letter': 'n', 'first_letter': 'E', 'contains_a': False},\n",
       " {'last_letter': 'y', 'first_letter': 'E', 'contains_a': False},\n",
       " {'last_letter': 'l', 'first_letter': 'E', 'contains_a': True},\n",
       " {'last_letter': 'n', 'first_letter': 'E', 'contains_a': False},\n",
       " {'last_letter': 'y', 'first_letter': 'E', 'contains_a': False},\n",
       " {'last_letter': 'l', 'first_letter': 'E', 'contains_a': False},\n",
       " {'last_letter': 'e', 'first_letter': 'E', 'contains_a': False},\n",
       " {'last_letter': 'o', 'first_letter': 'E', 'contains_a': False},\n",
       " {'last_letter': 'l', 'first_letter': 'E', 'contains_a': True},\n",
       " {'last_letter': 'y', 'first_letter': 'E', 'contains_a': False},\n",
       " {'last_letter': 't', 'first_letter': 'E', 'contains_a': False},\n",
       " {'last_letter': 't', 'first_letter': 'E', 'contains_a': False},\n",
       " {'last_letter': 't', 'first_letter': 'E', 'contains_a': False},\n",
       " {'last_letter': 't', 'first_letter': 'E', 'contains_a': False},\n",
       " {'last_letter': 'y', 'first_letter': 'E', 'contains_a': False},\n",
       " {'last_letter': 'y', 'first_letter': 'E', 'contains_a': False},\n",
       " {'last_letter': 'r', 'first_letter': 'E', 'contains_a': False},\n",
       " {'last_letter': 't', 'first_letter': 'E', 'contains_a': True},\n",
       " {'last_letter': 't', 'first_letter': 'E', 'contains_a': False},\n",
       " {'last_letter': 't', 'first_letter': 'E', 'contains_a': True},\n",
       " {'last_letter': 't', 'first_letter': 'E', 'contains_a': False},\n",
       " {'last_letter': 'h', 'first_letter': 'E', 'contains_a': False},\n",
       " {'last_letter': 'o', 'first_letter': 'E', 'contains_a': False},\n",
       " {'last_letter': 'e', 'first_letter': 'E', 'contains_a': False},\n",
       " {'last_letter': 'm', 'first_letter': 'E', 'contains_a': True},\n",
       " {'last_letter': 'm', 'first_letter': 'E', 'contains_a': True},\n",
       " {'last_letter': 'm', 'first_letter': 'E', 'contains_a': True},\n",
       " {'last_letter': 'm', 'first_letter': 'E', 'contains_a': False},\n",
       " {'last_letter': 'r', 'first_letter': 'E', 'contains_a': False},\n",
       " {'last_letter': 's', 'first_letter': 'E', 'contains_a': True},\n",
       " {'last_letter': 's', 'first_letter': 'E', 'contains_a': True},\n",
       " {'last_letter': 'k', 'first_letter': 'E', 'contains_a': False},\n",
       " {'last_letter': 'd', 'first_letter': 'E', 'contains_a': True},\n",
       " {'last_letter': 't', 'first_letter': 'E', 'contains_a': True},\n",
       " {'last_letter': 'c', 'first_letter': 'E', 'contains_a': False},\n",
       " {'last_letter': 'h', 'first_letter': 'E', 'contains_a': False},\n",
       " {'last_letter': 'k', 'first_letter': 'E', 'contains_a': False},\n",
       " {'last_letter': 'k', 'first_letter': 'E', 'contains_a': False},\n",
       " {'last_letter': 'n', 'first_letter': 'E', 'contains_a': False},\n",
       " {'last_letter': 'l', 'first_letter': 'E', 'contains_a': False},\n",
       " {'last_letter': 't', 'first_letter': 'E', 'contains_a': False},\n",
       " {'last_letter': 'o', 'first_letter': 'E', 'contains_a': False},\n",
       " {'last_letter': 'e', 'first_letter': 'E', 'contains_a': False},\n",
       " {'last_letter': 't', 'first_letter': 'E', 'contains_a': False},\n",
       " {'last_letter': 'y', 'first_letter': 'E', 'contains_a': False},\n",
       " {'last_letter': 'l', 'first_letter': 'E', 'contains_a': False},\n",
       " {'last_letter': 'n', 'first_letter': 'E', 'contains_a': False},\n",
       " {'last_letter': 'n', 'first_letter': 'E', 'contains_a': False},\n",
       " {'last_letter': 'u', 'first_letter': 'E', 'contains_a': True},\n",
       " {'last_letter': 'e', 'first_letter': 'E', 'contains_a': False},\n",
       " {'last_letter': 'n', 'first_letter': 'E', 'contains_a': True},\n",
       " {'last_letter': 'n', 'first_letter': 'E', 'contains_a': True},\n",
       " {'last_letter': 't', 'first_letter': 'E', 'contains_a': False},\n",
       " {'last_letter': 'd', 'first_letter': 'E', 'contains_a': False},\n",
       " {'last_letter': 'e', 'first_letter': 'E', 'contains_a': False},\n",
       " {'last_letter': 'd', 'first_letter': 'E', 'contains_a': False},\n",
       " {'last_letter': 'n', 'first_letter': 'E', 'contains_a': False},\n",
       " {'last_letter': 'e', 'first_letter': 'E', 'contains_a': False},\n",
       " {'last_letter': 'e', 'first_letter': 'E', 'contains_a': True},\n",
       " {'last_letter': 'v', 'first_letter': 'E', 'contains_a': False},\n",
       " {'last_letter': 'n', 'first_letter': 'E', 'contains_a': True},\n",
       " {'last_letter': 'n', 'first_letter': 'E', 'contains_a': False},\n",
       " {'last_letter': 'd', 'first_letter': 'E', 'contains_a': True},\n",
       " {'last_letter': 't', 'first_letter': 'E', 'contains_a': False},\n",
       " {'last_letter': 'n', 'first_letter': 'E', 'contains_a': True},\n",
       " {'last_letter': 't', 'first_letter': 'E', 'contains_a': True},\n",
       " {'last_letter': 'z', 'first_letter': 'E', 'contains_a': False},\n",
       " {'last_letter': 'l', 'first_letter': 'E', 'contains_a': False},\n",
       " {'last_letter': 'l', 'first_letter': 'E', 'contains_a': False},\n",
       " {'last_letter': 'a', 'first_letter': 'E', 'contains_a': True},\n",
       " {'last_letter': 'n', 'first_letter': 'F', 'contains_a': True},\n",
       " {'last_letter': 'o', 'first_letter': 'F', 'contains_a': True},\n",
       " {'last_letter': 'x', 'first_letter': 'F', 'contains_a': True},\n",
       " {'last_letter': 'y', 'first_letter': 'F', 'contains_a': True},\n",
       " {'last_letter': 'l', 'first_letter': 'F', 'contains_a': True},\n",
       " {'last_letter': 'o', 'first_letter': 'F', 'contains_a': False},\n",
       " {'last_letter': 'e', 'first_letter': 'F', 'contains_a': False},\n",
       " {'last_letter': 'o', 'first_letter': 'F', 'contains_a': False},\n",
       " {'last_letter': 'e', 'first_letter': 'F', 'contains_a': False},\n",
       " {'last_letter': 'x', 'first_letter': 'F', 'contains_a': False},\n",
       " {'last_letter': 'd', 'first_letter': 'F', 'contains_a': False},\n",
       " {'last_letter': 'e', 'first_letter': 'F', 'contains_a': False},\n",
       " {'last_letter': 'd', 'first_letter': 'F', 'contains_a': True},\n",
       " {'last_letter': 'y', 'first_letter': 'F', 'contains_a': False},\n",
       " {'last_letter': 's', 'first_letter': 'F', 'contains_a': False},\n",
       " {'last_letter': 'n', 'first_letter': 'F', 'contains_a': False},\n",
       " {'last_letter': 'd', 'first_letter': 'F', 'contains_a': True},\n",
       " {'last_letter': 'o', 'first_letter': 'F', 'contains_a': True},\n",
       " {'last_letter': 'l', 'first_letter': 'F', 'contains_a': False},\n",
       " {'last_letter': 't', 'first_letter': 'F', 'contains_a': False},\n",
       " {'last_letter': 'p', 'first_letter': 'F', 'contains_a': False},\n",
       " {'last_letter': 'e', 'first_letter': 'F', 'contains_a': False},\n",
       " {'last_letter': 'e', 'first_letter': 'F', 'contains_a': False},\n",
       " {'last_letter': 'y', 'first_letter': 'F', 'contains_a': False},\n",
       " {'last_letter': 'n', 'first_letter': 'F', 'contains_a': False},\n",
       " {'last_letter': 'z', 'first_letter': 'F', 'contains_a': False},\n",
       " {'last_letter': 'd', 'first_letter': 'F', 'contains_a': True},\n",
       " {'last_letter': 'm', 'first_letter': 'F', 'contains_a': False},\n",
       " {'last_letter': 'g', 'first_letter': 'F', 'contains_a': False},\n",
       " {'last_letter': 'g', 'first_letter': 'F', 'contains_a': False},\n",
       " {'last_letter': 'h', 'first_letter': 'F', 'contains_a': False},\n",
       " {'last_letter': 'r', 'first_letter': 'F', 'contains_a': False},\n",
       " {'last_letter': 'n', 'first_letter': 'F', 'contains_a': False},\n",
       " {'last_letter': 'n', 'first_letter': 'F', 'contains_a': False},\n",
       " {'last_letter': 't', 'first_letter': 'F', 'contains_a': False},\n",
       " {'last_letter': 'r', 'first_letter': 'F', 'contains_a': False},\n",
       " {'last_letter': 'n', 'first_letter': 'F', 'contains_a': True},\n",
       " {'last_letter': 'd', 'first_letter': 'F', 'contains_a': False},\n",
       " {'last_letter': 'n', 'first_letter': 'F', 'contains_a': False},\n",
       " {'last_letter': 's', 'first_letter': 'F', 'contains_a': False},\n",
       " {'last_letter': 'e', 'first_letter': 'F', 'contains_a': False},\n",
       " {'last_letter': 'z', 'first_letter': 'F', 'contains_a': False},\n",
       " {'last_letter': 'e', 'first_letter': 'F', 'contains_a': False},\n",
       " {'last_letter': 's', 'first_letter': 'F', 'contains_a': False},\n",
       " {'last_letter': 'd', 'first_letter': 'F', 'contains_a': False},\n",
       " {'last_letter': 't', 'first_letter': 'F', 'contains_a': False},\n",
       " {'last_letter': 'r', 'first_letter': 'F', 'contains_a': False},\n",
       " {'last_letter': 't', 'first_letter': 'F', 'contains_a': False},\n",
       " {'last_letter': 'r', 'first_letter': 'F', 'contains_a': False},\n",
       " {'last_letter': 'r', 'first_letter': 'F', 'contains_a': False},\n",
       " {'last_letter': 'r', 'first_letter': 'F', 'contains_a': False},\n",
       " {'last_letter': 'r', 'first_letter': 'F', 'contains_a': False},\n",
       " {'last_letter': 'x', 'first_letter': 'F', 'contains_a': False},\n",
       " {'last_letter': 'n', 'first_letter': 'F', 'contains_a': True},\n",
       " {'last_letter': 'o', 'first_letter': 'F', 'contains_a': True},\n",
       " {'last_letter': 's', 'first_letter': 'F', 'contains_a': True},\n",
       " {'last_letter': 'o', 'first_letter': 'F', 'contains_a': True},\n",
       " {'last_letter': 's', 'first_letter': 'F', 'contains_a': True},\n",
       " {'last_letter': 'k', 'first_letter': 'F', 'contains_a': True},\n",
       " {'last_letter': 'e', 'first_letter': 'F', 'contains_a': True},\n",
       " {'last_letter': 'n', 'first_letter': 'F', 'contains_a': True},\n",
       " {'last_letter': 'n', 'first_letter': 'F', 'contains_a': True},\n",
       " {'last_letter': 'y', 'first_letter': 'F', 'contains_a': True},\n",
       " {'last_letter': 's', 'first_letter': 'F', 'contains_a': True},\n",
       " {'last_letter': 'z', 'first_letter': 'F', 'contains_a': True},\n",
       " {'last_letter': 'r', 'first_letter': 'F', 'contains_a': True},\n",
       " {'last_letter': 'r', 'first_letter': 'F', 'contains_a': True},\n",
       " {'last_letter': 'd', 'first_letter': 'F', 'contains_a': False},\n",
       " {'last_letter': 'e', 'first_letter': 'F', 'contains_a': False},\n",
       " {'last_letter': 'y', 'first_letter': 'F', 'contains_a': False},\n",
       " {'last_letter': 'c', 'first_letter': 'F', 'contains_a': False},\n",
       " {'last_letter': 'h', 'first_letter': 'F', 'contains_a': False},\n",
       " {'last_letter': 'k', 'first_letter': 'F', 'contains_a': False},\n",
       " {'last_letter': 'o', 'first_letter': 'F', 'contains_a': False},\n",
       " {'last_letter': 'k', 'first_letter': 'F', 'contains_a': False},\n",
       " {'last_letter': 'c', 'first_letter': 'F', 'contains_a': False},\n",
       " {'last_letter': 'k', 'first_letter': 'F', 'contains_a': False},\n",
       " {'last_letter': 'n', 'first_letter': 'F', 'contains_a': True},\n",
       " {'last_letter': 'n', 'first_letter': 'F', 'contains_a': False},\n",
       " {'last_letter': 't', 'first_letter': 'F', 'contains_a': False},\n",
       " {'last_letter': 'h', 'first_letter': 'F', 'contains_a': False},\n",
       " {'last_letter': 'c', 'first_letter': 'F', 'contains_a': False},\n",
       " {'last_letter': 'h', 'first_letter': 'F', 'contains_a': False},\n",
       " {'last_letter': 'k', 'first_letter': 'F', 'contains_a': False},\n",
       " {'last_letter': 'z', 'first_letter': 'F', 'contains_a': False},\n",
       " {'last_letter': 'n', 'first_letter': 'F', 'contains_a': False},\n",
       " {'last_letter': 'r', 'first_letter': 'F', 'contains_a': False},\n",
       " {'last_letter': 'e', 'first_letter': 'G', 'contains_a': True},\n",
       " {'last_letter': 'l', 'first_letter': 'G', 'contains_a': True},\n",
       " {'last_letter': 'e', 'first_letter': 'G', 'contains_a': True},\n",
       " {'last_letter': 'l', 'first_letter': 'G', 'contains_a': True},\n",
       " {'last_letter': 'o', 'first_letter': 'G', 'contains_a': True},\n",
       " {'last_letter': 'l', 'first_letter': 'G', 'contains_a': True},\n",
       " {'last_letter': 'e', 'first_letter': 'G', 'contains_a': True},\n",
       " {'last_letter': 'n', 'first_letter': 'G', 'contains_a': True},\n",
       " {'last_letter': 'r', 'first_letter': 'G', 'contains_a': True},\n",
       " {'last_letter': 'l', 'first_letter': 'G', 'contains_a': True},\n",
       " {'last_letter': 'a', 'first_letter': 'G', 'contains_a': True},\n",
       " {'last_letter': 'n', 'first_letter': 'G', 'contains_a': True},\n",
       " {'last_letter': 'r', 'first_letter': 'G', 'contains_a': True},\n",
       " {'last_letter': 'r', 'first_letter': 'G', 'contains_a': True},\n",
       " {'last_letter': 'r', 'first_letter': 'G', 'contains_a': True},\n",
       " {'last_letter': 'y', 'first_letter': 'G', 'contains_a': True},\n",
       " {'last_letter': 'd', 'first_letter': 'G', 'contains_a': True},\n",
       " {'last_letter': 'l', 'first_letter': 'G', 'contains_a': True},\n",
       " {'last_letter': 'd', 'first_letter': 'G', 'contains_a': True},\n",
       " {'last_letter': 'p', 'first_letter': 'G', 'contains_a': True},\n",
       " {'last_letter': 't', 'first_letter': 'G', 'contains_a': True},\n",
       " {'last_letter': 't', 'first_letter': 'G', 'contains_a': True},\n",
       " {'last_letter': 't', 'first_letter': 'G', 'contains_a': True},\n",
       " {'last_letter': 't', 'first_letter': 'G', 'contains_a': True},\n",
       " {'last_letter': 'y', 'first_letter': 'G', 'contains_a': True},\n",
       " {'last_letter': 'h', 'first_letter': 'G', 'contains_a': True},\n",
       " {'last_letter': 'v', 'first_letter': 'G', 'contains_a': True},\n",
       " {'last_letter': 'y', 'first_letter': 'G', 'contains_a': True},\n",
       " {'last_letter': 'n', 'first_letter': 'G', 'contains_a': True},\n",
       " {'last_letter': 'y', 'first_letter': 'G', 'contains_a': True},\n",
       " {'last_letter': 'n', 'first_letter': 'G', 'contains_a': True},\n",
       " {'last_letter': 'd', 'first_letter': 'G', 'contains_a': True},\n",
       " {'last_letter': 'y', 'first_letter': 'G', 'contains_a': True},\n",
       " {'last_letter': 'r', 'first_letter': 'G', 'contains_a': True},\n",
       " {'last_letter': 'r', 'first_letter': 'G', 'contains_a': True},\n",
       " {'last_letter': 'n', 'first_letter': 'G', 'contains_a': True},\n",
       " {'last_letter': 'v', 'first_letter': 'G', 'contains_a': True},\n",
       " {'last_letter': 'n', 'first_letter': 'G', 'contains_a': True},\n",
       " {'last_letter': 'n', 'first_letter': 'G', 'contains_a': True},\n",
       " {'last_letter': 'l', 'first_letter': 'G', 'contains_a': True},\n",
       " {'last_letter': 'y', 'first_letter': 'G', 'contains_a': True},\n",
       " {'last_letter': 'e', 'first_letter': 'G', 'contains_a': True},\n",
       " {'last_letter': 'd', 'first_letter': 'G', 'contains_a': True},\n",
       " {'last_letter': 'e', 'first_letter': 'G', 'contains_a': False},\n",
       " {'last_letter': 'o', 'first_letter': 'G', 'contains_a': False},\n",
       " {'last_letter': 'f', 'first_letter': 'G', 'contains_a': False},\n",
       " {'last_letter': 'f', 'first_letter': 'G', 'contains_a': False},\n",
       " {'last_letter': 'y', 'first_letter': 'G', 'contains_a': False},\n",
       " {'last_letter': 'y', 'first_letter': 'G', 'contains_a': False},\n",
       " {'last_letter': 'g', 'first_letter': 'G', 'contains_a': False},\n",
       " {'last_letter': 'e', 'first_letter': 'G', 'contains_a': False},\n",
       " {'last_letter': 's', 'first_letter': 'G', 'contains_a': False},\n",
       " {'last_letter': 'a', 'first_letter': 'G', 'contains_a': True},\n",
       " {'last_letter': 'e', 'first_letter': 'G', 'contains_a': False},\n",
       " {'last_letter': 'y', 'first_letter': 'G', 'contains_a': False},\n",
       " {'last_letter': 'd', 'first_letter': 'G', 'contains_a': True},\n",
       " {'last_letter': 'o', 'first_letter': 'G', 'contains_a': True},\n",
       " {'last_letter': 'd', 'first_letter': 'G', 'contains_a': True},\n",
       " {'last_letter': 'e', 'first_letter': 'G', 'contains_a': False},\n",
       " {'last_letter': 'd', 'first_letter': 'G', 'contains_a': True},\n",
       " {'last_letter': 't', 'first_letter': 'G', 'contains_a': True},\n",
       " {'last_letter': 'i', 'first_letter': 'G', 'contains_a': False},\n",
       " {'last_letter': 'e', 'first_letter': 'G', 'contains_a': True},\n",
       " {'last_letter': 'd', 'first_letter': 'G', 'contains_a': False},\n",
       " {'last_letter': 'e', 'first_letter': 'G', 'contains_a': False},\n",
       " {'last_letter': 'd', 'first_letter': 'G', 'contains_a': True},\n",
       " {'last_letter': 'i', 'first_letter': 'G', 'contains_a': False},\n",
       " {'last_letter': 't', 'first_letter': 'G', 'contains_a': False},\n",
       " {'last_letter': 'y', 'first_letter': 'G', 'contains_a': False},\n",
       " {'last_letter': 'm', 'first_letter': 'G', 'contains_a': False},\n",
       " {'last_letter': 'n', 'first_letter': 'G', 'contains_a': False},\n",
       " {'last_letter': 'o', 'first_letter': 'G', 'contains_a': True},\n",
       " {'last_letter': 'n', 'first_letter': 'G', 'contains_a': True},\n",
       " {'last_letter': 'o', 'first_letter': 'G', 'contains_a': True},\n",
       " {'last_letter': 'i', 'first_letter': 'G', 'contains_a': True},\n",
       " {'last_letter': 'b', 'first_letter': 'G', 'contains_a': False},\n",
       " {'last_letter': 'n', 'first_letter': 'G', 'contains_a': False},\n",
       " {'last_letter': 'f', 'first_letter': 'G', 'contains_a': False},\n",
       " {'last_letter': 'd', 'first_letter': 'G', 'contains_a': True},\n",
       " {'last_letter': 'r', 'first_letter': 'G', 'contains_a': False},\n",
       " {'last_letter': 'e', 'first_letter': 'G', 'contains_a': False},\n",
       " {'last_letter': 'd', 'first_letter': 'G', 'contains_a': False},\n",
       " {'last_letter': 'y', 'first_letter': 'G', 'contains_a': False},\n",
       " {'last_letter': 'l', 'first_letter': 'G', 'contains_a': False},\n",
       " {'last_letter': 't', 'first_letter': 'G', 'contains_a': False},\n",
       " {'last_letter': 'o', 'first_letter': 'G', 'contains_a': False},\n",
       " {'last_letter': 't', 'first_letter': 'G', 'contains_a': False},\n",
       " {'last_letter': 's', 'first_letter': 'G', 'contains_a': False},\n",
       " {'last_letter': 'l', 'first_letter': 'G', 'contains_a': False},\n",
       " {'last_letter': 's', 'first_letter': 'G', 'contains_a': False},\n",
       " {'last_letter': 'r', 'first_letter': 'G', 'contains_a': False},\n",
       " {'last_letter': 'o', 'first_letter': 'G', 'contains_a': False},\n",
       " {'last_letter': 'o', 'first_letter': 'G', 'contains_a': True},\n",
       " {'last_letter': 'i', 'first_letter': 'G', 'contains_a': False},\n",
       " {'last_letter': 'o', 'first_letter': 'G', 'contains_a': False},\n",
       " {'last_letter': 'e', 'first_letter': 'G', 'contains_a': True},\n",
       " ...]"
      ]
     },
     "execution_count": 107,
     "metadata": {},
     "output_type": "execute_result"
    }
   ],
   "source": [
    "values = list(names[['last_letter', 'first_letter', 'contains_a']].T.to_dict().values())\n",
    "values"
   ]
  },
  {
   "cell_type": "code",
   "execution_count": 108,
   "metadata": {},
   "outputs": [],
   "source": [
    "from sklearn.feature_extraction import DictVectorizer"
   ]
  },
  {
   "cell_type": "code",
   "execution_count": 109,
   "metadata": {},
   "outputs": [],
   "source": [
    "dv = DictVectorizer(dtype=int, sparse=False)"
   ]
  },
  {
   "cell_type": "code",
   "execution_count": 110,
   "metadata": {},
   "outputs": [
    {
     "data": {
      "text/plain": [
       "array([[1, 1, 0, ..., 0, 0, 0],\n",
       "       [1, 1, 0, ..., 0, 0, 0],\n",
       "       [1, 1, 0, ..., 0, 1, 0],\n",
       "       ...,\n",
       "       [1, 0, 0, ..., 0, 0, 0],\n",
       "       [1, 0, 0, ..., 0, 0, 0],\n",
       "       [1, 0, 0, ..., 0, 0, 0]], dtype=int64)"
      ]
     },
     "execution_count": 110,
     "metadata": {},
     "output_type": "execute_result"
    }
   ],
   "source": [
    "X = dv.fit_transform(values)\n",
    "X"
   ]
  },
  {
   "cell_type": "code",
   "execution_count": 111,
   "metadata": {
    "scrolled": true
   },
   "outputs": [
    {
     "data": {
      "text/plain": [
       "['contains_a',\n",
       " 'first_letter=A',\n",
       " 'first_letter=B',\n",
       " 'first_letter=C',\n",
       " 'first_letter=D',\n",
       " 'first_letter=E',\n",
       " 'first_letter=F',\n",
       " 'first_letter=G',\n",
       " 'first_letter=H',\n",
       " 'first_letter=I',\n",
       " 'first_letter=J',\n",
       " 'first_letter=K',\n",
       " 'first_letter=L',\n",
       " 'first_letter=M',\n",
       " 'first_letter=N',\n",
       " 'first_letter=O',\n",
       " 'first_letter=P',\n",
       " 'first_letter=Q',\n",
       " 'first_letter=R',\n",
       " 'first_letter=S',\n",
       " 'first_letter=T',\n",
       " 'first_letter=U',\n",
       " 'first_letter=V',\n",
       " 'first_letter=W',\n",
       " 'first_letter=X',\n",
       " 'first_letter=Y',\n",
       " 'first_letter=Z',\n",
       " 'last_letter=a',\n",
       " 'last_letter=b',\n",
       " 'last_letter=c',\n",
       " 'last_letter=d',\n",
       " 'last_letter=e',\n",
       " 'last_letter=f',\n",
       " 'last_letter=g',\n",
       " 'last_letter=h',\n",
       " 'last_letter=i',\n",
       " 'last_letter=j',\n",
       " 'last_letter=k',\n",
       " 'last_letter=l',\n",
       " 'last_letter=m',\n",
       " 'last_letter=n',\n",
       " 'last_letter=o',\n",
       " 'last_letter=p',\n",
       " 'last_letter=r',\n",
       " 'last_letter=s',\n",
       " 'last_letter=t',\n",
       " 'last_letter=u',\n",
       " 'last_letter=v',\n",
       " 'last_letter=w',\n",
       " 'last_letter=x',\n",
       " 'last_letter=y',\n",
       " 'last_letter=z']"
      ]
     },
     "execution_count": 111,
     "metadata": {},
     "output_type": "execute_result"
    }
   ],
   "source": [
    "dv.feature_names_"
   ]
  },
  {
   "cell_type": "code",
   "execution_count": 112,
   "metadata": {},
   "outputs": [
    {
     "data": {
      "text/plain": [
       "(7578, 52)"
      ]
     },
     "execution_count": 112,
     "metadata": {},
     "output_type": "execute_result"
    }
   ],
   "source": [
    "X.shape"
   ]
  },
  {
   "cell_type": "code",
   "execution_count": 113,
   "metadata": {
    "scrolled": true
   },
   "outputs": [
    {
     "data": {
      "text/plain": [
       "0         Male\n",
       "1         Male\n",
       "2       Unisex\n",
       "3       Unisex\n",
       "4         Male\n",
       "5         Male\n",
       "6       Unisex\n",
       "7         Male\n",
       "8         Male\n",
       "9         Male\n",
       "10        Male\n",
       "11        Male\n",
       "12        Male\n",
       "13        Male\n",
       "14        Male\n",
       "15        Male\n",
       "16        Male\n",
       "17        Male\n",
       "18        Male\n",
       "19        Male\n",
       "20        Male\n",
       "21      Unisex\n",
       "22        Male\n",
       "23        Male\n",
       "24        Male\n",
       "25        Male\n",
       "26        Male\n",
       "27        Male\n",
       "28        Male\n",
       "29        Male\n",
       "         ...  \n",
       "7548    Female\n",
       "7549    Female\n",
       "7550    Female\n",
       "7551    Female\n",
       "7552    Female\n",
       "7553    Female\n",
       "7554    Female\n",
       "7555    Female\n",
       "7556    Female\n",
       "7557    Female\n",
       "7558    Female\n",
       "7559    Female\n",
       "7560    Female\n",
       "7561    Female\n",
       "7562    Female\n",
       "7563    Female\n",
       "7564    Female\n",
       "7565    Female\n",
       "7566    Female\n",
       "7567    Female\n",
       "7568    Female\n",
       "7569    Female\n",
       "7570    Female\n",
       "7571    Female\n",
       "7572    Female\n",
       "7573    Female\n",
       "7574    Female\n",
       "7575    Female\n",
       "7576    Female\n",
       "7577    Female\n",
       "Name: Gender, Length: 7578, dtype: object"
      ]
     },
     "execution_count": 113,
     "metadata": {},
     "output_type": "execute_result"
    }
   ],
   "source": [
    "y = names['Gender']\n",
    "y"
   ]
  },
  {
   "cell_type": "code",
   "execution_count": 114,
   "metadata": {},
   "outputs": [
    {
     "data": {
      "text/plain": [
       "(7578,)"
      ]
     },
     "execution_count": 114,
     "metadata": {},
     "output_type": "execute_result"
    }
   ],
   "source": [
    "y.shape"
   ]
  },
  {
   "cell_type": "code",
   "execution_count": 115,
   "metadata": {},
   "outputs": [],
   "source": [
    "from sklearn.model_selection import train_test_split"
   ]
  },
  {
   "cell_type": "code",
   "execution_count": 116,
   "metadata": {},
   "outputs": [],
   "source": [
    "X_train, X_test, y_train, y_test = train_test_split(\n",
    "    X, y, train_size=0.7, test_size=0.3, shuffle=True,\n",
    ")"
   ]
  },
  {
   "cell_type": "code",
   "execution_count": 117,
   "metadata": {},
   "outputs": [],
   "source": [
    "from sklearn.ensemble import RandomForestClassifier"
   ]
  },
  {
   "cell_type": "code",
   "execution_count": 129,
   "metadata": {},
   "outputs": [],
   "source": [
    "m3 = RandomForestClassifier(n_estimators=100)"
   ]
  },
  {
   "cell_type": "code",
   "execution_count": 130,
   "metadata": {},
   "outputs": [
    {
     "data": {
      "text/plain": [
       "RandomForestClassifier(bootstrap=True, class_weight=None, criterion='gini',\n",
       "            max_depth=None, max_features='auto', max_leaf_nodes=None,\n",
       "            min_impurity_decrease=0.0, min_impurity_split=None,\n",
       "            min_samples_leaf=1, min_samples_split=2,\n",
       "            min_weight_fraction_leaf=0.0, n_estimators=100, n_jobs=None,\n",
       "            oob_score=False, random_state=None, verbose=0,\n",
       "            warm_start=False)"
      ]
     },
     "execution_count": 130,
     "metadata": {},
     "output_type": "execute_result"
    }
   ],
   "source": [
    "m3.fit(X_train, y_train)"
   ]
  },
  {
   "cell_type": "code",
   "execution_count": 131,
   "metadata": {},
   "outputs": [],
   "source": [
    "y_pred3 = m3.predict(X_test)"
   ]
  },
  {
   "cell_type": "code",
   "execution_count": 153,
   "metadata": {},
   "outputs": [
    {
     "data": {
      "text/plain": [
       "Female    0.611639\n",
       "Male      0.340195\n",
       "Unisex    0.048166\n",
       "Name: Gender, dtype: float64"
      ]
     },
     "execution_count": 153,
     "metadata": {},
     "output_type": "execute_result"
    }
   ],
   "source": [
    "y.value_counts() / len(y)"
   ]
  },
  {
   "cell_type": "code",
   "execution_count": 126,
   "metadata": {},
   "outputs": [
    {
     "data": {
      "text/plain": [
       "0.7678100263852242"
      ]
     },
     "execution_count": 126,
     "metadata": {},
     "output_type": "execute_result"
    }
   ],
   "source": [
    "accuracy_score(y_test, y_pred3)"
   ]
  },
  {
   "cell_type": "code",
   "execution_count": 12,
   "metadata": {},
   "outputs": [
    {
     "data": {
      "text/html": [
       "<div>\n",
       "<style scoped>\n",
       "    .dataframe tbody tr th:only-of-type {\n",
       "        vertical-align: middle;\n",
       "    }\n",
       "\n",
       "    .dataframe tbody tr th {\n",
       "        vertical-align: top;\n",
       "    }\n",
       "\n",
       "    .dataframe thead th {\n",
       "        text-align: right;\n",
       "    }\n",
       "</style>\n",
       "<table border=\"1\" class=\"dataframe\">\n",
       "  <thead>\n",
       "    <tr style=\"text-align: right;\">\n",
       "      <th></th>\n",
       "      <th>Name</th>\n",
       "      <th>Gender</th>\n",
       "      <th>last_letter</th>\n",
       "    </tr>\n",
       "  </thead>\n",
       "  <tbody>\n",
       "    <tr>\n",
       "      <th>0</th>\n",
       "      <td>Aamir</td>\n",
       "      <td>Male</td>\n",
       "      <td>r</td>\n",
       "    </tr>\n",
       "    <tr>\n",
       "      <th>1</th>\n",
       "      <td>Aaron</td>\n",
       "      <td>Male</td>\n",
       "      <td>n</td>\n",
       "    </tr>\n",
       "    <tr>\n",
       "      <th>2</th>\n",
       "      <td>Abbey</td>\n",
       "      <td>Unisex</td>\n",
       "      <td>y</td>\n",
       "    </tr>\n",
       "    <tr>\n",
       "      <th>3</th>\n",
       "      <td>Abbie</td>\n",
       "      <td>Unisex</td>\n",
       "      <td>e</td>\n",
       "    </tr>\n",
       "    <tr>\n",
       "      <th>4</th>\n",
       "      <td>Abbot</td>\n",
       "      <td>Male</td>\n",
       "      <td>t</td>\n",
       "    </tr>\n",
       "  </tbody>\n",
       "</table>\n",
       "</div>"
      ],
      "text/plain": [
       "    Name  Gender last_letter\n",
       "0  Aamir    Male           r\n",
       "1  Aaron    Male           n\n",
       "2  Abbey  Unisex           y\n",
       "3  Abbie  Unisex           e\n",
       "4  Abbot    Male           t"
      ]
     },
     "execution_count": 12,
     "metadata": {},
     "output_type": "execute_result"
    }
   ],
   "source": [
    "names[\"last_letter\"] = names['Name'].str[-1]\n",
    "names.head()"
   ]
  },
  {
   "cell_type": "code",
   "execution_count": 125,
   "metadata": {},
   "outputs": [
    {
     "data": {
      "image/png": "[encoded data removed]",
      "text/plain": [
       "<Figure size 432x288 with 2 Axes>"
      ]
     },
     "metadata": {
      "needs_background": "light"
     },
     "output_type": "display_data"
    }
   ],
   "source": [
    "sns.heatmap(\n",
    "    confusion_matrix(y_test, y_pred3),\n",
    "    square=True, annot=True,\n",
    ")\n",
    "plt.xlabel(\"Predicted value\")\n",
    "plt.ylabel(\"True value\");"
   ]
  },
  {
   "cell_type": "code",
   "execution_count": 147,
   "metadata": {},
   "outputs": [
    {
     "name": "stdout",
     "output_type": "stream",
     "text": [
      "['contains_a', 'first_letter=A', 'first_letter=B', 'first_letter=C', 'first_letter=D', 'first_letter=E', 'first_letter=F', 'first_letter=G', 'first_letter=H', 'first_letter=I', 'first_letter=J', 'first_letter=K', 'first_letter=L', 'first_letter=M', 'first_letter=N', 'first_letter=O', 'first_letter=P', 'first_letter=Q', 'first_letter=R', 'first_letter=S', 'first_letter=T', 'first_letter=U', 'first_letter=V', 'first_letter=W', 'first_letter=X', 'first_letter=Y', 'first_letter=Z', 'last_letter=a', 'last_letter=b', 'last_letter=c', 'last_letter=d', 'last_letter=e', 'last_letter=f', 'last_letter=g', 'last_letter=h', 'last_letter=i', 'last_letter=j', 'last_letter=k', 'last_letter=l', 'last_letter=m', 'last_letter=n', 'last_letter=o', 'last_letter=p', 'last_letter=r', 'last_letter=s', 'last_letter=t', 'last_letter=u', 'last_letter=v', 'last_letter=w', 'last_letter=x', 'last_letter=y', 'last_letter=z']\n"
     ]
    }
   ],
   "source": [
    "print(dv.feature_names_)"
   ]
  },
  {
   "cell_type": "code",
   "execution_count": 146,
   "metadata": {},
   "outputs": [
    {
     "data": {
      "text/plain": [
       "array([0.05977234, 0.00698893, 0.01287675, 0.01772361, 0.01012713,\n",
       "       0.00964728, 0.00726523, 0.01261213, 0.01476213, 0.00683131,\n",
       "       0.01327226, 0.01530789, 0.01504784, 0.01617004, 0.00781282,\n",
       "       0.00443132, 0.01171865, 0.00302262, 0.00975445, 0.01063731,\n",
       "       0.01687744, 0.00405343, 0.00607984, 0.02527348, 0.00041601,\n",
       "       0.00697211, 0.00653766, 0.22887934, 0.00460565, 0.00719723,\n",
       "       0.04611704, 0.08165177, 0.00428063, 0.00622968, 0.01192455,\n",
       "       0.04984524, 0.00046594, 0.0141596 , 0.01613638, 0.01390412,\n",
       "       0.02121251, 0.03154086, 0.00318036, 0.02793921, 0.03380921,\n",
       "       0.02322906, 0.0023898 , 0.00353911, 0.00309718, 0.003772  ,\n",
       "       0.026944  , 0.00195754])"
      ]
     },
     "execution_count": 146,
     "metadata": {},
     "output_type": "execute_result"
    }
   ],
   "source": [
    "m3.feature_importances_"
   ]
  },
  {
   "cell_type": "code",
   "execution_count": 150,
   "metadata": {},
   "outputs": [
    {
     "data": {
      "text/plain": [
       "array(['first_letter=X', 'last_letter=j', 'last_letter=z',\n",
       "       'last_letter=u', 'first_letter=Q'], dtype='<U14')"
      ]
     },
     "execution_count": 150,
     "metadata": {},
     "output_type": "execute_result"
    }
   ],
   "source": [
    "np.array(dv.feature_names_)[m3.feature_importances_.argsort()[:5]]"
   ]
  },
  {
   "cell_type": "code",
   "execution_count": null,
   "metadata": {},
   "outputs": [],
   "source": []
  },
  {
   "cell_type": "code",
   "execution_count": null,
   "metadata": {},
   "outputs": [],
   "source": []
  },
  {
   "cell_type": "code",
   "execution_count": null,
   "metadata": {},
   "outputs": [],
   "source": []
  },
  {
   "cell_type": "code",
   "execution_count": 65,
   "metadata": {},
   "outputs": [],
   "source": [
    "from sklearn.naive_bayes import GaussianNB"
   ]
  },
  {
   "cell_type": "code",
   "execution_count": 81,
   "metadata": {},
   "outputs": [],
   "source": [
    "from sklearn.svm import SVC"
   ]
  },
  {
   "cell_type": "code",
   "execution_count": 85,
   "metadata": {},
   "outputs": [],
   "source": [
    "m2 = SVC(gamma='scale')"
   ]
  },
  {
   "cell_type": "code",
   "execution_count": 86,
   "metadata": {},
   "outputs": [
    {
     "data": {
      "text/plain": [
       "SVC(C=1.0, cache_size=200, class_weight=None, coef0=0.0,\n",
       "  decision_function_shape='ovr', degree=3, gamma='scale', kernel='rbf',\n",
       "  max_iter=-1, probability=False, random_state=None, shrinking=True,\n",
       "  tol=0.001, verbose=False)"
      ]
     },
     "execution_count": 86,
     "metadata": {},
     "output_type": "execute_result"
    }
   ],
   "source": [
    "m2.fit(X_train, y_train)"
   ]
  },
  {
   "cell_type": "code",
   "execution_count": 88,
   "metadata": {},
   "outputs": [],
   "source": [
    "y_pred2 = m2.predict(X_test)"
   ]
  },
  {
   "cell_type": "code",
   "execution_count": 89,
   "metadata": {},
   "outputs": [
    {
     "data": {
      "text/plain": [
       "0.7313104661389622"
      ]
     },
     "execution_count": 89,
     "metadata": {},
     "output_type": "execute_result"
    }
   ],
   "source": [
    "accuracy_score(y_test, y_pred2)"
   ]
  },
  {
   "cell_type": "code",
   "execution_count": 92,
   "metadata": {},
   "outputs": [
    {
     "data": {
      "text/plain": [
       "array(['Female', 'Male', 'Unisex'], dtype=object)"
      ]
     },
     "execution_count": 92,
     "metadata": {},
     "output_type": "execute_result"
    }
   ],
   "source": [
    "m2.classes_"
   ]
  },
  {
   "cell_type": "code",
   "execution_count": 91,
   "metadata": {},
   "outputs": [
    {
     "data": {
      "image/png": "[encoded data removed]",
      "text/plain": [
       "<Figure size 432x288 with 2 Axes>"
      ]
     },
     "metadata": {
      "needs_background": "light"
     },
     "output_type": "display_data"
    }
   ],
   "source": [
    "sns.heatmap(\n",
    "    confusion_matrix(y_test, y_pred2),\n",
    "    square=True, annot=True,\n",
    ")\n",
    "plt.xlabel(\"Predicted value\")\n",
    "plt.ylabel(\"True value\");"
   ]
  },
  {
   "cell_type": "code",
   "execution_count": 94,
   "metadata": {},
   "outputs": [],
   "source": [
    "from sklearn.feature_selection import chi2"
   ]
  },
  {
   "cell_type": "code",
   "execution_count": 95,
   "metadata": {},
   "outputs": [],
   "source": [
    "chi2?"
   ]
  },
  {
   "cell_type": "code",
   "execution_count": null,
   "metadata": {},
   "outputs": [],
   "source": []
  },
  {
   "cell_type": "code",
   "execution_count": 66,
   "metadata": {},
   "outputs": [],
   "source": [
    "model = GaussianNB()"
   ]
  },
  {
   "cell_type": "code",
   "execution_count": 67,
   "metadata": {},
   "outputs": [
    {
     "data": {
      "text/plain": [
       "GaussianNB(priors=None, var_smoothing=1e-09)"
      ]
     },
     "execution_count": 67,
     "metadata": {},
     "output_type": "execute_result"
    }
   ],
   "source": [
    "model.fit(X_train, y_train)"
   ]
  },
  {
   "cell_type": "code",
   "execution_count": 68,
   "metadata": {},
   "outputs": [],
   "source": [
    "y_pred = model.predict(X_test)"
   ]
  },
  {
   "cell_type": "code",
   "execution_count": 69,
   "metadata": {},
   "outputs": [],
   "source": [
    "from sklearn.metrics import accuracy_score"
   ]
  },
  {
   "cell_type": "code",
   "execution_count": 70,
   "metadata": {},
   "outputs": [
    {
     "data": {
      "text/plain": [
       "0.08091468777484609"
      ]
     },
     "execution_count": 70,
     "metadata": {},
     "output_type": "execute_result"
    }
   ],
   "source": [
    "accuracy_score(y_test, y_pred)"
   ]
  },
  {
   "cell_type": "code",
   "execution_count": 71,
   "metadata": {},
   "outputs": [],
   "source": [
    "from sklearn.metrics import confusion_matrix"
   ]
  },
  {
   "cell_type": "code",
   "execution_count": 72,
   "metadata": {},
   "outputs": [],
   "source": [
    "import seaborn as sns"
   ]
  },
  {
   "cell_type": "code",
   "execution_count": 73,
   "metadata": {},
   "outputs": [],
   "source": [
    "import matplotlib.pyplot as plt"
   ]
  },
  {
   "cell_type": "code",
   "execution_count": 74,
   "metadata": {},
   "outputs": [
    {
     "data": {
      "text/plain": [
       "array(['Female', 'Male', 'Unisex'], dtype='<U6')"
      ]
     },
     "execution_count": 74,
     "metadata": {},
     "output_type": "execute_result"
    }
   ],
   "source": [
    "model.classes_"
   ]
  },
  {
   "cell_type": "code",
   "execution_count": 75,
   "metadata": {},
   "outputs": [
    {
     "data": {
      "image/png": "[encoded data removed]",
      "text/plain": [
       "<Figure size 432x288 with 2 Axes>"
      ]
     },
     "metadata": {
      "needs_background": "light"
     },
     "output_type": "display_data"
    }
   ],
   "source": [
    "sns.heatmap(\n",
    "    confusion_matrix(y_test, y_pred),\n",
    "    square=True, annot=True,\n",
    ")\n",
    "plt.xlabel(\"Predicted value\")\n",
    "plt.ylabel(\"True value\");"
   ]
  },
  {
   "cell_type": "code",
   "execution_count": null,
   "metadata": {},
   "outputs": [],
   "source": []
  },
  {
   "cell_type": "code",
   "execution_count": null,
   "metadata": {},
   "outputs": [],
   "source": []
  },
  {
   "cell_type": "code",
   "execution_count": 38,
   "metadata": {},
   "outputs": [
    {
     "data": {
      "text/plain": [
       "(5304, 25)"
      ]
     },
     "execution_count": 38,
     "metadata": {},
     "output_type": "execute_result"
    }
   ],
   "source": [
    "X_train.shape"
   ]
  },
  {
   "cell_type": "code",
   "execution_count": 39,
   "metadata": {},
   "outputs": [
    {
     "data": {
      "text/plain": [
       "(2274, 25)"
      ]
     },
     "execution_count": 39,
     "metadata": {},
     "output_type": "execute_result"
    }
   ],
   "source": [
    "X_test.shape"
   ]
  },
  {
   "cell_type": "code",
   "execution_count": 40,
   "metadata": {},
   "outputs": [
    {
     "data": {
      "text/plain": [
       "(5304,)"
      ]
     },
     "execution_count": 40,
     "metadata": {},
     "output_type": "execute_result"
    }
   ],
   "source": [
    "y_train.shape"
   ]
  },
  {
   "cell_type": "code",
   "execution_count": 41,
   "metadata": {},
   "outputs": [
    {
     "data": {
      "text/plain": [
       "(2274,)"
      ]
     },
     "execution_count": 41,
     "metadata": {},
     "output_type": "execute_result"
    }
   ],
   "source": [
    "y_test.shape"
   ]
  },
  {
   "cell_type": "code",
   "execution_count": null,
   "metadata": {},
   "outputs": [],
   "source": []
  },
  {
   "cell_type": "markdown",
   "metadata": {},
   "source": [
    "## Exercise 2: 20 newsgroups dataset\n",
    "\n",
    "1. Read the `train` and `test` subsets of the 20 newsgroups dataset in two variables, `newsgroups_train` and `newsgroups_test`, using the function `fetch_20newsgroups` from `sklearn.datasets`.\n",
    "2. [TBD]"
   ]
  },
  {
   "cell_type": "code",
   "execution_count": 1,
   "metadata": {},
   "outputs": [],
   "source": [
    "from sklearn.datasets import fetch_20newsgroups"
   ]
  },
  {
   "cell_type": "code",
   "execution_count": 2,
   "metadata": {},
   "outputs": [],
   "source": [
    "fetch_20newsgroups();"
   ]
  },
  {
   "cell_type": "code",
   "execution_count": null,
   "metadata": {},
   "outputs": [],
   "source": []
  }
 ],
 "metadata": {
  "kernelspec": {
   "display_name": "Python 3",
   "language": "python",
   "name": "python3"
  },
  "language_info": {
   "codemirror_mode": {
    "name": "ipython",
    "version": 3
   },
   "file_extension": ".py",
   "mimetype": "text/x-python",
   "name": "python",
   "nbconvert_exporter": "python",
   "pygments_lexer": "ipython3",
   "version": "3.6.6"
  }
 },
 "nbformat": 4,
 "nbformat_minor": 2
}
