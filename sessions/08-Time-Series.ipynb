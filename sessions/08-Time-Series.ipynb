{
 "cells": [
  {
   "cell_type": "markdown",
   "metadata": {},
   "source": [
    "![BTS](img/Logo-BTS.jpg)\n",
    "\n",
    "# Session 7: Basic time datatypes\n",
    "\n",
    "### Juan Luis Cano Rodríguez <juan.cano@bts.tech> - Data Science Foundations (2018-10-30)\n",
    "\n",
    "Open this notebook in Google Colaboratory: [![Open in Colab](https://colab.research.google.com/assets/colab-badge.svg)](https://colab.research.google.com/github/Juanlu001/bts-mbds-data-science-foundations/blob/master/sessions/08-Time-Series.ipynb)"
   ]
  },
  {
   "cell_type": "markdown",
   "metadata": {},
   "source": [
    "## Exercise 1: Bike usage\n",
    "\n",
    "1. Download the Fremont Bridge bicycle counter dataset from https://data.seattle.gov/api/views/65db-xm6k/rows.csv?accessType=DOWNLOAD\n",
    "2. Load it in pandas\n",
    "3. Create a new column `Total` that contains the sum of trips in the `East` and `West` sidewalks\n",
    "4. Plot the weekly sum of East, West and Total trips in the same axes\n",
    "5. Plot the 30 day rolling mean of East, West and Total trips in the same axes\n",
    "  * Optional: Plot the 50 day rolling mean of East, West and Total trips in the same axes using a Gaussian window with `std=10` (standard deviation)\n",
    "6. Plot the evolution of East, West and Total trips by hour of the day\n",
    "7. Plot the evolution of East, West and Total trips by weekday\n",
    "8. Create a new column `Weekend` that is `True` for weekends and `False` for weekdays\n",
    "9. Plot the hourly evolution of East, West and Total separating by weekday and weekend"
   ]
  },
  {
   "cell_type": "code",
   "execution_count": null,
   "metadata": {
    "collapsed": true
   },
   "outputs": [],
   "source": []
  }
 ],
 "metadata": {
  "kernelspec": {
   "display_name": "Python 3",
   "language": "python",
   "name": "python3"
  },
  "language_info": {
   "codemirror_mode": {
    "name": "ipython",
    "version": 3
   },
   "file_extension": ".py",
   "mimetype": "text/x-python",
   "name": "python",
   "nbconvert_exporter": "python",
   "pygments_lexer": "ipython3",
   "version": "3.6.3"
  }
 },
 "nbformat": 4,
 "nbformat_minor": 2
}
