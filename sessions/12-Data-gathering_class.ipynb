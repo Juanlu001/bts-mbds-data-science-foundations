{
 "cells": [
  {
   "cell_type": "markdown",
   "metadata": {},
   "source": [
    "![BTS](img/Logo-BTS.jpg)\n",
    "\n",
    "# Session 12: Data gathering\n",
    "\n",
    "### Juan Luis Cano Rodríguez <juan.cano@bts.tech> - Data Science Foundations (2018-11-16)\n",
    "\n",
    "Open this notebook in Google Colaboratory: [![Open in Colab](https://colab.research.google.com/assets/colab-badge.svg)](https://colab.research.google.com/github/Juanlu001/bts-mbds-data-science-foundations/blob/master/sessions/12-Data-gathering.ipynb)"
   ]
  },
  {
   "cell_type": "markdown",
   "metadata": {},
   "source": [
    "## Exercise 1: Extract gender from names\n",
    "\n",
    "<div class=\"alert alert-danger\">The <code>genderize.io</code> API is rate limited, and if you make too many requests you might not be able to continue with the exercise. Avoid making too many queries in a short period of time.</div>\n",
    "\n",
    "1. Create a function that returns the list of **first names** from the data below\n",
    "2. Use https://genderize.io/ with your name. Does it give the correct gender?\n",
    "3. Include your home country as part of the query as explained in https://genderize.io/. Does it change the result or the probability?\n",
    "4. Write a function that receives a string and returns the same string in lowercase **without** special characters\n",
    "5. Write a funtion that receives a name and, if the status code is correct, returns the result, and otherwise prints some error message and returns an empty dictionary\n",
    "6. Modify this function so it **does not** repeat a request to `genderize.io` if the name was already requested before (keyword: cache)\n",
    "7. Plot a bar chart with the probability of each name. Do the same with the counts.\n",
    "8. Create another function with cache that downloads the data for all the names **in one request** and returns a pandas `DataFrame`"
   ]
  },
  {
   "cell_type": "code",
   "execution_count": 2,
   "metadata": {},
   "outputs": [],
   "source": [
    "import requests"
   ]
  },
  {
   "cell_type": "code",
   "execution_count": 4,
   "metadata": {},
   "outputs": [],
   "source": [
    "names = [\n",
    "    \"Martín Cano\",\n",
    "    \"Benjamin Wein\",\n",
    "    \"Francisco Coreas\",\n",
    "    \"Jordi Hurtado\",\n",
    "    \"Jonas Cristens\",\n",
    "    \"Allison Walker\",\n",
    "    \"Cen Liang\",\n",
    "    \"Mahmouhd Belhaj\",\n",
    "    \"David Ordóñez\",\n",
    "    \"Sebastian Natalevich\",\n",
    "    \"Alan Kwan\",\n",
    "    \"Anastasia Gracheva\",\n",
    "    \"Pelin Gundogdu\",\n",
    "    \"Sibasis Dash\",\n",
    "    \"Bekzod Sharipov\",\n",
    "    \"Annalaura Ianiro\",\n",
    "    \"Christian Siever\",\n",
    "    \"Seung Bin Yoo\",\n",
    "    \"Miah Mohammad Rashedeul Hasan\",\n",
    "]"
   ]
  },
  {
   "cell_type": "code",
   "execution_count": 6,
   "metadata": {},
   "outputs": [
    {
     "name": "stdout",
     "output_type": "stream",
     "text": [
      "['Martín', 'Benjamin', 'Francisco', 'Jordi', 'Jonas', 'Allison', 'Cen', 'Mahmouhd', 'David', 'Sebastian', 'Alan', 'Anastasia', 'Pelin', 'Sibasis', 'Bekzod', 'Annalaura', 'Christian', 'Seung', 'Miah']\n"
     ]
    }
   ],
   "source": [
    "def first_names(names):\n",
    "    first_names_list = []\n",
    "    for name in names:\n",
    "        first_names_list.append(name.split()[0])\n",
    "\n",
    "    return first_names_list\n",
    "\n",
    "print(first_names(names))"
   ]
  },
  {
   "cell_type": "code",
   "execution_count": 7,
   "metadata": {},
   "outputs": [
    {
     "name": "stdout",
     "output_type": "stream",
     "text": [
      "['Martín', 'Benjamin', 'Francisco', 'Jordi', 'Jonas', 'Allison', 'Cen', 'Mahmouhd', 'David', 'Sebastian', 'Alan', 'Anastasia', 'Pelin', 'Sibasis', 'Bekzod', 'Annalaura', 'Christian', 'Seung', 'Miah']\n"
     ]
    }
   ],
   "source": [
    "def first_names(names):\n",
    "    return [name.split()[0] for name in names]\n",
    "\n",
    "print(first_names(names))"
   ]
  },
  {
   "cell_type": "code",
   "execution_count": 8,
   "metadata": {},
   "outputs": [],
   "source": [
    "import requests"
   ]
  },
  {
   "cell_type": "code",
   "execution_count": 9,
   "metadata": {},
   "outputs": [],
   "source": [
    "r = requests.get(\"https://api.genderize.io/?name=martín\")"
   ]
  },
  {
   "cell_type": "code",
   "execution_count": 26,
   "metadata": {},
   "outputs": [
    {
     "data": {
      "text/plain": [
       "{'name': 'andrea', 'gender': 'female', 'probability': 0.79, 'count': 5794}"
      ]
     },
     "execution_count": 26,
     "metadata": {},
     "output_type": "execute_result"
    }
   ],
   "source": [
    "requests.get(\"https://api.genderize.io\", params={'name': 'andrea'}).json()"
   ]
  },
  {
   "cell_type": "code",
   "execution_count": 25,
   "metadata": {},
   "outputs": [
    {
     "data": {
      "text/plain": [
       "{'name': 'andrea', 'gender': 'male', 'probability': 0.99, 'count': 1070}"
      ]
     },
     "execution_count": 25,
     "metadata": {},
     "output_type": "execute_result"
    }
   ],
   "source": [
    "requests.get(\"https://api.genderize.io\", params={'name': 'andrea', 'language_id': 'it'}).json()"
   ]
  },
  {
   "cell_type": "code",
   "execution_count": 35,
   "metadata": {},
   "outputs": [
    {
     "data": {
      "text/plain": [
       "<Response [404]>"
      ]
     },
     "execution_count": 35,
     "metadata": {},
     "output_type": "execute_result"
    }
   ],
   "source": [
    "requests.get(\"https://api.genderize.io/blabla\", params={'name': 'martín', 'language_id': 'es'})"
   ]
  },
  {
   "cell_type": "code",
   "execution_count": 20,
   "metadata": {},
   "outputs": [],
   "source": [
    "r = requests.get(\"https://api.genderize.io\", params={'name': 'martín', 'language_id': 'es'})"
   ]
  },
  {
   "cell_type": "code",
   "execution_count": 21,
   "metadata": {},
   "outputs": [
    {
     "data": {
      "text/plain": [
       "<Response [200]>"
      ]
     },
     "execution_count": 21,
     "metadata": {},
     "output_type": "execute_result"
    }
   ],
   "source": [
    "r"
   ]
  },
  {
   "cell_type": "code",
   "execution_count": 22,
   "metadata": {},
   "outputs": [
    {
     "data": {
      "text/plain": [
       "200"
      ]
     },
     "execution_count": 22,
     "metadata": {},
     "output_type": "execute_result"
    }
   ],
   "source": [
    "r.status_code"
   ]
  },
  {
   "cell_type": "code",
   "execution_count": 23,
   "metadata": {},
   "outputs": [
    {
     "data": {
      "text/plain": [
       "'{\"name\":\"martín\",\"gender\":null}'"
      ]
     },
     "execution_count": 23,
     "metadata": {},
     "output_type": "execute_result"
    }
   ],
   "source": [
    "r.text"
   ]
  },
  {
   "cell_type": "code",
   "execution_count": 19,
   "metadata": {},
   "outputs": [],
   "source": [
    "r.json()['gender']"
   ]
  },
  {
   "cell_type": "code",
   "execution_count": 28,
   "metadata": {},
   "outputs": [],
   "source": [
    "import unidecode"
   ]
  },
  {
   "cell_type": "code",
   "execution_count": 31,
   "metadata": {},
   "outputs": [],
   "source": [
    "def normalize(word):\n",
    "    return unidecode.unidecode(word).lower()"
   ]
  },
  {
   "cell_type": "code",
   "execution_count": 33,
   "metadata": {},
   "outputs": [],
   "source": [
    "normalized_first_names = [normalize(name) for name in first_names(names)]"
   ]
  },
  {
   "cell_type": "code",
   "execution_count": 34,
   "metadata": {},
   "outputs": [
    {
     "name": "stdout",
     "output_type": "stream",
     "text": [
      "['martin', 'benjamin', 'francisco', 'jordi', 'jonas', 'allison', 'cen', 'mahmouhd', 'david', 'sebastian', 'alan', 'anastasia', 'pelin', 'sibasis', 'bekzod', 'annalaura', 'christian', 'seung', 'miah']\n"
     ]
    }
   ],
   "source": [
    "print(normalized_first_names)"
   ]
  },
  {
   "cell_type": "code",
   "execution_count": 27,
   "metadata": {},
   "outputs": [
    {
     "data": {
      "text/plain": [
       "'Martín'"
      ]
     },
     "execution_count": 27,
     "metadata": {},
     "output_type": "execute_result"
    }
   ],
   "source": [
    "'Martín'"
   ]
  },
  {
   "cell_type": "code",
   "execution_count": 37,
   "metadata": {},
   "outputs": [],
   "source": [
    "def get_gender(name):\n",
    "    r = requests.get(\n",
    "        \"https://api.genderize.io\",\n",
    "        params={'name': normalize(name)}\n",
    "    )\n",
    "    if r.status_code == 200:\n",
    "        return r.json()\n",
    "    else:\n",
    "        print(\"Something went wrong: {}\".format(r.text))\n",
    "        return {}"
   ]
  },
  {
   "cell_type": "code",
   "execution_count": 38,
   "metadata": {},
   "outputs": [
    {
     "data": {
      "text/plain": [
       "{'name': 'martin', 'gender': 'male', 'probability': 1, 'count': 3568}"
      ]
     },
     "execution_count": 38,
     "metadata": {},
     "output_type": "execute_result"
    }
   ],
   "source": [
    "get_gender(\"Martín\")"
   ]
  },
  {
   "cell_type": "code",
   "execution_count": 39,
   "metadata": {},
   "outputs": [
    {
     "name": "stdout",
     "output_type": "stream",
     "text": [
      "Something went wrong: {\"error\":\"Missing 'name' parameter\"}\n"
     ]
    },
    {
     "data": {
      "text/plain": [
       "{}"
      ]
     },
     "execution_count": 39,
     "metadata": {},
     "output_type": "execute_result"
    }
   ],
   "source": [
    "get_gender(\"\")"
   ]
  },
  {
   "cell_type": "code",
   "execution_count": 40,
   "metadata": {},
   "outputs": [],
   "source": [
    "name_cache = dict()"
   ]
  },
  {
   "cell_type": "code",
   "execution_count": 41,
   "metadata": {},
   "outputs": [],
   "source": [
    "name_cache['martin'] = 'male'"
   ]
  },
  {
   "cell_type": "code",
   "execution_count": 42,
   "metadata": {},
   "outputs": [
    {
     "data": {
      "text/plain": [
       "{'martin': 'male'}"
      ]
     },
     "execution_count": 42,
     "metadata": {},
     "output_type": "execute_result"
    }
   ],
   "source": [
    "name_cache"
   ]
  },
  {
   "cell_type": "code",
   "execution_count": 50,
   "metadata": {},
   "outputs": [],
   "source": [
    "name_cache = dict()\n",
    "\n",
    "def get_name_cached(name):\n",
    "    if normalize(name) in name_cache:\n",
    "        return name_cache[normalize(name)]\n",
    "    else:\n",
    "        r = requests.get(\n",
    "            \"https://api.genderize.io\",\n",
    "            params={'name': normalize(name)}\n",
    "        )\n",
    "        name_cache[normalize(name)] = r.json()['gender']\n",
    "        return r.json()['gender']"
   ]
  },
  {
   "cell_type": "code",
   "execution_count": 51,
   "metadata": {},
   "outputs": [
    {
     "data": {
      "text/plain": [
       "{}"
      ]
     },
     "execution_count": 51,
     "metadata": {},
     "output_type": "execute_result"
    }
   ],
   "source": [
    "name_cache"
   ]
  },
  {
   "cell_type": "code",
   "execution_count": 56,
   "metadata": {},
   "outputs": [],
   "source": [
    "from functools import lru_cache"
   ]
  },
  {
   "cell_type": "code",
   "execution_count": 58,
   "metadata": {},
   "outputs": [],
   "source": [
    "@lru_cache()\n",
    "def get_gender(name):\n",
    "    r = requests.get(\n",
    "        \"https://api.genderize.io\",\n",
    "        params={'name': normalize(name)}\n",
    "    )\n",
    "    if r.status_code == 200:\n",
    "        return r.json()\n",
    "    else:\n",
    "        print(\"Something went wrong: {}\".format(r.text))\n",
    "        return {}"
   ]
  },
  {
   "cell_type": "code",
   "execution_count": 59,
   "metadata": {},
   "outputs": [
    {
     "data": {
      "text/plain": [
       "{'name': 'martin', 'gender': 'male', 'probability': 1, 'count': 3568}"
      ]
     },
     "execution_count": 59,
     "metadata": {},
     "output_type": "execute_result"
    }
   ],
   "source": [
    "get_gender(\"Martín\")"
   ]
  },
  {
   "cell_type": "code",
   "execution_count": 60,
   "metadata": {},
   "outputs": [
    {
     "data": {
      "text/plain": [
       "{'name': 'martin', 'gender': 'male', 'probability': 1, 'count': 3568}"
      ]
     },
     "execution_count": 60,
     "metadata": {},
     "output_type": "execute_result"
    }
   ],
   "source": [
    "get_gender(\"Martín\")"
   ]
  },
  {
   "cell_type": "code",
   "execution_count": 62,
   "metadata": {},
   "outputs": [
    {
     "data": {
      "text/plain": [
       "{'name': 'martin', 'gender': 'male', 'probability': 1, 'count': 3568}"
      ]
     },
     "execution_count": 62,
     "metadata": {},
     "output_type": "execute_result"
    }
   ],
   "source": [
    "get_gender(\"martín\")"
   ]
  },
  {
   "cell_type": "code",
   "execution_count": null,
   "metadata": {},
   "outputs": [],
   "source": []
  },
  {
   "cell_type": "code",
   "execution_count": 55,
   "metadata": {},
   "outputs": [
    {
     "data": {
      "text/plain": [
       "'male'"
      ]
     },
     "execution_count": 55,
     "metadata": {},
     "output_type": "execute_result"
    }
   ],
   "source": [
    "get_name_cached(\"martín\")"
   ]
  },
  {
   "cell_type": "code",
   "execution_count": 53,
   "metadata": {},
   "outputs": [
    {
     "data": {
      "text/plain": [
       "{'martin': 'male'}"
      ]
     },
     "execution_count": 53,
     "metadata": {},
     "output_type": "execute_result"
    }
   ],
   "source": [
    "name_cache"
   ]
  },
  {
   "cell_type": "code",
   "execution_count": null,
   "metadata": {},
   "outputs": [],
   "source": []
  },
  {
   "cell_type": "code",
   "execution_count": null,
   "metadata": {},
   "outputs": [],
   "source": []
  },
  {
   "cell_type": "code",
   "execution_count": null,
   "metadata": {},
   "outputs": [],
   "source": [
    "def get_gender(name):\n",
    "    r = requests.get(\n",
    "        \"https://api.genderize.io\",\n",
    "        params={'name': normalize(name)}\n",
    "    )\n",
    "    if r.status_code == 200:\n",
    "        return r.json()\n",
    "    else:\n",
    "        print(\"Something went wrong: {}\".format(r.text))\n",
    "        return {}"
   ]
  },
  {
   "cell_type": "code",
   "execution_count": null,
   "metadata": {},
   "outputs": [],
   "source": []
  },
  {
   "cell_type": "markdown",
   "metadata": {},
   "source": [
    "## Exercise 2: `GET` vs `POST`\n",
    "\n",
    "1. Use http://postcodes.io/ to compare how to make a request using `GET` or `POST`."
   ]
  },
  {
   "cell_type": "code",
   "execution_count": null,
   "metadata": {},
   "outputs": [],
   "source": []
  },
  {
   "cell_type": "markdown",
   "metadata": {},
   "source": [
    "## Exercise 3: Postcode data\n",
    "\n",
    "1. Register in https://geoapi.es/ (in Spanish, get aid by Google Translate or the Spaniards in the room) to obtain an API key\n",
    "2. Look for the endpoint that lists all the communities (\"comunidades\") in Spain \n",
    "2. Create a function that receives the name of a community in Spain (\"Andalucía\", \"Cataluña\") and retrieves the code (`CCOM`) of that community\n",
    "3. Create a function that receives the name of a community and lists all its provinces (\"provincias\")\n",
    "4. Create a function that receives the name of a province and lists all its zipcodes (\"códigos postales\")"
   ]
  },
  {
   "cell_type": "code",
   "execution_count": 1,
   "metadata": {},
   "outputs": [],
   "source": [
    "import requests"
   ]
  },
  {
   "cell_type": "code",
   "execution_count": 2,
   "metadata": {},
   "outputs": [],
   "source": [
    "r = requests.get('https://apiv1.geoapi.es/comunidades',\n",
    "                 params={'key': '8d96c2590d61dec2fc25cea9984bd484bcb82802d766cced2413d1c844b0c15d'})"
   ]
  },
  {
   "cell_type": "code",
   "execution_count": 3,
   "metadata": {},
   "outputs": [
    {
     "data": {
      "text/plain": [
       "200"
      ]
     },
     "execution_count": 3,
     "metadata": {},
     "output_type": "execute_result"
    }
   ],
   "source": [
    "r.status_code"
   ]
  },
  {
   "cell_type": "code",
   "execution_count": 4,
   "metadata": {},
   "outputs": [],
   "source": [
    "import pandas as pd"
   ]
  },
  {
   "cell_type": "code",
   "execution_count": 5,
   "metadata": {},
   "outputs": [
    {
     "data": {
      "text/plain": [
       "{'update_date': '2016.07',\n",
       " 'size': 19,\n",
       " 'data': [{'CCOM': '01', 'COM': 'ANDALUCÍA'},\n",
       "  {'CCOM': '02', 'COM': 'ARAGÓN'},\n",
       "  {'CCOM': '03', 'COM': 'PRINCIPADO DE ASTURIAS'},\n",
       "  {'CCOM': '04', 'COM': 'ISLAS BALEARES'},\n",
       "  {'CCOM': '05', 'COM': 'CANARIAS'},\n",
       "  {'CCOM': '06', 'COM': 'CANTABRIA'},\n",
       "  {'CCOM': '07', 'COM': 'CASTILLA-LA MANCHA'},\n",
       "  {'CCOM': '08', 'COM': 'CASTILLA Y LEÓN'},\n",
       "  {'CCOM': '09', 'COM': 'CATALUÑA'},\n",
       "  {'CCOM': '10', 'COM': 'COMUNIDAD VALENCIANA'},\n",
       "  {'CCOM': '11', 'COM': 'EXTREMADURA'},\n",
       "  {'CCOM': '12', 'COM': 'GALICIA'},\n",
       "  {'CCOM': '13', 'COM': 'LA RIOJA'},\n",
       "  {'CCOM': '14', 'COM': 'MADRID'},\n",
       "  {'CCOM': '15', 'COM': 'NAVARRA'},\n",
       "  {'CCOM': '16', 'COM': 'PAÍS VASCO'},\n",
       "  {'CCOM': '17', 'COM': 'MURCIA'},\n",
       "  {'CCOM': '18', 'COM': 'CEUTA'},\n",
       "  {'CCOM': '19', 'COM': 'MELILLA'}]}"
      ]
     },
     "execution_count": 5,
     "metadata": {},
     "output_type": "execute_result"
    }
   ],
   "source": [
    "r.json()"
   ]
  },
  {
   "cell_type": "code",
   "execution_count": 6,
   "metadata": {},
   "outputs": [
    {
     "data": {
      "text/plain": [
       "COM\n",
       "ANDALUCÍA                 01\n",
       "ARAGÓN                    02\n",
       "PRINCIPADO DE ASTURIAS    03\n",
       "ISLAS BALEARES            04\n",
       "CANARIAS                  05\n",
       "Name: CCOM, dtype: object"
      ]
     },
     "execution_count": 6,
     "metadata": {},
     "output_type": "execute_result"
    }
   ],
   "source": [
    "communities = pd.DataFrame(r.json()['data']).set_index('COM')['CCOM']\n",
    "communities.head()"
   ]
  },
  {
   "cell_type": "code",
   "execution_count": 7,
   "metadata": {},
   "outputs": [
    {
     "data": {
      "text/plain": [
       "COM\n",
       "ANDALUCÍA                 01\n",
       "ARAGÓN                    02\n",
       "PRINCIPADO DE ASTURIAS    03\n",
       "ISLAS BALEARES            04\n",
       "CANARIAS                  05\n",
       "CANTABRIA                 06\n",
       "CASTILLA-LA MANCHA        07\n",
       "CASTILLA Y LEÓN           08\n",
       "CATALUÑA                  09\n",
       "COMUNIDAD VALENCIANA      10\n",
       "EXTREMADURA               11\n",
       "GALICIA                   12\n",
       "LA RIOJA                  13\n",
       "MADRID                    14\n",
       "NAVARRA                   15\n",
       "PAÍS VASCO                16\n",
       "MURCIA                    17\n",
       "CEUTA                     18\n",
       "MELILLA                   19\n",
       "Name: CCOM, dtype: object"
      ]
     },
     "execution_count": 7,
     "metadata": {},
     "output_type": "execute_result"
    }
   ],
   "source": [
    "communities"
   ]
  },
  {
   "cell_type": "code",
   "execution_count": 8,
   "metadata": {},
   "outputs": [
    {
     "data": {
      "text/plain": [
       "Index(['ISLAS BALEARES'], dtype='object', name='COM')"
      ]
     },
     "execution_count": 8,
     "metadata": {},
     "output_type": "execute_result"
    }
   ],
   "source": [
    "communities.index[communities == '04']"
   ]
  },
  {
   "cell_type": "code",
   "execution_count": 9,
   "metadata": {},
   "outputs": [
    {
     "data": {
      "text/plain": [
       "'04'"
      ]
     },
     "execution_count": 9,
     "metadata": {},
     "output_type": "execute_result"
    }
   ],
   "source": [
    "communities['ISLAS BALEARES']"
   ]
  },
  {
   "cell_type": "code",
   "execution_count": 10,
   "metadata": {},
   "outputs": [],
   "source": [
    "communities = pd.DataFrame(r.json()['data']).set_index('COM')['CCOM']\n",
    "\n",
    "def get_ccom_df(community_name):\n",
    "    return communities[community_name.upper()]"
   ]
  },
  {
   "cell_type": "code",
   "execution_count": 11,
   "metadata": {},
   "outputs": [
    {
     "name": "stdout",
     "output_type": "stream",
     "text": [
      "0\n",
      "1\n",
      "2\n",
      "3\n",
      "4\n",
      "I reached the end!\n"
     ]
    }
   ],
   "source": [
    "for ii in range(5):\n",
    "    print(ii)\n",
    "    #if ii > 2:\n",
    "    #    print(\"Breaking!\")\n",
    "    #    break\n",
    "else:\n",
    "    print(\"I reached the end!\")"
   ]
  },
  {
   "cell_type": "code",
   "execution_count": 12,
   "metadata": {},
   "outputs": [],
   "source": [
    "def get_ccom_alt(community_name):\n",
    "    for row in r.json()['data']:\n",
    "        if row['COM'] == community_name.upper():\n",
    "            return row['CCOM']\n",
    "    #else:\n",
    "    raise KeyError(\"That community does not exist\")"
   ]
  },
  {
   "cell_type": "code",
   "execution_count": 13,
   "metadata": {},
   "outputs": [
    {
     "data": {
      "text/plain": [
       "'01'"
      ]
     },
     "execution_count": 13,
     "metadata": {},
     "output_type": "execute_result"
    }
   ],
   "source": [
    "get_ccom_alt(\"Andalucía\")"
   ]
  },
  {
   "cell_type": "code",
   "execution_count": 14,
   "metadata": {},
   "outputs": [
    {
     "data": {
      "text/plain": [
       "'09'"
      ]
     },
     "execution_count": 14,
     "metadata": {},
     "output_type": "execute_result"
    }
   ],
   "source": [
    "get_ccom_alt(\"Cataluña\")"
   ]
  },
  {
   "cell_type": "code",
   "execution_count": 15,
   "metadata": {},
   "outputs": [
    {
     "data": {
      "text/plain": [
       "{'update_date': '2016.07',\n",
       " 'size': 19,\n",
       " 'data': [{'CCOM': '01', 'COM': 'ANDALUCÍA'},\n",
       "  {'CCOM': '02', 'COM': 'ARAGÓN'},\n",
       "  {'CCOM': '03', 'COM': 'PRINCIPADO DE ASTURIAS'},\n",
       "  {'CCOM': '04', 'COM': 'ISLAS BALEARES'},\n",
       "  {'CCOM': '05', 'COM': 'CANARIAS'},\n",
       "  {'CCOM': '06', 'COM': 'CANTABRIA'},\n",
       "  {'CCOM': '07', 'COM': 'CASTILLA-LA MANCHA'},\n",
       "  {'CCOM': '08', 'COM': 'CASTILLA Y LEÓN'},\n",
       "  {'CCOM': '09', 'COM': 'CATALUÑA'},\n",
       "  {'CCOM': '10', 'COM': 'COMUNIDAD VALENCIANA'},\n",
       "  {'CCOM': '11', 'COM': 'EXTREMADURA'},\n",
       "  {'CCOM': '12', 'COM': 'GALICIA'},\n",
       "  {'CCOM': '13', 'COM': 'LA RIOJA'},\n",
       "  {'CCOM': '14', 'COM': 'MADRID'},\n",
       "  {'CCOM': '15', 'COM': 'NAVARRA'},\n",
       "  {'CCOM': '16', 'COM': 'PAÍS VASCO'},\n",
       "  {'CCOM': '17', 'COM': 'MURCIA'},\n",
       "  {'CCOM': '18', 'COM': 'CEUTA'},\n",
       "  {'CCOM': '19', 'COM': 'MELILLA'}]}"
      ]
     },
     "execution_count": 15,
     "metadata": {},
     "output_type": "execute_result"
    }
   ],
   "source": [
    "r.json()"
   ]
  },
  {
   "cell_type": "code",
   "execution_count": 16,
   "metadata": {},
   "outputs": [],
   "source": [
    "def get_provinces(community_name):\n",
    "    ccom = get_ccom_alt(community_name)\n",
    "    r = requests.get(\n",
    "        'https://apiv1.geoapi.es/provincias',\n",
    "        params={\n",
    "            'key': '8d96c2590d61dec2fc25cea9984bd484bcb82802d766cced2413d1c844b0c15d',\n",
    "            'CCOM': ccom\n",
    "        }\n",
    "    )\n",
    "    #return [p['PRO'].capitalize() for p in r.json()['data']]\n",
    "    return r.json()['data']"
   ]
  },
  {
   "cell_type": "code",
   "execution_count": 17,
   "metadata": {},
   "outputs": [],
   "source": [
    "def get_all_provinces():\n",
    "    r = requests.get(\n",
    "        'https://apiv1.geoapi.es/provincias',\n",
    "        params={\n",
    "            'key': '8d96c2590d61dec2fc25cea9984bd484bcb82802d766cced2413d1c844b0c15d',\n",
    "        }\n",
    "    )\n",
    "    #return [p['PRO'].capitalize() for p in r.json()['data']]\n",
    "    return r.json()['data']"
   ]
  },
  {
   "cell_type": "code",
   "execution_count": 18,
   "metadata": {},
   "outputs": [
    {
     "data": {
      "text/plain": [
       "[{'CCOM': '16', 'CPRO': '01', 'PRO': 'ÁLAVA'},\n",
       " {'CCOM': '07', 'CPRO': '02', 'PRO': 'ALBACETE'},\n",
       " {'CCOM': '10', 'CPRO': '03', 'PRO': 'ALICANTE'},\n",
       " {'CCOM': '01', 'CPRO': '04', 'PRO': 'ALMERÍA'},\n",
       " {'CCOM': '03', 'CPRO': '33', 'PRO': 'PRINCIPADO DE ASTURIAS'},\n",
       " {'CCOM': '08', 'CPRO': '05', 'PRO': 'ÁVILA'},\n",
       " {'CCOM': '11', 'CPRO': '06', 'PRO': 'BADAJOZ'},\n",
       " {'CCOM': '09', 'CPRO': '08', 'PRO': 'BARCELONA'},\n",
       " {'CCOM': '08', 'CPRO': '09', 'PRO': 'BURGOS'},\n",
       " {'CCOM': '11', 'CPRO': '10', 'PRO': 'CÁCERES'},\n",
       " {'CCOM': '01', 'CPRO': '11', 'PRO': 'CÁDIZ'},\n",
       " {'CCOM': '06', 'CPRO': '39', 'PRO': 'CANTABRIA'},\n",
       " {'CCOM': '10', 'CPRO': '12', 'PRO': 'CASTELLÓN'},\n",
       " {'CCOM': '07', 'CPRO': '13', 'PRO': 'CIUDAD REAL'},\n",
       " {'CCOM': '01', 'CPRO': '14', 'PRO': 'CÓRDOBA'},\n",
       " {'CCOM': '12', 'CPRO': '15', 'PRO': 'LA CORUÑA'},\n",
       " {'CCOM': '07', 'CPRO': '16', 'PRO': 'CUENCA'},\n",
       " {'CCOM': '09', 'CPRO': '17', 'PRO': 'GERONA'},\n",
       " {'CCOM': '01', 'CPRO': '18', 'PRO': 'GRANADA'},\n",
       " {'CCOM': '07', 'CPRO': '19', 'PRO': 'GUADALAJARA'},\n",
       " {'CCOM': '16', 'CPRO': '20', 'PRO': 'GUIPÚZCOA'},\n",
       " {'CCOM': '01', 'CPRO': '21', 'PRO': 'HUELVA'},\n",
       " {'CCOM': '02', 'CPRO': '22', 'PRO': 'HUESCA'},\n",
       " {'CCOM': '04', 'CPRO': '07', 'PRO': 'ISLAS BALEARES'},\n",
       " {'CCOM': '01', 'CPRO': '23', 'PRO': 'JAÉN'},\n",
       " {'CCOM': '08', 'CPRO': '24', 'PRO': 'LEÓN'},\n",
       " {'CCOM': '09', 'CPRO': '25', 'PRO': 'LÉRIDA'},\n",
       " {'CCOM': '12', 'CPRO': '27', 'PRO': 'LUGO'},\n",
       " {'CCOM': '14', 'CPRO': '28', 'PRO': 'COMUNIDAD DE MADRID'},\n",
       " {'CCOM': '01', 'CPRO': '29', 'PRO': 'MÁLAGA'},\n",
       " {'CCOM': '17', 'CPRO': '30', 'PRO': 'REGIÓN DE MURCIA'},\n",
       " {'CCOM': '15', 'CPRO': '31', 'PRO': 'COMUNIDAD FORAL DE NAVARRA'},\n",
       " {'CCOM': '12', 'CPRO': '32', 'PRO': 'ORENSE'},\n",
       " {'CCOM': '08', 'CPRO': '34', 'PRO': 'PALENCIA'},\n",
       " {'CCOM': '05', 'CPRO': '35', 'PRO': 'LAS PALMAS'},\n",
       " {'CCOM': '12', 'CPRO': '36', 'PRO': 'PONTEVEDRA'},\n",
       " {'CCOM': '13', 'CPRO': '26', 'PRO': 'LA RIOJA'},\n",
       " {'CCOM': '08', 'CPRO': '37', 'PRO': 'SALAMANCA'},\n",
       " {'CCOM': '08', 'CPRO': '40', 'PRO': 'SEGOVIA'},\n",
       " {'CCOM': '01', 'CPRO': '41', 'PRO': 'SEVILLA'},\n",
       " {'CCOM': '08', 'CPRO': '42', 'PRO': 'SORIA'},\n",
       " {'CCOM': '09', 'CPRO': '43', 'PRO': 'TARRAGONA'},\n",
       " {'CCOM': '05', 'CPRO': '38', 'PRO': 'SANTA CRUZ DE TENERIFE'},\n",
       " {'CCOM': '02', 'CPRO': '44', 'PRO': 'TERUEL'},\n",
       " {'CCOM': '07', 'CPRO': '45', 'PRO': 'TOLEDO'},\n",
       " {'CCOM': '10', 'CPRO': '46', 'PRO': 'VALENCIA'},\n",
       " {'CCOM': '08', 'CPRO': '47', 'PRO': 'VALLADOLID'},\n",
       " {'CCOM': '16', 'CPRO': '48', 'PRO': 'VIZCAYA'},\n",
       " {'CCOM': '08', 'CPRO': '49', 'PRO': 'ZAMORA'},\n",
       " {'CCOM': '02', 'CPRO': '50', 'PRO': 'ZARAGOZA'},\n",
       " {'CCOM': '18', 'CPRO': '51', 'PRO': 'CEUTA'},\n",
       " {'CCOM': '19', 'CPRO': '52', 'PRO': 'MELILLA'}]"
      ]
     },
     "execution_count": 18,
     "metadata": {},
     "output_type": "execute_result"
    }
   ],
   "source": [
    "get_all_provinces()"
   ]
  },
  {
   "cell_type": "code",
   "execution_count": 19,
   "metadata": {},
   "outputs": [
    {
     "data": {
      "text/plain": [
       "[{'CCOM': '09', 'CPRO': '08', 'PRO': 'BARCELONA'},\n",
       " {'CCOM': '09', 'CPRO': '17', 'PRO': 'GERONA'},\n",
       " {'CCOM': '09', 'CPRO': '25', 'PRO': 'LÉRIDA'},\n",
       " {'CCOM': '09', 'CPRO': '43', 'PRO': 'TARRAGONA'}]"
      ]
     },
     "execution_count": 19,
     "metadata": {},
     "output_type": "execute_result"
    }
   ],
   "source": [
    "get_provinces(\"Cataluña\")"
   ]
  },
  {
   "cell_type": "code",
   "execution_count": 47,
   "metadata": {},
   "outputs": [],
   "source": [
    "def get_zipcodes(province_name):\n",
    "    zipcodes = []\n",
    "    cpro = [row['CPRO'] for row in get_all_provinces() if row['PRO'] == province_name.upper()]\n",
    "\n",
    "    r = requests.get(\n",
    "        'https://apiv1.geoapi.es/municipios',\n",
    "        params={\n",
    "            'key': '8d96c2590d61dec2fc25cea9984bd484bcb82802d766cced2413d1c844b0c15d',\n",
    "            'CPRO': cpro,\n",
    "        }\n",
    "    )\n",
    "\n",
    "    all_municipios = [row['CMUM'] for row in r.json()['data']]\n",
    "\n",
    "    for cmum in all_municipios:\n",
    "        r = requests.get(\n",
    "            'https://apiv1.geoapi.es/poblaciones',\n",
    "            params={\n",
    "                'key': '8d96c2590d61dec2fc25cea9984bd484bcb82802d766cced2413d1c844b0c15d',\n",
    "                'CPRO': cpro,\n",
    "                'CMUM': cmum,\n",
    "            }\n",
    "        )\n",
    "        all_poblaciones = [row['CUN'] for row in r.json()['data']]\n",
    "\n",
    "        for cun in all_poblaciones:\n",
    "            r = requests.get(\n",
    "                'https://apiv1.geoapi.es/cps',\n",
    "                params={\n",
    "                    'key': '8d96c2590d61dec2fc25cea9984bd484bcb82802d766cced2413d1c844b0c15d',\n",
    "                    'CPRO': cpro,\n",
    "                    'CMUM': cmum,\n",
    "                    'CUN': cun,\n",
    "                }\n",
    "            )\n",
    "\n",
    "            zipcodes.extend([row['CPOS'] for row in r.json()['data']])\n",
    "\n",
    "    return zipcodes"
   ]
  },
  {
   "cell_type": "code",
   "execution_count": 48,
   "metadata": {},
   "outputs": [
    {
     "data": {
      "text/plain": [
       "['04510',\n",
       " '04510',\n",
       " '04510',\n",
       " '04510',\n",
       " '04510',\n",
       " '04510',\n",
       " '04510',\n",
       " '04520',\n",
       " '04533',\n",
       " '04533',\n",
       " '04533',\n",
       " '04770',\n",
       " '04779',\n",
       " '04778',\n",
       " '04779',\n",
       " '04779',\n",
       " '04779',\n",
       " '04770',\n",
       " '04779',\n",
       " '04770',\n",
       " '04779',\n",
       " '04778',\n",
       " '04779',\n",
       " '04778',\n",
       " '04778',\n",
       " '04770',\n",
       " '04778',\n",
       " '04778',\n",
       " '04770',\n",
       " '04770',\n",
       " '04770',\n",
       " '04770',\n",
       " '04770',\n",
       " '04779',\n",
       " '04778',\n",
       " '04779',\n",
       " '04857',\n",
       " '04857',\n",
       " '04858',\n",
       " '04858',\n",
       " '04858',\n",
       " '04858',\n",
       " '04858',\n",
       " '04857',\n",
       " '04858',\n",
       " '04858',\n",
       " '04858',\n",
       " '04858',\n",
       " '04858',\n",
       " '04858',\n",
       " '04858',\n",
       " '04531',\n",
       " '04558',\n",
       " '04600',\n",
       " '04800',\n",
       " '04814',\n",
       " '04814',\n",
       " '04814',\n",
       " '04692',\n",
       " '04814',\n",
       " '04812',\n",
       " '04812',\n",
       " '04814',\n",
       " '04812',\n",
       " '04813',\n",
       " '04813',\n",
       " '04480',\n",
       " '04768',\n",
       " '04768',\n",
       " '04897',\n",
       " '04897',\n",
       " '04897',\n",
       " '04897',\n",
       " '04897',\n",
       " '04898',\n",
       " '04897',\n",
       " '04897',\n",
       " '04276',\n",
       " '04567',\n",
       " '04400',\n",
       " '04400',\n",
       " '04409',\n",
       " '04001',\n",
       " '04002',\n",
       " '04003',\n",
       " '04004',\n",
       " '04005',\n",
       " '04006',\n",
       " '04007',\n",
       " '04008',\n",
       " '04009',\n",
       " '04120',\n",
       " '04130',\n",
       " '04160',\n",
       " '04120',\n",
       " '04150',\n",
       " '04120',\n",
       " '04002',\n",
       " '04120',\n",
       " '04160',\n",
       " '04160',\n",
       " '04002',\n",
       " '04002',\n",
       " '04120',\n",
       " '04120',\n",
       " '04150',\n",
       " '04150',\n",
       " '04150',\n",
       " '04130',\n",
       " '04131',\n",
       " '04150',\n",
       " '04120',\n",
       " '04458',\n",
       " '04568',\n",
       " '04629',\n",
       " '04628',\n",
       " '04628',\n",
       " '04629',\n",
       " '04629',\n",
       " '04628',\n",
       " '04628',\n",
       " '04629',\n",
       " '04660',\n",
       " '04660',\n",
       " '04660',\n",
       " '04660',\n",
       " '04660',\n",
       " '04660',\n",
       " '04660',\n",
       " '04660',\n",
       " '04660',\n",
       " '04660',\n",
       " '04660',\n",
       " '04660',\n",
       " '04660',\n",
       " '04660',\n",
       " '04660',\n",
       " '04660',\n",
       " '04660',\n",
       " '04660',\n",
       " '04660',\n",
       " '04660',\n",
       " '04660',\n",
       " '04888',\n",
       " '04889',\n",
       " '04889',\n",
       " '04713',\n",
       " '04479',\n",
       " '04888',\n",
       " '04288',\n",
       " '04288',\n",
       " '04288',\n",
       " '04289',\n",
       " '04288',\n",
       " '04288',\n",
       " '04288',\n",
       " '04288',\n",
       " '04458',\n",
       " '04410',\n",
       " '04410',\n",
       " '04276',\n",
       " '04276',\n",
       " '04274',\n",
       " '04276',\n",
       " '04569',\n",
       " '04769',\n",
       " '04760',\n",
       " '04769',\n",
       " '04760',\n",
       " '04769',\n",
       " '04769',\n",
       " '04769',\n",
       " '04769',\n",
       " '04450',\n",
       " '04450',\n",
       " '04815',\n",
       " '04850',\n",
       " '04850',\n",
       " '04858',\n",
       " '04850',\n",
       " '04815',\n",
       " '04850',\n",
       " '04850',\n",
       " '04850',\n",
       " '04850',\n",
       " '04149',\n",
       " '04149',\n",
       " '04149',\n",
       " '04149',\n",
       " '04149',\n",
       " '04140',\n",
       " '04149',\n",
       " '04149',\n",
       " '04149',\n",
       " '04149',\n",
       " '04149',\n",
       " '04149',\n",
       " '04149',\n",
       " '04149',\n",
       " '04149',\n",
       " '04149',\n",
       " '04149',\n",
       " '04149',\n",
       " '04149',\n",
       " '04149',\n",
       " '04149',\n",
       " '04140',\n",
       " '04149',\n",
       " '04149',\n",
       " '04149',\n",
       " '04149',\n",
       " '04149',\n",
       " '04212',\n",
       " '04859',\n",
       " '04859',\n",
       " '04859',\n",
       " '04859',\n",
       " '04825',\n",
       " '04825',\n",
       " '04825',\n",
       " '04825',\n",
       " '04825',\n",
       " '04825',\n",
       " '04825',\n",
       " '04825',\n",
       " '04825',\n",
       " '04859',\n",
       " '04618',\n",
       " '04618',\n",
       " '04619',\n",
       " '04610',\n",
       " '04618',\n",
       " '04619',\n",
       " '04618',\n",
       " '04610',\n",
       " '04618',\n",
       " '04610',\n",
       " '04618',\n",
       " '04618',\n",
       " '04618',\n",
       " '04619',\n",
       " '04610',\n",
       " '04618',\n",
       " '04619',\n",
       " '04619',\n",
       " '04619',\n",
       " '04619',\n",
       " '04647',\n",
       " '04618',\n",
       " '04619',\n",
       " '04619',\n",
       " '04619',\n",
       " '04619',\n",
       " '04647',\n",
       " '04618',\n",
       " '04619',\n",
       " '04610',\n",
       " '04618',\n",
       " '04618',\n",
       " '04618',\n",
       " '04617',\n",
       " '04618',\n",
       " '04619',\n",
       " '04618',\n",
       " '04619',\n",
       " '04648',\n",
       " '04619',\n",
       " '04610',\n",
       " '04618',\n",
       " '04618',\n",
       " '04610',\n",
       " '04618',\n",
       " '04619',\n",
       " '04616',\n",
       " '04618',\n",
       " '04647',\n",
       " '04750',\n",
       " '04750',\n",
       " '04700',\n",
       " '04712',\n",
       " '04700',\n",
       " '04711',\n",
       " '04700',\n",
       " '04715',\n",
       " '04715',\n",
       " '04716',\n",
       " '04715',\n",
       " '04700',\n",
       " '04716',\n",
       " '04700',\n",
       " '04710',\n",
       " '04712',\n",
       " '04715',\n",
       " '04729',\n",
       " '04729',\n",
       " '04729',\n",
       " '04728',\n",
       " '04500',\n",
       " '04500',\n",
       " '04500',\n",
       " '04500',\n",
       " '04500',\n",
       " '04869',\n",
       " '04869',\n",
       " '04869',\n",
       " '04869',\n",
       " '04869',\n",
       " '04869',\n",
       " '04869',\n",
       " '04869',\n",
       " '04479',\n",
       " '04460',\n",
       " '04479',\n",
       " '04560',\n",
       " '04560',\n",
       " '04560',\n",
       " '04560',\n",
       " '04560',\n",
       " '04288',\n",
       " '04289',\n",
       " '04289',\n",
       " '04280',\n",
       " '04288',\n",
       " '04630',\n",
       " '04550',\n",
       " '04559',\n",
       " '04559',\n",
       " '04550',\n",
       " '04549',\n",
       " '04550',\n",
       " '04550',\n",
       " '04558',\n",
       " '04550',\n",
       " '04549',\n",
       " '04550',\n",
       " '04550',\n",
       " '04559',\n",
       " '04409',\n",
       " '04230',\n",
       " '04230',\n",
       " '04230',\n",
       " '04230',\n",
       " '04230',\n",
       " '04691',\n",
       " '04692',\n",
       " '04662',\n",
       " '04691',\n",
       " '04693',\n",
       " '04690',\n",
       " '04691',\n",
       " '04691',\n",
       " '04690',\n",
       " '04693',\n",
       " '04693',\n",
       " '04600',\n",
       " '04691',\n",
       " '04693',\n",
       " '04662',\n",
       " '04690',\n",
       " '04692',\n",
       " '04692',\n",
       " '04692',\n",
       " '04693',\n",
       " '04662',\n",
       " '04693',\n",
       " '04691',\n",
       " '04694',\n",
       " '04694',\n",
       " '04662',\n",
       " '04693',\n",
       " '04691',\n",
       " '04431',\n",
       " '04430',\n",
       " '04868',\n",
       " '04868',\n",
       " '04868',\n",
       " '04470',\n",
       " '04859',\n",
       " '04271',\n",
       " '04271',\n",
       " '04271',\n",
       " '04271',\n",
       " '04271',\n",
       " '04271',\n",
       " '04271',\n",
       " '04271',\n",
       " '04271',\n",
       " '04210',\n",
       " '04211',\n",
       " '04114',\n",
       " '04211',\n",
       " '04211',\n",
       " '04887',\n",
       " '04887',\n",
       " '04867',\n",
       " '04867',\n",
       " '04838',\n",
       " '04839',\n",
       " '04839',\n",
       " '04839',\n",
       " '04838',\n",
       " '04838',\n",
       " '04638',\n",
       " '04638',\n",
       " '04638',\n",
       " '04639',\n",
       " '04638',\n",
       " '04638',\n",
       " '04638',\n",
       " '04745',\n",
       " '04745',\n",
       " '04746',\n",
       " '04540',\n",
       " '04540',\n",
       " '04540',\n",
       " '04540',\n",
       " '04540',\n",
       " '04540',\n",
       " '04540',\n",
       " '04115',\n",
       " '04149',\n",
       " '04116',\n",
       " '04113',\n",
       " '04117',\n",
       " '04118',\n",
       " '04110',\n",
       " '04116',\n",
       " '04116',\n",
       " '04116',\n",
       " '04119',\n",
       " '04118',\n",
       " '04117',\n",
       " '04116',\n",
       " '04117',\n",
       " '04100',\n",
       " '04114',\n",
       " '04117',\n",
       " '04117',\n",
       " '04151',\n",
       " '04115',\n",
       " '04115',\n",
       " '04118',\n",
       " '04114',\n",
       " '04117',\n",
       " '04117',\n",
       " '04118',\n",
       " '04188',\n",
       " '04114',\n",
       " '04114',\n",
       " '04113',\n",
       " '04117',\n",
       " '04459',\n",
       " '04459',\n",
       " '04212',\n",
       " '04212',\n",
       " '04860',\n",
       " '04860',\n",
       " '04860',\n",
       " '04860',\n",
       " '04811',\n",
       " '04640',\n",
       " '04811',\n",
       " '04810',\n",
       " '04810',\n",
       " '04811',\n",
       " '04458',\n",
       " '04810',\n",
       " '04810',\n",
       " '04810',\n",
       " '04810',\n",
       " '04479',\n",
       " '04779',\n",
       " '04479',\n",
       " '04250',\n",
       " '04259',\n",
       " '04647',\n",
       " '04648',\n",
       " '04640',\n",
       " '04647',\n",
       " '04647',\n",
       " '04648',\n",
       " '04648',\n",
       " '04647',\n",
       " '04640',\n",
       " '04647',\n",
       " '04649',\n",
       " '04640',\n",
       " '04647',\n",
       " '04647',\n",
       " '04640',\n",
       " '04648',\n",
       " '04640',\n",
       " '04647',\n",
       " '04648',\n",
       " '04640',\n",
       " '04648',\n",
       " '04640',\n",
       " '04870',\n",
       " '04870',\n",
       " '04440',\n",
       " '04260',\n",
       " '04260',\n",
       " '04260',\n",
       " '04720',\n",
       " '04740',\n",
       " '04720',\n",
       " '04741',\n",
       " '04740',\n",
       " '04743',\n",
       " '04720',\n",
       " '04740',\n",
       " '04740',\n",
       " '04743',\n",
       " '04740',\n",
       " '04741',\n",
       " '04568',\n",
       " '04420',\n",
       " '04420',\n",
       " '04420',\n",
       " '04420',\n",
       " '04213',\n",
       " '04213',\n",
       " '04213',\n",
       " '04897',\n",
       " '04897',\n",
       " '04897',\n",
       " '04899',\n",
       " '04890',\n",
       " '04899',\n",
       " '04890',\n",
       " '04897',\n",
       " '04897',\n",
       " '04899',\n",
       " '04897',\n",
       " '04899',\n",
       " '04899',\n",
       " '04890',\n",
       " '04897',\n",
       " '04899',\n",
       " '04890',\n",
       " '04890',\n",
       " '04898',\n",
       " '04897',\n",
       " '04899',\n",
       " '04890',\n",
       " '04897',\n",
       " '04899',\n",
       " '04878',\n",
       " '04877',\n",
       " '04149',\n",
       " '04279',\n",
       " '04278',\n",
       " '04248',\n",
       " '04277',\n",
       " '04278',\n",
       " '04279',\n",
       " '04277',\n",
       " '04278',\n",
       " '04277',\n",
       " '04278',\n",
       " '04270',\n",
       " '04270',\n",
       " '04271',\n",
       " '04277',\n",
       " '04277',\n",
       " '04149',\n",
       " '04277',\n",
       " '04270',\n",
       " '04279',\n",
       " '04277',\n",
       " '04279',\n",
       " '04289',\n",
       " '04270',\n",
       " '04277',\n",
       " '04270',\n",
       " '04278',\n",
       " '04277',\n",
       " '04271',\n",
       " '04278',\n",
       " '04279',\n",
       " '04271',\n",
       " '04277',\n",
       " '04277',\n",
       " '04279',\n",
       " '04277',\n",
       " '04277',\n",
       " '04271',\n",
       " '04277',\n",
       " '04279',\n",
       " '04271',\n",
       " '04279',\n",
       " '04271',\n",
       " '04277',\n",
       " '04277',\n",
       " '04270',\n",
       " '04279',\n",
       " '04277',\n",
       " '04277',\n",
       " '04277',\n",
       " '04878',\n",
       " '04200',\n",
       " '04200',\n",
       " '04200',\n",
       " '04200',\n",
       " '04200',\n",
       " '04200',\n",
       " '04200',\n",
       " '04211',\n",
       " '04200',\n",
       " '04200',\n",
       " '04211',\n",
       " '04211',\n",
       " '04692',\n",
       " '04661',\n",
       " '04692',\n",
       " '04692',\n",
       " '04692',\n",
       " '04692',\n",
       " '04275',\n",
       " '04275',\n",
       " '04275',\n",
       " '04279',\n",
       " '04275',\n",
       " '04569',\n",
       " '04659',\n",
       " '04887',\n",
       " '04889',\n",
       " '04887',\n",
       " '04887',\n",
       " '04880',\n",
       " '04275',\n",
       " '04880',\n",
       " '04887',\n",
       " '04532',\n",
       " '04530',\n",
       " '04532',\n",
       " '04532',\n",
       " '04532',\n",
       " '04530',\n",
       " '04532',\n",
       " '04639',\n",
       " '04639',\n",
       " '04639',\n",
       " '04211',\n",
       " '04211',\n",
       " '04211',\n",
       " '04211',\n",
       " '04211',\n",
       " '04274',\n",
       " '04279',\n",
       " '04279',\n",
       " '04274',\n",
       " '04274',\n",
       " '04274',\n",
       " '04279',\n",
       " '04279',\n",
       " '04274',\n",
       " '04279',\n",
       " '04279',\n",
       " '04879',\n",
       " '04879',\n",
       " '04212',\n",
       " '04830',\n",
       " '04829',\n",
       " '04830',\n",
       " '04830',\n",
       " '04830',\n",
       " '04829',\n",
       " '04830',\n",
       " '04839',\n",
       " '04839',\n",
       " '04830',\n",
       " '04830',\n",
       " '04830',\n",
       " '04829',\n",
       " '04830',\n",
       " '04830',\n",
       " '04830',\n",
       " '04830',\n",
       " '04830',\n",
       " '04839',\n",
       " '04830',\n",
       " '04828',\n",
       " '04820',\n",
       " '04829',\n",
       " '04826',\n",
       " '04820',\n",
       " '04826',\n",
       " '04827',\n",
       " '04828',\n",
       " '04820',\n",
       " '04828',\n",
       " '04828',\n",
       " '04828',\n",
       " '04828',\n",
       " '04829',\n",
       " '04820',\n",
       " '04828',\n",
       " '04829',\n",
       " '04820',\n",
       " '04829',\n",
       " '04829',\n",
       " '04827',\n",
       " '04826',\n",
       " '04829',\n",
       " '04820',\n",
       " '04828',\n",
       " '04829',\n",
       " '04828',\n",
       " '04826',\n",
       " '04827',\n",
       " '04827',\n",
       " '04826',\n",
       " '04820',\n",
       " '04820',\n",
       " '04827',\n",
       " '04820',\n",
       " '04620',\n",
       " '04620',\n",
       " '04240',\n",
       " '04240',\n",
       " '04738',\n",
       " '04738',\n",
       " '04738',\n",
       " '04738',\n",
       " '04738',\n",
       " '04738',\n",
       " '04738',\n",
       " '04661',\n",
       " '04661',\n",
       " '04661',\n",
       " '04661',\n",
       " '04650',\n",
       " '04661',\n",
       " '04650',\n",
       " '04662',\n",
       " '04650']"
      ]
     },
     "execution_count": 48,
     "metadata": {},
     "output_type": "execute_result"
    }
   ],
   "source": [
    "# Super slow!\n",
    "get_zipcodes(\"ALMERÍA\")"
   ]
  },
  {
   "cell_type": "markdown",
   "metadata": {},
   "source": [
    "Ideas:\n",
    "\n",
    "* Print only unique?\n",
    "* Use generators (not useful for the whole list)\n",
    "* Use asynchronicity https://pawelmhm.github.io/asyncio/python/aiohttp/2016/04/22/asyncio-aiohttp.html"
   ]
  }
 ],
 "metadata": {
  "kernelspec": {
   "display_name": "Python 3",
   "language": "python",
   "name": "python3"
  },
  "language_info": {
   "codemirror_mode": {
    "name": "ipython",
    "version": 3
   },
   "file_extension": ".py",
   "mimetype": "text/x-python",
   "name": "python",
   "nbconvert_exporter": "python",
   "pygments_lexer": "ipython3",
   "version": "3.6.6"
  }
 },
 "nbformat": 4,
 "nbformat_minor": 2
}
