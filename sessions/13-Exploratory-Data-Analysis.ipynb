{
 "cells": [
  {
   "cell_type": "markdown",
   "metadata": {},
   "source": [
    "![BTS](img/Logo-BTS.jpg)\n",
    "\n",
    "# Session 13: Exploratory Data Analysis\n",
    "\n",
    "### Juan Luis Cano Rodríguez <juan.cano@bts.tech> - Data Science Foundations (2018-11-16)\n",
    "\n",
    "Open this notebook in Google Colaboratory: [![Open in Colab](https://colab.research.google.com/assets/colab-badge.svg)](https://colab.research.google.com/github/Juanlu001/bts-mbds-data-science-foundations/blob/master/sessions/13-Exploratory-Data-Analysis.ipynb)"
   ]
  },
  {
   "cell_type": "markdown",
   "metadata": {},
   "source": [
    "## Exercise 1: EDA on grocery sales dataset (I)\n",
    "\n",
    "We will perform an exploratory data analysis of the \"Corporación Favorita Grocery Sales Forecasting\" Kaggle competition dataset:\n",
    "\n",
    "https://www.kaggle.com/c/favorita-grocery-sales-forecasting/data\n",
    "\n",
    "You already have a sample to play with.\n",
    "\n",
    "1. Load all the datasets, with attention to: dates, _unique_ indexes, numerical variables that are in fact categorical variables\n",
    "2. Count the categorical variables: how many unique stores, items, product families... are there?\n",
    "3. Try to find out what families of products have integer `unit_sales` and which ones have a floating point value, and plot the overall distribution of both\n",
    "4. Are there any days without transactions/sales? Is this data consistent with the vacations?\n",
    "5. Visualize the transactions volume by year and month in one single plot. Do you observe anything special?\n",
    "6. Visualize the transactions volume by day of week. Is there a weekday/weekend pattern in the data?\n",
    "7. Visualize the transactions by day of the month. Do you observe any strange peaks? Try to figure out what's going on.\n",
    "8. \"A magnitude 7.8 earthquake struck Ecuador on April 16, 2016\". Visualize the transactions volume by day of April every year. Is the earthquake visible?"
   ]
  },
  {
   "cell_type": "code",
   "execution_count": null,
   "metadata": {},
   "outputs": [],
   "source": []
  },
  {
   "cell_type": "markdown",
   "metadata": {},
   "source": [
    "## Exercise 2: EDA on grocery sales dataset (II)\n",
    "\n",
    "In groups, ask your own questions about the data. Ideas:\n",
    "\n",
    "* Are the products on promotion more successful?\n",
    "* Negative transactions (returns): which stores? Which products or families? Which days?\n",
    "* Adjust for holidays when displaying trend by day of week\n",
    "* Perishable items in general and in the vicinity of the earthquake\n",
    "* Do the type and cluster of the stores have an effect on the volume of transactions?\n",
    "* Does any of the product families exhibit a distinct pattern?"
   ]
  },
  {
   "cell_type": "markdown",
   "metadata": {},
   "source": []
  }
 ],
 "metadata": {
  "kernelspec": {
   "display_name": "Python 3",
   "language": "python",
   "name": "python3"
  },
  "language_info": {
   "codemirror_mode": {
    "name": "ipython",
    "version": 3
   },
   "file_extension": ".py",
   "mimetype": "text/x-python",
   "name": "python",
   "nbconvert_exporter": "python",
   "pygments_lexer": "ipython3",
   "version": "3.6.6"
  }
 },
 "nbformat": 4,
 "nbformat_minor": 2
}
