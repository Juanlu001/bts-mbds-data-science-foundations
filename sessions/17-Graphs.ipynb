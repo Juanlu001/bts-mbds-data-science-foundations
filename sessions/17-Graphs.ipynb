{
 "cells": [
  {
   "cell_type": "markdown",
   "metadata": {},
   "source": [
    "![BTS](img/Logo-BTS.jpg)\n",
    "\n",
    "# Session 17: Graphs\n",
    "\n",
    "### Juan Luis Cano Rodríguez <juan.cano@bts.tech> - Data Science Foundations (2018-12-05)\n",
    "\n",
    "Open this notebook in Google Colaboratory: [![Open in Colab](https://colab.research.google.com/assets/colab-badge.svg)](https://colab.research.google.com/github/Juanlu001/bts-mbds-data-science-foundations/blob/master/sessions/17-Graphs.ipynb)"
   ]
  },
  {
   "cell_type": "markdown",
   "metadata": {},
   "source": [
    "## Creating graphs in NetworkX\n",
    "\n",
    "In NetworkX, nodes can be any hashable object: a text string, an image, an XML object, another Graph, a customized node object..."
   ]
  },
  {
   "cell_type": "code",
   "execution_count": null,
   "metadata": {},
   "outputs": [],
   "source": []
  },
  {
   "cell_type": "markdown",
   "metadata": {},
   "source": [
    "We have a special class, `DiGraph`, that helps create directed graphs and has extra properties."
   ]
  },
  {
   "cell_type": "markdown",
   "metadata": {},
   "source": [
    "## Basic properties"
   ]
  },
  {
   "cell_type": "code",
   "execution_count": null,
   "metadata": {},
   "outputs": [],
   "source": []
  },
  {
   "cell_type": "markdown",
   "metadata": {},
   "source": [
    "## Graph generators\n",
    "\n",
    "In NetworkX there are different graph generators we can use:\n",
    "\n",
    "* Classic small graphs\n",
    "* Constructive graph generators\n",
    "* Stochastic graph generators"
   ]
  },
  {
   "cell_type": "code",
   "execution_count": null,
   "metadata": {},
   "outputs": [],
   "source": []
  },
  {
   "cell_type": "markdown",
   "metadata": {},
   "source": [
    "## Analysis"
   ]
  },
  {
   "cell_type": "code",
   "execution_count": null,
   "metadata": {},
   "outputs": [],
   "source": []
  },
  {
   "cell_type": "markdown",
   "metadata": {},
   "source": [
    "## Advanced drawing"
   ]
  },
  {
   "cell_type": "code",
   "execution_count": null,
   "metadata": {},
   "outputs": [],
   "source": []
  },
  {
   "cell_type": "markdown",
   "metadata": {},
   "source": [
    "## Exercise 1: The Königsberg graph\n",
    "\n",
    "1. Create a (undirected) graph representing the Königsberg bridges\n",
    "2. Look in the [`Algorithms` documentation](https://networkx.github.io/documentation/stable/reference/algorithms/index.html) for a function to check whether there is a way to traverse each bridge only once _(Hint: look for the name of the matematician that studied the problem!)_\n",
    "3. Is there a way to add an 8th bridge and make the graph Eulerian? Reason why, and print the Eulerian circuit\n",
    "4. Is there a way to add a 9th bridge so the Eulerian circuit cannot start in the Northern part of the city? Add it, and confirm your suspicion printing the resulting Eulerian circuit "
   ]
  },
  {
   "cell_type": "code",
   "execution_count": null,
   "metadata": {},
   "outputs": [],
   "source": []
  },
  {
   "cell_type": "markdown",
   "metadata": {},
   "source": [
    "## Exercise 2: Flights data\n",
    "\n",
    "1. Load `airports.dat` and `routes.dat` from the OpenFlights database https://openflights.org/data.html\n",
    "2. Create a dataframe `routes_us` with the routes _only_ from the airports in the United States\n",
    "3. Draw the routes using the number of total flights to change the size of the circles\n",
    "4. Which are the top 10 busies airports?"
   ]
  },
  {
   "cell_type": "code",
   "execution_count": null,
   "metadata": {},
   "outputs": [],
   "source": []
  },
  {
   "cell_type": "markdown",
   "metadata": {},
   "source": [
    "## Exercise 3: Cambridge places\n",
    "\n",
    "1. Create a **directed** graph from the edge list available in `data/cambridge_net.txt`\n",
    "2. Compute what's the _average degree_ (number of nodes per edge)\n",
    "3. Represent the in-degree and the out-degree of the nodes like this:\n",
    "\n",
    "![Degrees](img/degrees.png)\n",
    "\n",
    "And 4. Correct the plot to use logarithmic scale in both axis"
   ]
  },
  {
   "cell_type": "code",
   "execution_count": null,
   "metadata": {},
   "outputs": [],
   "source": []
  }
 ],
 "metadata": {
  "kernelspec": {
   "display_name": "Python 3",
   "language": "python",
   "name": "python3"
  },
  "language_info": {
   "codemirror_mode": {
    "name": "ipython",
    "version": 3
   },
   "file_extension": ".py",
   "mimetype": "text/x-python",
   "name": "python",
   "nbconvert_exporter": "python",
   "pygments_lexer": "ipython3",
   "version": "3.6.6"
  }
 },
 "nbformat": 4,
 "nbformat_minor": 2
}
